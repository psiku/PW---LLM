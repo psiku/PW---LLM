{
  "cells": [
    {
      "cell_type": "markdown",
      "metadata": {
        "id": "ZY88NuVprDxy"
      },
      "source": [
        "#PyTorch Intro - Tensory - Laboratorium\n",
        "\n",
        "**Tensor** w bibliotece PyTorch jest specjalizowaną strukturą danych podobną do wielowymiarowej tablicy `ndarray` w bibliotece numpy. Na tensorach można wykonywać typowe operacje algebry liniowej oraz operacje specyficzne dla głębokiego uczenia jak na przykład automatyczne różniczkowanie (autograd).\n",
        "Tensory wykorzystujemy do przechowywania przetwarzanych danych oraz parametrów (wag) modeli. Biblioteka PyTorch pozwala na efektywne przetwarzanie tensorów na CPU lub GPU."
      ]
    },
    {
      "cell_type": "markdown",
      "metadata": {
        "id": "wQ6auP2WCnLW"
      },
      "source": [
        "##Przygotowanie środowiska\n",
        "Upewnij się, że notatnik jest uruchomiony na maszynie z GPU. Jeśli GPU nie jest dostępne zmień typ maszyny (Runtime | Change runtime type) i wybierz T4 GPU."
      ]
    },
    {
      "cell_type": "code",
      "execution_count": 1,
      "metadata": {
        "id": "FfwBYOmmnw0b",
        "colab": {
          "base_uri": "https://localhost:8080/"
        },
        "outputId": "151f9649-7993-4327-c378-610c98243337"
      },
      "outputs": [
        {
          "output_type": "stream",
          "name": "stdout",
          "text": [
            "Tue Mar 11 19:17:22 2025       \n",
            "+-----------------------------------------------------------------------------------------+\n",
            "| NVIDIA-SMI 550.54.15              Driver Version: 550.54.15      CUDA Version: 12.4     |\n",
            "|-----------------------------------------+------------------------+----------------------+\n",
            "| GPU  Name                 Persistence-M | Bus-Id          Disp.A | Volatile Uncorr. ECC |\n",
            "| Fan  Temp   Perf          Pwr:Usage/Cap |           Memory-Usage | GPU-Util  Compute M. |\n",
            "|                                         |                        |               MIG M. |\n",
            "|=========================================+========================+======================|\n",
            "|   0  Tesla T4                       Off |   00000000:00:04.0 Off |                    0 |\n",
            "| N/A   47C    P8             11W /   70W |       0MiB /  15360MiB |      0%      Default |\n",
            "|                                         |                        |                  N/A |\n",
            "+-----------------------------------------+------------------------+----------------------+\n",
            "                                                                                         \n",
            "+-----------------------------------------------------------------------------------------+\n",
            "| Processes:                                                                              |\n",
            "|  GPU   GI   CI        PID   Type   Process name                              GPU Memory |\n",
            "|        ID   ID                                                               Usage      |\n",
            "|=========================================================================================|\n",
            "|  No running processes found                                                             |\n",
            "+-----------------------------------------------------------------------------------------+\n"
          ]
        }
      ],
      "source": [
        "!nvidia-smi"
      ]
    },
    {
      "cell_type": "markdown",
      "metadata": {
        "id": "n1G8i4wTrfq6"
      },
      "source": [
        "Biblioteka PyTorch (`torch`) jest domyślnie zainstalowana w środowisku COLAB."
      ]
    },
    {
      "cell_type": "code",
      "execution_count": 44,
      "metadata": {
        "id": "FDGaiuGLrapP",
        "colab": {
          "base_uri": "https://localhost:8080/"
        },
        "outputId": "54d746d8-d655-4972-f4d4-2a75746068b6"
      },
      "outputs": [
        {
          "output_type": "stream",
          "name": "stdout",
          "text": [
            "Wersja biblioteki PyTorch: 2.5.1+cu124\n"
          ]
        }
      ],
      "source": [
        "import torch\n",
        "import numpy as np\n",
        "import time\n",
        "import matplotlib.pyplot as plt\n",
        "\n",
        "print(f\"Wersja biblioteki PyTorch: {torch.__version__}\")"
      ]
    },
    {
      "cell_type": "markdown",
      "metadata": {
        "id": "EJ6c3h4nryQJ"
      },
      "source": [
        "Sprawdzenie dostępnego urządzenia GPU."
      ]
    },
    {
      "cell_type": "code",
      "execution_count": 3,
      "metadata": {
        "id": "VGyMG3_2rxIC",
        "colab": {
          "base_uri": "https://localhost:8080/"
        },
        "outputId": "186ad27f-7d88-4286-d79a-72112222d959"
      },
      "outputs": [
        {
          "output_type": "stream",
          "name": "stdout",
          "text": [
            "Dostępność GPU: True\n",
            "Typ GPU: Tesla T4\n"
          ]
        }
      ],
      "source": [
        "print(f\"Dostępność GPU: {torch.cuda.is_available()}\")\n",
        "print(f\"Typ GPU: {torch.cuda.get_device_name(0)}\")"
      ]
    },
    {
      "cell_type": "markdown",
      "source": [
        "##Zadania do wykonania"
      ],
      "metadata": {
        "id": "a0eTA-dNdwEL"
      }
    },
    {
      "cell_type": "markdown",
      "source": [
        "###Zadanie 1: Tworzenie tensorów\n",
        "Wygeneruj tensor o pokazanej poniżej zawartości nie używając pętli. Wskazówka: Wykorzystaj funkcję `torch.full` i mechanizm indeksowania tensorów.\n",
        "\n",
        "```\n",
        " 1 2 1 1 1 1 2 1 1 1 1 2 1\n",
        " 1 2 1 1 1 1 2 1 1 1 1 2 1\n",
        " 2 2 2 2 2 2 2 2 2 2 2 2 2\n",
        " 1 2 1 1 1 1 2 1 1 1 1 2 1\n",
        " 1 2 1 3 3 1 2 1 3 3 1 2 1\n",
        " 1 2 1 3 3 1 2 1 3 3 1 2 1\n",
        " 1 2 1 1 1 1 2 1 1 1 1 2 1\n",
        " 2 2 2 2 2 2 2 2 2 2 2 2 2\n",
        " 1 2 1 1 1 1 2 1 1 1 1 2 1\n",
        " 1 2 1 3 3 1 2 1 3 3 1 2 1\n",
        " 1 2 1 3 3 1 2 1 3 3 1 2 1\n",
        " 1 2 1 1 1 1 2 1 1 1 1 2 1\n",
        " 2 2 2 2 2 2 2 2 2 2 2 2 2\n",
        " 1 2 1 1 1 1 2 1 1 1 1 2 1\n",
        "```\n",
        "\n"
      ],
      "metadata": {
        "id": "xRZ4mKnwqa0O"
      }
    },
    {
      "cell_type": "code",
      "source": [
        "data = [\n",
        "    [1, 2, 1, 1, 1, 1, 2, 1, 1, 1, 1, 2, 1],\n",
        "    [1, 2, 1, 1, 1, 1, 2, 1, 1, 1, 1, 2, 1],\n",
        "    [2, 2, 2, 2, 2, 2, 2, 2, 2, 2, 2, 2, 2],\n",
        "    [1, 2, 1, 1, 1, 1, 2, 1, 1, 1, 1, 2, 1],\n",
        "    [1, 2, 1, 3, 3, 1, 2, 1, 3, 3, 1, 2, 1],\n",
        "    [1, 2, 1, 3, 3, 1, 2, 1, 3, 3, 1, 2, 1],\n",
        "    [1, 2, 1, 1, 1, 1, 2, 1, 1, 1, 1, 2, 1],\n",
        "    [2, 2, 2, 2, 2, 2, 2, 2, 2, 2, 2, 2, 2],\n",
        "    [1, 2, 1, 1, 1, 1, 2, 1, 1, 1, 1, 2, 1],\n",
        "    [1, 2, 1, 3, 3, 1, 2, 1, 3, 3, 1, 2, 1],\n",
        "    [1, 2, 1, 3, 3, 1, 2, 1, 3, 3, 1, 2, 1],\n",
        "    [1, 2, 1, 1, 1, 1, 2, 1, 1, 1, 1, 2, 1],\n",
        "    [2, 2, 2, 2, 2, 2, 2, 2, 2, 2, 2, 2, 2],\n",
        "    [1, 2, 1, 1, 1, 1, 2, 1, 1, 1, 1, 2, 1]\n",
        "]\n",
        "\n",
        "given_tensor = torch.tensor(data)\n",
        "\n",
        "rows = 14\n",
        "columns = 13\n",
        "\n",
        "# tensor with correct size filled with ones\n",
        "created_tensor = torch.full(size=(rows, columns), fill_value=1)\n",
        "\n",
        "# setting 2's : columns = [1, 6, 11], rows = [2, 7, 12]\n",
        "created_tensor[2::5, :] = 2\n",
        "created_tensor[:, 1::5] = 2\n",
        "\n",
        "# setting 3's : squares [4:5\\ 9:10, 3:4 \\ 8:9]\n",
        "created_tensor[4:6, 3:5] = 3\n",
        "created_tensor[4:6, 8:10] = 3\n",
        "created_tensor[9:11, 3:5] = 3\n",
        "created_tensor[9:11, 8:10] = 3\n",
        "\n",
        "\n",
        "print(created_tensor)\n",
        "\n",
        "print(created_tensor == given_tensor)"
      ],
      "metadata": {
        "id": "Pk_NjEP9JiWm",
        "colab": {
          "base_uri": "https://localhost:8080/"
        },
        "outputId": "45fb5fe5-54b5-495e-c4ae-f15e3493614e"
      },
      "execution_count": 20,
      "outputs": [
        {
          "output_type": "stream",
          "name": "stdout",
          "text": [
            "tensor([[1, 2, 1, 1, 1, 1, 2, 1, 1, 1, 1, 2, 1],\n",
            "        [1, 2, 1, 1, 1, 1, 2, 1, 1, 1, 1, 2, 1],\n",
            "        [2, 2, 2, 2, 2, 2, 2, 2, 2, 2, 2, 2, 2],\n",
            "        [1, 2, 1, 1, 1, 1, 2, 1, 1, 1, 1, 2, 1],\n",
            "        [1, 2, 1, 3, 3, 1, 2, 1, 3, 3, 1, 2, 1],\n",
            "        [1, 2, 1, 3, 3, 1, 2, 1, 3, 3, 1, 2, 1],\n",
            "        [1, 2, 1, 1, 1, 1, 2, 1, 1, 1, 1, 2, 1],\n",
            "        [2, 2, 2, 2, 2, 2, 2, 2, 2, 2, 2, 2, 2],\n",
            "        [1, 2, 1, 1, 1, 1, 2, 1, 1, 1, 1, 2, 1],\n",
            "        [1, 2, 1, 3, 3, 1, 2, 1, 3, 3, 1, 2, 1],\n",
            "        [1, 2, 1, 3, 3, 1, 2, 1, 3, 3, 1, 2, 1],\n",
            "        [1, 2, 1, 1, 1, 1, 2, 1, 1, 1, 1, 2, 1],\n",
            "        [2, 2, 2, 2, 2, 2, 2, 2, 2, 2, 2, 2, 2],\n",
            "        [1, 2, 1, 1, 1, 1, 2, 1, 1, 1, 1, 2, 1]])\n",
            "tensor([[True, True, True, True, True, True, True, True, True, True, True, True,\n",
            "         True],\n",
            "        [True, True, True, True, True, True, True, True, True, True, True, True,\n",
            "         True],\n",
            "        [True, True, True, True, True, True, True, True, True, True, True, True,\n",
            "         True],\n",
            "        [True, True, True, True, True, True, True, True, True, True, True, True,\n",
            "         True],\n",
            "        [True, True, True, True, True, True, True, True, True, True, True, True,\n",
            "         True],\n",
            "        [True, True, True, True, True, True, True, True, True, True, True, True,\n",
            "         True],\n",
            "        [True, True, True, True, True, True, True, True, True, True, True, True,\n",
            "         True],\n",
            "        [True, True, True, True, True, True, True, True, True, True, True, True,\n",
            "         True],\n",
            "        [True, True, True, True, True, True, True, True, True, True, True, True,\n",
            "         True],\n",
            "        [True, True, True, True, True, True, True, True, True, True, True, True,\n",
            "         True],\n",
            "        [True, True, True, True, True, True, True, True, True, True, True, True,\n",
            "         True],\n",
            "        [True, True, True, True, True, True, True, True, True, True, True, True,\n",
            "         True],\n",
            "        [True, True, True, True, True, True, True, True, True, True, True, True,\n",
            "         True],\n",
            "        [True, True, True, True, True, True, True, True, True, True, True, True,\n",
            "         True]])\n"
          ]
        }
      ]
    },
    {
      "cell_type": "markdown",
      "source": [
        "###Zadanie 2: Wartości własne macierzy\n",
        "Utwórz dwuwymiarowy tensor $M$ o rozmiarach $20 \\times 20$ zainicjalizowany losowymi wartościami o standardowym rozkładzie normalnym.\n",
        "Następnie wyznacz wartości własne macierzy $\n",
        "X = M D M^{-1} \\, ,\n",
        "$\n",
        "gdzie\n",
        "$$\n",
        "\\begin{align}\n",
        "D =\n",
        "\\begin{bmatrix}\n",
        "1 & 0 & 0 & \\ldots & 0 & 0 \\\\\n",
        "0 & 2 & 0 & \\ldots  & 0 & 0 \\\\\n",
        "\\vdots &  & \\ddots &  &  & \\vdots \\\\\n",
        "\\vdots &  &  &  & 19 & 0 \\\\\n",
        "0 & \\ldots & \\ldots & \\ldots & 0 & 20\n",
        "\\end{bmatrix}\n",
        "\\end{align} \\, .\n",
        "$$\n",
        "Nie używaj pętli. Macierz $D$ wygeneruj korzystając z funkcji `torch.diag`. Do wyznaczenia wektorów własnych wykorzystaj funkcję `torch.linalg.eig`."
      ],
      "metadata": {
        "id": "HLvSfZmesKOH"
      }
    },
    {
      "cell_type": "code",
      "source": [
        "given_size = (20, 20)\n",
        "\n",
        "# creating M\n",
        "M = torch.randn(size=given_size)\n",
        "\n",
        "# creating D\n",
        "diagonal = torch.arange(1, 21, dtype=torch.float32)\n",
        "D = torch.diag(diagonal)\n",
        "\n",
        "# creating inverse of M\n",
        "M_inv = torch.linalg.inv(M)\n",
        "\n",
        "# creating X\n",
        "X = M @ D @ M_inv\n",
        "\n",
        "# calculating eigenvectors and eigenvalues\n",
        "eigen_values, eigen_vectors = torch.linalg.eig(X)\n",
        "\n",
        "print(eigen_values.real)"
      ],
      "metadata": {
        "id": "xFiduJkCJny_",
        "colab": {
          "base_uri": "https://localhost:8080/"
        },
        "outputId": "d4cbd9ee-467b-40da-9e5d-9d4f5d081e8b"
      },
      "execution_count": 41,
      "outputs": [
        {
          "output_type": "stream",
          "name": "stdout",
          "text": [
            "tensor([20.0000, 19.0000,  1.0000, 18.0000,  2.0000, 17.0000,  3.0000,  4.0000,\n",
            "        16.0000,  5.0000, 15.0000,  6.0000,  7.0000,  8.0000,  9.0000, 14.0000,\n",
            "        13.0000, 10.0000, 11.0000, 12.0000])\n"
          ]
        }
      ]
    },
    {
      "cell_type": "markdown",
      "source": [
        "###Zadanie 3: Porównanie czasów wykonywania operacji na CPU i GPU\n",
        "Napisz kod który wyświetli wykres liniowy przedstawiający zależność czasu mnożenia dwóch macierzy kwadratowych $n \\times n$ od ich rozmiaru $n$ dla działań wykonanych na CPU i na GPU.\n",
        "Mierząc czas wykonania operacji na GPU pamiętaj aby przed rozpocząciem i przed zakończeniem pomiaru czasu wywołać polecenie `torch.cuda.synchronize()` które czeka na zakończenie obliczeń na GPU.\n",
        "\n",
        "\n",
        "```\n",
        "torch.cuda.synchronize()\n",
        "start_time = time.time()\n",
        "...\n",
        "...\n",
        "torch.cuda.synchronize()\n",
        "end_time = time.time()\n",
        "```\n",
        "\n"
      ],
      "metadata": {
        "id": "1ZiCYz7upKol"
      }
    },
    {
      "cell_type": "code",
      "source": [
        "def create_square_matrix(n: int) -> torch.Tensor:\n",
        "  return torch.randn(size=(n,n), dtype=torch.float32)\n",
        "\n",
        "def calculate_time(matrix_sizes: list, is_cuda=False) -> list:\n",
        "  calculated_times = []\n",
        "  device = \"cuda\" if is_cuda else \"cpu\"\n",
        "\n",
        "  for size in matrix_sizes:\n",
        "    first_matrix = create_square_matrix(size).to(device)\n",
        "    second_matrix = create_square_matrix(size).to(device)\n",
        "\n",
        "    if is_cuda:\n",
        "      torch.cuda.synchronize()\n",
        "\n",
        "    start_time = time.time()\n",
        "    first_matrix @ second_matrix\n",
        "\n",
        "    if is_cuda:\n",
        "      torch.cuda.synchronize()\n",
        "\n",
        "    end_time = time.time()\n",
        "\n",
        "    calculation_time = end_time - start_time\n",
        "\n",
        "    calculated_times.append(calculation_time)\n",
        "\n",
        "  return calculated_times"
      ],
      "metadata": {
        "id": "CladxlEPwW6_"
      },
      "execution_count": 55,
      "outputs": []
    },
    {
      "cell_type": "code",
      "source": [
        "sizes = np.arange(1, 2501, 10)\n",
        "\n",
        "gpu_times = calculate_time(sizes, True)\n",
        "cpu_times = calculate_time(sizes, False)\n",
        "\n",
        "plt.figure(figsize=(10,10))\n",
        "plt.title(\"Time comparasion between calculation on CPU and GPU\")\n",
        "plt.xlabel(\"Size of matrix\")\n",
        "plt.ylabel(\"Time\")\n",
        "plt.plot(sizes, cpu_times, color='blue', label=\"cpu times\")\n",
        "plt.plot(sizes, gpu_times, color='red', label=\"gpu times\")\n",
        "plt.legend()\n",
        "plt.grid(True)\n",
        "plt.show()"
      ],
      "metadata": {
        "colab": {
          "base_uri": "https://localhost:8080/",
          "height": 872
        },
        "id": "yO9irtxkuB3n",
        "outputId": "aadd1fb8-513d-478b-e093-74339bf24354"
      },
      "execution_count": 58,
      "outputs": [
        {
          "output_type": "display_data",
          "data": {
            "text/plain": [
              "<Figure size 1000x1000 with 1 Axes>"
            ],
            "image/png": "[encoded data removed]"
          },
          "metadata": {}
        }
      ]
    },
    {
      "cell_type": "markdown",
      "source": [
        "###Zadanie 4 (opcjonalne): Konwencja sumacyjna Einsteina\n",
        "Zapisz podane operacje korzystając z konwencji sumacyjnej Einsteina."
      ],
      "metadata": {
        "id": "oFKICGrJd1XM"
      }
    },
    {
      "cell_type": "markdown",
      "source": [
        "Wyznacz ślad (suma elementów na przekątnej) macierzy `M`."
      ],
      "metadata": {
        "id": "_D4371MId7-H"
      }
    },
    {
      "cell_type": "code",
      "source": [
        "M = torch.tensor([[1, 2, 3],\n",
        "                  [4, 5, 6],\n",
        "                  [7, 8, 9]])"
      ],
      "metadata": {
        "id": "Eewqv3gtd8FX"
      },
      "execution_count": 60,
      "outputs": []
    },
    {
      "cell_type": "code",
      "source": [
        "trace = torch.einsum(\"ii->\", M)\n",
        "print(f\"Trace is : {trace}\")"
      ],
      "metadata": {
        "id": "AJ7QIfKWKNts",
        "colab": {
          "base_uri": "https://localhost:8080/"
        },
        "outputId": "95556dfa-ddd9-4107-ffaa-de7dcf866b2e"
      },
      "execution_count": 62,
      "outputs": [
        {
          "output_type": "stream",
          "name": "stdout",
          "text": [
            "Trace is : 15\n"
          ]
        }
      ]
    },
    {
      "cell_type": "code",
      "source": [
        "#Oczekiwany wynik: 15"
      ],
      "metadata": {
        "id": "CEfDengsfomr"
      },
      "execution_count": 6,
      "outputs": []
    },
    {
      "cell_type": "markdown",
      "source": [
        "Wyznacz wartość formy biliniowej\n",
        "$z = \\mathbf{x}^T \\mathbf{A} \\mathbf{y}$"
      ],
      "metadata": {
        "id": "9fyhGSPne3Ae"
      }
    },
    {
      "cell_type": "code",
      "source": [
        "x = torch.tensor([1, 2])\n",
        "A = torch.tensor([[3, 4], [5, 6]])\n",
        "y = torch.tensor([7, 8])"
      ],
      "metadata": {
        "id": "CX02eLR7e3IX"
      },
      "execution_count": 64,
      "outputs": []
    },
    {
      "cell_type": "code",
      "source": [
        "z = torch.einsum(\"i,ij,j ->\", x, A, y)\n",
        "print(f\"z = {z}\")"
      ],
      "metadata": {
        "id": "nqqlP0gyKORl",
        "colab": {
          "base_uri": "https://localhost:8080/"
        },
        "outputId": "43f91912-2358-4001-fb53-88636fe7482b"
      },
      "execution_count": 66,
      "outputs": [
        {
          "output_type": "stream",
          "name": "stdout",
          "text": [
            "z = 219\n"
          ]
        }
      ]
    },
    {
      "cell_type": "code",
      "source": [
        "#Oczekiwany wynik 219"
      ],
      "metadata": {
        "id": "JNN1hde6fssT"
      },
      "execution_count": 8,
      "outputs": []
    },
    {
      "cell_type": "markdown",
      "source": [
        "Wyznacz ważoną sumę wektorów wierszowych macierzy `V` z wagami w wektorze `w`.\n",
        "$$\\mathbf{z}_j = \\sum_i \\mathbf{w}_i \\mathbf{V}_{ij}$$\n",
        "\n",
        "\n"
      ],
      "metadata": {
        "id": "U7Ewnpqqg1fU"
      }
    },
    {
      "cell_type": "code",
      "source": [
        "w = torch.tensor([0.2, 0.3, 0.5])\n",
        "V = torch.tensor([[1, 2], [3, 4], [5, 6]], dtype=torch.float32)  # Shape: [3, 2]"
      ],
      "metadata": {
        "id": "QJmoyrWRg1nX"
      },
      "execution_count": 67,
      "outputs": []
    },
    {
      "cell_type": "code",
      "source": [
        "z_j = torch.einsum(\"i,ij -> j\", w, V)\n",
        "print(z_j)"
      ],
      "metadata": {
        "id": "s2nlvDLxKO34",
        "colab": {
          "base_uri": "https://localhost:8080/"
        },
        "outputId": "077dfaa8-9389-4311-e073-0763803dfbda"
      },
      "execution_count": 72,
      "outputs": [
        {
          "output_type": "stream",
          "name": "stdout",
          "text": [
            "tensor([3.6000, 4.6000])\n"
          ]
        }
      ]
    },
    {
      "cell_type": "code",
      "source": [
        "#Oczekiwany wynik [3.6000, 4.6000]"
      ],
      "metadata": {
        "id": "WiGY50BAhng2"
      },
      "execution_count": 10,
      "outputs": []
    },
    {
      "cell_type": "markdown",
      "source": [
        "Dla trójwymiarowej macierzy `A` wyznacz sumę elementów po drugiej i trzeciej współrzędnej:\n",
        "$$\\mathbf{z}_i = \\sum_{j,k} \\mathbf{A}_{ijk}$$"
      ],
      "metadata": {
        "id": "W8TwJXwRj9Pp"
      }
    },
    {
      "cell_type": "code",
      "source": [
        "A = torch.tensor(\n",
        "    [[[1, 2], [3, 4], [5, 6]],\n",
        "     [[2, 5], [1, 7], [1, 3]]]\n",
        "    )\n",
        "print(A.shape)"
      ],
      "metadata": {
        "id": "meuvkus-j9g3",
        "colab": {
          "base_uri": "https://localhost:8080/"
        },
        "outputId": "bce74c16-ca06-43dc-f5f9-bc1d8c9c871f"
      },
      "execution_count": 75,
      "outputs": [
        {
          "output_type": "stream",
          "name": "stdout",
          "text": [
            "torch.Size([2, 3, 2])\n"
          ]
        }
      ]
    },
    {
      "cell_type": "code",
      "source": [
        "z_i = torch.einsum(\"ijk->i\", A)\n",
        "print(z_i)"
      ],
      "metadata": {
        "id": "-M1ZxOveKPkP",
        "colab": {
          "base_uri": "https://localhost:8080/"
        },
        "outputId": "83399163-cd14-49e7-b570-e2442c86035c"
      },
      "execution_count": 77,
      "outputs": [
        {
          "output_type": "stream",
          "name": "stdout",
          "text": [
            "tensor([21, 19])\n"
          ]
        }
      ]
    },
    {
      "cell_type": "code",
      "source": [
        "#Oczekiwany wynik: [21, 19]"
      ],
      "metadata": {
        "id": "B8iumeAUlGIH"
      },
      "execution_count": 12,
      "outputs": []
    }
  ],
  "metadata": {
    "accelerator": "GPU",
    "colab": {
      "gpuType": "T4",
      "provenance": []
    },
    "kernelspec": {
      "display_name": "Python 3",
      "name": "python3"
    },
    "language_info": {
      "name": "python"
    }
  },
  "nbformat": 4,
  "nbformat_minor": 0
}