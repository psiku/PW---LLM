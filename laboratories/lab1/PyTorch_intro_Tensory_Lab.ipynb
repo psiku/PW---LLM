{
  "cells": [
    {
      "cell_type": "markdown",
      "metadata": {
        "id": "ZY88NuVprDxy"
      },
      "source": [
        "#PyTorch Intro - Tensory - Laboratorium\n",
        "\n",
        "**Tensor** w bibliotece PyTorch jest specjalizowaną strukturą danych podobną do wielowymiarowej tablicy `ndarray` w bibliotece numpy. Na tensorach można wykonywać typowe operacje algebry liniowej oraz operacje specyficzne dla głębokiego uczenia jak na przykład automatyczne różniczkowanie (autograd).\n",
        "Tensory wykorzystujemy do przechowywania przetwarzanych danych oraz parametrów (wag) modeli. Biblioteka PyTorch pozwala na efektywne przetwarzanie tensorów na CPU lub GPU."
      ]
    },
    {
      "cell_type": "markdown",
      "metadata": {
        "id": "wQ6auP2WCnLW"
      },
      "source": [
        "##Przygotowanie środowiska\n",
        "Upewnij się, że notatnik jest uruchomiony na maszynie z GPU. Jeśli GPU nie jest dostępne zmień typ maszyny (Runtime | Change runtime type) i wybierz T4 GPU."
      ]
    },
    {
      "cell_type": "code",
      "execution_count": null,
      "metadata": {
        "id": "FfwBYOmmnw0b"
      },
      "outputs": [],
      "source": [
        "!nvidia-smi"
      ]
    },
    {
      "cell_type": "markdown",
      "metadata": {
        "id": "n1G8i4wTrfq6"
      },
      "source": [
        "Biblioteka PyTorch (`torch`) jest domyślnie zainstalowana w środowisku COLAB."
      ]
    },
    {
      "cell_type": "code",
      "execution_count": null,
      "metadata": {
        "id": "FDGaiuGLrapP"
      },
      "outputs": [],
      "source": [
        "import torch\n",
        "import numpy as np\n",
        "\n",
        "print(f\"Wersja biblioteki PyTorch: {torch.__version__}\")"
      ]
    },
    {
      "cell_type": "markdown",
      "metadata": {
        "id": "EJ6c3h4nryQJ"
      },
      "source": [
        "Sprawdzenie dostępnego urządzenia GPU."
      ]
    },
    {
      "cell_type": "code",
      "execution_count": null,
      "metadata": {
        "id": "VGyMG3_2rxIC"
      },
      "outputs": [],
      "source": [
        "print(f\"Dostępność GPU: {torch.cuda.is_available()}\")\n",
        "print(f\"Typ GPU: {torch.cuda.get_device_name(0)}\")"
      ]
    },
    {
      "cell_type": "markdown",
      "source": [
        "##Zadania do wykonania"
      ],
      "metadata": {
        "id": "a0eTA-dNdwEL"
      }
    },
    {
      "cell_type": "markdown",
      "source": [
        "###Zadanie 1: Tworzenie tensorów\n",
        "Wygeneruj tensor o pokazanej poniżej zawartości nie używając pętli. Wskazówka: Wykorzystaj funkcję `torch.full` i mechanizm indeksowania tensorów.\n",
        "\n",
        "```\n",
        " 1 2 1 1 1 1 2 1 1 1 1 2 1\n",
        " 1 2 1 1 1 1 2 1 1 1 1 2 1\n",
        " 2 2 2 2 2 2 2 2 2 2 2 2 2\n",
        " 1 2 1 1 1 1 2 1 1 1 1 2 1\n",
        " 1 2 1 3 3 1 2 1 3 3 1 2 1\n",
        " 1 2 1 3 3 1 2 1 3 3 1 2 1\n",
        " 1 2 1 1 1 1 2 1 1 1 1 2 1\n",
        " 2 2 2 2 2 2 2 2 2 2 2 2 2\n",
        " 1 2 1 1 1 1 2 1 1 1 1 2 1\n",
        " 1 2 1 3 3 1 2 1 3 3 1 2 1\n",
        " 1 2 1 3 3 1 2 1 3 3 1 2 1\n",
        " 1 2 1 1 1 1 2 1 1 1 1 2 1\n",
        " 2 2 2 2 2 2 2 2 2 2 2 2 2\n",
        " 1 2 1 1 1 1 2 1 1 1 1 2 1\n",
        "```\n",
        "\n"
      ],
      "metadata": {
        "id": "xRZ4mKnwqa0O"
      }
    },
    {
      "cell_type": "code",
      "source": [],
      "metadata": {
        "id": "Pk_NjEP9JiWm"
      },
      "execution_count": null,
      "outputs": []
    },
    {
      "cell_type": "markdown",
      "source": [
        "###Zadanie 2: Wartości własne macierzy\n",
        "Utwórz dwuwymiarowy tensor $M$ o rozmiarach $20 \\times 20$ zainicjalizowany losowymi wartościami o standardowym rozkładzie normalnym.\n",
        "Następnie wyznacz wartości własne macierzy $\n",
        "X = M D M^{-1} \\, ,\n",
        "$\n",
        "gdzie\n",
        "$$\n",
        "\\begin{align}\n",
        "D =\n",
        "\\begin{bmatrix}\n",
        "1 & 0 & 0 & \\ldots & 0 & 0 \\\\\n",
        "0 & 2 & 0 & \\ldots  & 0 & 0 \\\\\n",
        "\\vdots &  & \\ddots &  &  & \\vdots \\\\\n",
        "\\vdots &  &  &  & 19 & 0 \\\\\n",
        "0 & \\ldots & \\ldots & \\ldots & 0 & 20\n",
        "\\end{bmatrix}\n",
        "\\end{align} \\, .\n",
        "$$\n",
        "Nie używaj pętli. Macierz $D$ wygeneruj korzystając z funkcji `torch.diag`. Do wyznaczenia wektorów własnych wykorzystaj funkcję `torch.linalg.eig`."
      ],
      "metadata": {
        "id": "HLvSfZmesKOH"
      }
    },
    {
      "cell_type": "code",
      "source": [],
      "metadata": {
        "id": "xFiduJkCJny_"
      },
      "execution_count": null,
      "outputs": []
    },
    {
      "cell_type": "markdown",
      "source": [
        "###Zadanie 3: Porównanie czasów wykonywania operacji na CPU i GPU\n",
        "Napisz kod który wyświetli wykres liniowy przedstawiający zależność czasu mnożenia dwóch macierzy kwadratowych $n \\times n$ od ich rozmiaru $n$ dla działań wykonanych na CPU i na GPU.\n",
        "Mierząc czas wykonania operacji na GPU pamiętaj aby przed rozpocząciem i przed zakończeniem pomiaru czasu wywołać polecenie `torch.cuda.synchronize()` które czeka na zakończenie obliczeń na GPU.\n",
        "\n",
        "\n",
        "```\n",
        "torch.cuda.synchronize()\n",
        "start_time = time.time()\n",
        "...\n",
        "...\n",
        "torch.cuda.synchronize()\n",
        "end_time = time.time()\n",
        "```\n",
        "\n"
      ],
      "metadata": {
        "id": "1ZiCYz7upKol"
      }
    },
    {
      "cell_type": "code",
      "source": [],
      "metadata": {
        "id": "CladxlEPwW6_"
      },
      "execution_count": null,
      "outputs": []
    },
    {
      "cell_type": "markdown",
      "source": [
        "###Zadanie 4 (opcjonalne): Konwencja sumacyjna Einsteina\n",
        "Zapisz podane operacje korzystając z konwencji sumacyjnej Einsteina."
      ],
      "metadata": {
        "id": "oFKICGrJd1XM"
      }
    },
    {
      "cell_type": "markdown",
      "source": [
        "Wyznacz ślad (suma elementów na przekątnej) macierzy `M`."
      ],
      "metadata": {
        "id": "_D4371MId7-H"
      }
    },
    {
      "cell_type": "code",
      "source": [
        "M = torch.tensor([[1, 2, 3],\n",
        "                  [4, 5, 6],\n",
        "                  [7, 8, 9]])"
      ],
      "metadata": {
        "id": "Eewqv3gtd8FX"
      },
      "execution_count": null,
      "outputs": []
    },
    {
      "cell_type": "code",
      "source": [],
      "metadata": {
        "id": "AJ7QIfKWKNts"
      },
      "execution_count": null,
      "outputs": []
    },
    {
      "cell_type": "code",
      "source": [
        "#Oczekiwany wynik: 15"
      ],
      "metadata": {
        "id": "CEfDengsfomr"
      },
      "execution_count": null,
      "outputs": []
    },
    {
      "cell_type": "markdown",
      "source": [
        "Wyznacz wartość formy biliniowej\n",
        "$z = \\mathbf{x}^T \\mathbf{A} \\mathbf{y}$"
      ],
      "metadata": {
        "id": "9fyhGSPne3Ae"
      }
    },
    {
      "cell_type": "code",
      "source": [
        "x = torch.tensor([1, 2])\n",
        "A = torch.tensor([[3, 4], [5, 6]])\n",
        "y = torch.tensor([7, 8])"
      ],
      "metadata": {
        "id": "CX02eLR7e3IX"
      },
      "execution_count": null,
      "outputs": []
    },
    {
      "cell_type": "code",
      "source": [],
      "metadata": {
        "id": "nqqlP0gyKORl"
      },
      "execution_count": null,
      "outputs": []
    },
    {
      "cell_type": "code",
      "source": [
        "#Oczekiwany wynik 219"
      ],
      "metadata": {
        "id": "JNN1hde6fssT"
      },
      "execution_count": null,
      "outputs": []
    },
    {
      "cell_type": "markdown",
      "source": [
        "Wyznacz ważoną sumę wektorów wierszowych macierzy `V` z wagami w wektorze `w`.\n",
        "$$\\mathbf{z}_j = \\sum_i \\mathbf{w}_i \\mathbf{V}_{ij}$$\n",
        "\n",
        "\n"
      ],
      "metadata": {
        "id": "U7Ewnpqqg1fU"
      }
    },
    {
      "cell_type": "code",
      "source": [
        "w = torch.tensor([0.2, 0.3, 0.5])\n",
        "V = torch.tensor([[1, 2], [3, 4], [5, 6]], dtype=torch.float32)  # Shape: [3, 2]"
      ],
      "metadata": {
        "id": "QJmoyrWRg1nX"
      },
      "execution_count": null,
      "outputs": []
    },
    {
      "cell_type": "code",
      "source": [],
      "metadata": {
        "id": "s2nlvDLxKO34"
      },
      "execution_count": null,
      "outputs": []
    },
    {
      "cell_type": "code",
      "source": [
        "#Oczekiwany wynik [3.6000, 4.6000]"
      ],
      "metadata": {
        "id": "WiGY50BAhng2"
      },
      "execution_count": null,
      "outputs": []
    },
    {
      "cell_type": "markdown",
      "source": [
        "Dla trójwymiarowej macierzy `A` wyznacz sumę elementów po drugiej i trzeciej współrzędnej:\n",
        "$$\\mathbf{z}_i = \\sum_{j,k} \\mathbf{A}_{ijk}$$"
      ],
      "metadata": {
        "id": "W8TwJXwRj9Pp"
      }
    },
    {
      "cell_type": "code",
      "source": [
        "A = torch.tensor(\n",
        "    [[[1, 2], [3, 4], [5, 6]],\n",
        "     [[2, 5], [1, 7], [1, 3]]]\n",
        "    )\n",
        "print(A.shape)"
      ],
      "metadata": {
        "id": "meuvkus-j9g3"
      },
      "execution_count": null,
      "outputs": []
    },
    {
      "cell_type": "code",
      "source": [],
      "metadata": {
        "id": "-M1ZxOveKPkP"
      },
      "execution_count": null,
      "outputs": []
    },
    {
      "cell_type": "code",
      "source": [
        "#Oczekiwany wynik: [21, 19]"
      ],
      "metadata": {
        "id": "B8iumeAUlGIH"
      },
      "execution_count": null,
      "outputs": []
    }
  ],
  "metadata": {
    "accelerator": "GPU",
    "colab": {
      "gpuType": "T4",
      "toc_visible": true,
      "provenance": []
    },
    "kernelspec": {
      "display_name": "Python 3",
      "name": "python3"
    },
    "language_info": {
      "name": "python"
    }
  },
  "nbformat": 4,
  "nbformat_minor": 0
}