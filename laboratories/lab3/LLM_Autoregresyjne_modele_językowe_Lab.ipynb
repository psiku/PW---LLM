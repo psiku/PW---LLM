{
  "cells": [
    {
      "cell_type": "markdown",
      "metadata": {
        "id": "EpCUrBcY4O5Q"
      },
      "source": [
        "# Moduł LLM - Autoregresyjne modele językowe (modele tylko-dekoder) - Laboratorium"
      ]
    },
    {
      "cell_type": "code",
      "execution_count": null,
      "metadata": {},
      "outputs": [],
      "source": [
        "# fix"
      ]
    },
    {
      "cell_type": "markdown",
      "metadata": {
        "id": "xznDJujW3-Z8"
      },
      "source": [
        "Notatnik omawia:\n",
        "\n",
        "*   Tokenizację tekstów w języku naturalnym z wykorzystaniem tokenizatora BPE\n",
        "*   Architekturę współczesnych autoregresyjnych modeli językowych (tylko-dekoder) klasy GPT\n",
        "*   Wstępne trenowanie (*pretraining*) wielkiego modelu językowego w sposób samonadzorowany na zadaniu statystycznego modelowania języka\n",
        "*   Strategie generowania tekstu\n",
        "\n",
        "\n",
        "\n",
        "\n",
        "\n"
      ]
    },
    {
      "cell_type": "code",
      "execution_count": 1,
      "metadata": {
        "colab": {
          "base_uri": "https://localhost:8080/"
        },
        "id": "RV1_Qhe7Xyqk",
        "outputId": "5475ffdb-00cd-466d-ecfe-ab7ef1dc4cc2"
      },
      "outputs": [
        {
          "name": "stdout",
          "output_type": "stream",
          "text": [
            "Sat Apr 19 10:17:58 2025       \n",
            "+-----------------------------------------------------------------------------------------+\n",
            "| NVIDIA-SMI 550.54.15              Driver Version: 550.54.15      CUDA Version: 12.4     |\n",
            "|-----------------------------------------+------------------------+----------------------+\n",
            "| GPU  Name                 Persistence-M | Bus-Id          Disp.A | Volatile Uncorr. ECC |\n",
            "| Fan  Temp   Perf          Pwr:Usage/Cap |           Memory-Usage | GPU-Util  Compute M. |\n",
            "|                                         |                        |               MIG M. |\n",
            "|=========================================+========================+======================|\n",
            "|   0  Tesla T4                       Off |   00000000:00:04.0 Off |                    0 |\n",
            "| N/A   42C    P8             12W /   70W |       0MiB /  15360MiB |      0%      Default |\n",
            "|                                         |                        |                  N/A |\n",
            "+-----------------------------------------+------------------------+----------------------+\n",
            "                                                                                         \n",
            "+-----------------------------------------------------------------------------------------+\n",
            "| Processes:                                                                              |\n",
            "|  GPU   GI   CI        PID   Type   Process name                              GPU Memory |\n",
            "|        ID   ID                                                               Usage      |\n",
            "|=========================================================================================|\n",
            "|  No running processes found                                                             |\n",
            "+-----------------------------------------------------------------------------------------+\n"
          ]
        }
      ],
      "source": [
        "!nvidia-smi"
      ]
    },
    {
      "cell_type": "markdown",
      "metadata": {
        "id": "B91AvgwoEUqv"
      },
      "source": [
        "Import przydatnych bibliotek"
      ]
    },
    {
      "cell_type": "code",
      "execution_count": 2,
      "metadata": {
        "colab": {
          "base_uri": "https://localhost:8080/"
        },
        "id": "Qz960vwWcZLR",
        "outputId": "ab9c5c2a-03d9-4873-bab1-83e66a78d113"
      },
      "outputs": [
        {
          "name": "stdout",
          "output_type": "stream",
          "text": [
            "Wersja PyTorch: 2.6.0+cu124\n",
            "Wersja HuggingFace transformers: 4.51.3\n"
          ]
        }
      ],
      "source": [
        "import numpy as np\n",
        "import pickle\n",
        "\n",
        "import torch\n",
        "import torch.nn as nn\n",
        "from torch import Tensor\n",
        "\n",
        "# Moduły biblioteki HuggingFace\n",
        "import transformers\n",
        "\n",
        "print(f\"Wersja PyTorch: {torch.__version__}\")\n",
        "print(f\"Wersja HuggingFace transformers: {transformers.__version__}\")"
      ]
    },
    {
      "cell_type": "markdown",
      "metadata": {
        "id": "vmm6KcwIhqhV"
      },
      "source": [
        "## Tokenizacja\n",
        "**Tokenizator** dzieli wejściowy tekst na krótsze jednostki leksykalne (**tokeny**). Każdy token ma swój unikalny numeryczny identyfikator. W metodzie BPE **słownik tokenów** zawiera wszystkie pojedyncze znaki, najczęściej występujące sekwencje znaków (pary, trójki, ...) jak i najczęściej występujące słowa. Pozwala to na na odwracalną tokenizację każdego tekstu, nawet zawierającego słowa w innym języku bądź błędnie zapisane. W modelach GPT-3.5 and GPT-4 słownik tokenów liczy ponad 100 tys. elementów, a zakodowanie jednego słowa w języku angielskim wymaga średnio 1,3 tokena.\n",
        "\n",
        "Słownik zawiera również **tokeny specjalne** wykorzystywane podczas uczenia modelu i inferencji. W zależnoności od modelu językowego wykorzystywane są różne tokeny specjalne, najpopularniejsze, to:\n",
        "- `<bos>, <s>` - beginning of sequence\n",
        "- `<eos>, </s>` - end of sequence\n",
        "- `<pad>` - padding token\n",
        "- `<mask>` - mask token  \n",
        "\n",
        "W notatniku wykorzystamy wytrenowany tokenizator `polish-gpt2-small` klasy BPE (*Byte-Pair Encoding*) używany w polskiej wersji modelu językowego GPT-2 z serwisu HuggingFace.\n",
        "Jako token wypełniający krótkie sekwencje we wsadzie (`<pad>`) wykorzystamy token oznaczający koniec sekwencji (`<eos>`).\n",
        "\n",
        "Więcej informacji na temat tokenizatorów w bibliotece HuggingFace dostępnych jest [tutaj](https://huggingface.co/docs/transformers/v4.45.1/en/main_classes/tokenizer#tokenizer)."
      ]
    },
    {
      "cell_type": "code",
      "execution_count": 3,
      "metadata": {
        "colab": {
          "base_uri": "https://localhost:8080/",
          "height": 217,
          "referenced_widgets": [
            "d836ec573784410aa0a04a2211d68d96",
            "6e15609e964e47a798a138b6d9df0091",
            "19383e72232045eda978405538f371ee",
            "eb03f39a8b5544b0bc2364b8350c9354",
            "940f3fcb956e44428fa83265f6d0de93",
            "46667a7c7fd24d46b5c44ec41bf0ce18",
            "d6710ed1fa6d41bc8796428875ad09a6",
            "1cd6efa550024a84b83ea8c38e8c1b63",
            "4afd9a1fe1044b478d5e43605dd296f0",
            "1c1cee1566c54619a4703966f9a2e06e",
            "ba97bb8c1989496fa05e2a16a81f2eb2",
            "9761cd946b0a44cb948a52da09bcdda2",
            "4428bc406dd048cd8c6f015256e00f68",
            "f554932a1edc43f69645c7c663ee13b1",
            "a151c48d1d724411b28e57f0491c744b",
            "52c8812660cc497f824cd775168a9531",
            "0b2a84ce9be04e308375dc48eadeae0d",
            "cdf06ac50ccc4287a2580e6e48ded2e5",
            "661e5d3b272d4ad7b41da821c1936575",
            "e4759a6432d441b2bea9592a5f4964e7",
            "c13268fe59fd420d9359a570b571a0f3",
            "fd273516065b40eb8dc7b1aae942c7df",
            "55adab384e494a30a3ebbfcc76b2d4ad",
            "b81fdaac67a1426db16015a4a35a2ca6",
            "e6c921cab5e4491dbdb3932106cc6df7",
            "7fcc71ebf2094af7ad91ee932f0349fe",
            "091983d0f20b45dfaad85c30d8cb73f5",
            "7a8e5166c3934a07ac3813dc893e1901",
            "48fb280bf26144cdb313680c4490c070",
            "6f17287919154f10aa0c92e1fecc5f98",
            "538c46eab2774225a00caafc72a6a3f1",
            "96755b859a1e493ea7d7d7000919384f",
            "4ef7e44ea77d4da796d43d867a2a8fad"
          ]
        },
        "id": "ppIgbQtLh9_f",
        "outputId": "2061188b-84fd-4c18-cf34-f3910966d95b"
      },
      "outputs": [
        {
          "name": "stderr",
          "output_type": "stream",
          "text": [
            "/usr/local/lib/python3.11/dist-packages/huggingface_hub/utils/_auth.py:94: UserWarning: \n",
            "The secret `HF_TOKEN` does not exist in your Colab secrets.\n",
            "To authenticate with the Hugging Face Hub, create a token in your settings tab (https://huggingface.co/settings/tokens), set it as secret in your Google Colab and restart your session.\n",
            "You will be able to reuse this secret in all of your notebooks.\n",
            "Please note that authentication is recommended but still optional to access public models or datasets.\n",
            "  warnings.warn(\n"
          ]
        },
        {
          "data": {
            "application/vnd.jupyter.widget-view+json": {
              "model_id": "d836ec573784410aa0a04a2211d68d96",
              "version_major": 2,
              "version_minor": 0
            },
            "text/plain": [
              "tokenizer_config.json:   0%|          | 0.00/319 [00:00<?, ?B/s]"
            ]
          },
          "metadata": {},
          "output_type": "display_data"
        },
        {
          "data": {
            "application/vnd.jupyter.widget-view+json": {
              "model_id": "9761cd946b0a44cb948a52da09bcdda2",
              "version_major": 2,
              "version_minor": 0
            },
            "text/plain": [
              "tokenizer.json:   0%|          | 0.00/2.34M [00:00<?, ?B/s]"
            ]
          },
          "metadata": {},
          "output_type": "display_data"
        },
        {
          "data": {
            "application/vnd.jupyter.widget-view+json": {
              "model_id": "55adab384e494a30a3ebbfcc76b2d4ad",
              "version_major": 2,
              "version_minor": 0
            },
            "text/plain": [
              "special_tokens_map.json:   0%|          | 0.00/72.0 [00:00<?, ?B/s]"
            ]
          },
          "metadata": {},
          "output_type": "display_data"
        }
      ],
      "source": [
        "from transformers import AutoTokenizer\n",
        "\n",
        "tokenizer = AutoTokenizer.from_pretrained(\"sdadas/polish-gpt2-small\")\n",
        "tokenizer.pad_token = tokenizer.eos_token"
      ]
    },
    {
      "cell_type": "code",
      "execution_count": 4,
      "metadata": {
        "colab": {
          "base_uri": "https://localhost:8080/"
        },
        "id": "02Mo_eflfmEj",
        "outputId": "3971de00-b86c-49a3-b304-a4dcd18a7e46"
      },
      "outputs": [
        {
          "name": "stdout",
          "output_type": "stream",
          "text": [
            "GPT2TokenizerFast(name_or_path='sdadas/polish-gpt2-small', vocab_size=51200, model_max_length=1000000000000000019884624838656, is_fast=True, padding_side='right', truncation_side='right', special_tokens={'bos_token': '<s>', 'eos_token': '</s>', 'unk_token': '<unk>', 'pad_token': '</s>'}, clean_up_tokenization_spaces=False, added_tokens_decoder={\n",
            "\t0: AddedToken(\"<s>\", rstrip=False, lstrip=False, single_word=False, normalized=False, special=True),\n",
            "\t1: AddedToken(\"<pad>\", rstrip=False, lstrip=False, single_word=False, normalized=False, special=True),\n",
            "\t2: AddedToken(\"</s>\", rstrip=False, lstrip=False, single_word=False, normalized=False, special=True),\n",
            "\t3: AddedToken(\"<unk>\", rstrip=False, lstrip=False, single_word=False, normalized=False, special=True),\n",
            "\t4: AddedToken(\"<mask>\", rstrip=False, lstrip=False, single_word=False, normalized=False, special=True),\n",
            "}\n",
            ")\n"
          ]
        }
      ],
      "source": [
        "print(tokenizer)"
      ]
    },
    {
      "cell_type": "code",
      "execution_count": 5,
      "metadata": {
        "colab": {
          "base_uri": "https://localhost:8080/"
        },
        "id": "a7v8owc0FUvJ",
        "outputId": "4b7afe13-ac96-41a7-a885-bf0e4be45efd"
      },
      "outputs": [
        {
          "data": {
            "text/plain": [
              "True"
            ]
          },
          "execution_count": 5,
          "metadata": {},
          "output_type": "execute_result"
        }
      ],
      "source": [
        "isinstance(tokenizer, transformers.PreTrainedTokenizerFast)"
      ]
    },
    {
      "cell_type": "markdown",
      "metadata": {
        "id": "0CfjFKwqT1CY"
      },
      "source": [
        "\n",
        "**Przydatne atrybuty** klasy `PreTrainedTokenizerFast`:\n",
        "*   `vocab_size` - rozmiar słownika\n",
        "\n",
        "**Przydatne metody** klasy `Tokenizer`:\n",
        "\n",
        "*   `tokenize` - dzieli tekst na tokeny i zwraca listę tekstowych tokenów ([link](https://huggingface.co/docs/transformers/v4.44.0/en/main_classes/tokenizer#transformers.PreTrainedTokenizer.tokenize))\n",
        "*   `convert_tokens_to_ids` - zamienia token lub listę tokenów na listę identyfikatorów tokenów [link](https://huggingface.co/docs/transformers/v4.44.0/en/main_classes/tokenizer#transformers.PreTrainedTokenizerFast.convert_tokens_to_ids)\n",
        "*   `convert_ids_to_tokens` - zamienia identyfikator tokenu lub listę identyfikatorów tokenów na listę tokenów [link](https://huggingface.co/docs/transformers/v4.44.0/en/main_classes/tokenizer#transformers.PreTrainedTokenizerFast.convert_ids_to_tokens)\n",
        "*   `encode` - dzieli tekst na tokeny i zwraca listę numerycznych identyfikatorów tokenów ([link](https://huggingface.co/docs/transformers/v4.44.0/en/main_classes/tokenizer#transformers.PreTrainedTokenizer.encode))\n",
        "*   `decode` - rekonstruuje tekst z listy numerycznych identyfikatorów tokenów ([link](https://huggingface.co/docs/transformers/v4.44.0/en/main_classes/tokenizer#transformers.PreTrainedTokenizer.decode))"
      ]
    },
    {
      "cell_type": "code",
      "execution_count": 6,
      "metadata": {
        "id": "fE38G5H2Jqy3"
      },
      "outputs": [],
      "source": [
        "txt = \"Litwo, Ojczyzno moja! ty jesteś jak zdrowie; Ile cię trzeba cenić,\""
      ]
    },
    {
      "cell_type": "code",
      "execution_count": 7,
      "metadata": {
        "colab": {
          "base_uri": "https://localhost:8080/"
        },
        "id": "B7Z4M-B4T1NV",
        "outputId": "f76c514b-0ff9-4051-db18-533f32d839bb"
      },
      "outputs": [
        {
          "name": "stdout",
          "output_type": "stream",
          "text": [
            "Litwo, Ojczyzno moja! ty jesteś jak zdrowie; Ile cię trzeba cenić,\n",
            "\n",
            "Tekst po tokenizacji:\n",
            "['Li', 'two', ',', 'ĠOjczy', 'zno', 'Ġmoja', '!', 'Ġty', 'ĠjesteÅĽ', 'Ġjak', 'Ġzdrowie', ';', 'ĠIle', 'ĠciÄĻ', 'Ġtrzeba', 'Ġce', 'niÄĩ', ',']\n",
            "\n",
            "Tekst po zamianie na identyfikatory tokenów:\n",
            "[3356, 1032, 16, 29267, 11394, 3008, 5, 433, 2281, 363, 8980, 31, 18769, 1048, 1308, 680, 1110, 16]\n",
            "\n",
            "Zrekonstruowany tekst:\n",
            "Litwo, Ojczyzno moja! ty jesteś jak zdrowie; Ile cię trzeba cenić,\n",
            "\n"
          ]
        }
      ],
      "source": [
        "print(txt)\n",
        "print()\n",
        "\n",
        "tokenized_txt = tokenizer.tokenize(txt)\n",
        "print(\"Tekst po tokenizacji:\")\n",
        "print(tokenizer.tokenize(txt))\n",
        "print()\n",
        "\n",
        "print(\"Tekst po zamianie na identyfikatory tokenów:\")\n",
        "encoded_txt = tokenizer.convert_tokens_to_ids(tokenized_txt)\n",
        "print(encoded_txt)\n",
        "print()\n",
        "\n",
        "print(\"Zrekonstruowany tekst:\")\n",
        "decoded_txt = tokenizer.decode(encoded_txt)\n",
        "print(decoded_txt)\n",
        "print()\n"
      ]
    },
    {
      "cell_type": "code",
      "execution_count": 8,
      "metadata": {
        "colab": {
          "base_uri": "https://localhost:8080/"
        },
        "id": "sv53p_LJYsLQ",
        "outputId": "2e562d1d-6048-4be7-92a8-ef0bc6c91b0b"
      },
      "outputs": [
        {
          "name": "stdout",
          "output_type": "stream",
          "text": [
            "Tekst po tokenizacji:\n",
            "['x', 's', 'df', 'j', 'Ġs', 'df', 'k', 'j', 'Ġs', 'fe', 'w', 'j', 'h', '!', '@#']\n",
            "\n",
            "Tekst po zamianie na identyfikatory tokenów:\n",
            "[92, 87, 30919, 78, 265, 30919, 79, 78, 265, 1208, 91, 78, 76, 5, 22996]\n",
            "\n",
            "Zrekonstruowany tekst:\n",
            "xsdfj sdfkj sfewjh!@#\n",
            "\n"
          ]
        }
      ],
      "source": [
        "txt = \"xsdfj sdfkj sfewjh!@#\"\n",
        "\n",
        "tokenized_txt = tokenizer.tokenize(txt)\n",
        "print(\"Tekst po tokenizacji:\")\n",
        "print(tokenized_txt)\n",
        "print()\n",
        "\n",
        "print(\"Tekst po zamianie na identyfikatory tokenów:\")\n",
        "encoded_txt = tokenizer.convert_tokens_to_ids(tokenized_txt)\n",
        "print(encoded_txt)\n",
        "print()\n",
        "\n",
        "print(\"Zrekonstruowany tekst:\")\n",
        "decoded_txt = tokenizer.decode(encoded_txt)\n",
        "print(decoded_txt)\n",
        "print()"
      ]
    },
    {
      "cell_type": "markdown",
      "metadata": {
        "id": "9WEemoP1RgKF"
      },
      "source": [
        "Domyślna metoda tokenizera (`__call_`) (patrz: [link](https://huggingface.co/docs/transformers/main_classes/tokenizer#transformers.PreTrainedTokenizer.__call__)) zamienia listę łańcuchów tekstowych na **wsad treningowy złożony z sekwencji identyfikatorów tokenów dopełnionych do równej długości** tokenem `<pad>`. Wsad jest obiektem klasy `BatchEncoding` (patrz: [link](https://huggingface.co/docs/transformers/v4.44.0/en/main_classes/tokenizer#transformers.BatchEncoding))."
      ]
    },
    {
      "cell_type": "code",
      "execution_count": 9,
      "metadata": {
        "colab": {
          "base_uri": "https://localhost:8080/"
        },
        "id": "E0avZYLRNjKI",
        "outputId": "8930acfd-a47e-4453-ceb2-3c0391ed31f2"
      },
      "outputs": [
        {
          "name": "stdout",
          "output_type": "stream",
          "text": [
            "<class 'transformers.tokenization_utils_base.BatchEncoding'>\n",
            "tensor([[   37,   352,   438, 14331,     2,     2,     2],\n",
            "        [   59,  2285, 18209,  3788,  1058, 11151,   392]])\n",
            "tensor([[1, 1, 1, 1, 0, 0, 0],\n",
            "        [1, 1, 1, 1, 1, 1, 1]])\n"
          ]
        }
      ],
      "source": [
        "# Tokenizacja tekstu i utworzenie wsadu treningowego\n",
        "texts = [\"Ala ma kota\", \"W sławnym mieście Pacanowie\"]\n",
        "encoded_inputs = tokenizer(texts, return_tensors='pt', padding=True)\n",
        "print(type(encoded_inputs))\n",
        "\n",
        "input_ids = encoded_inputs['input_ids']\n",
        "attention_mask = encoded_inputs['attention_mask']\n",
        "\n",
        "# Print the batch\n",
        "print(input_ids)\n",
        "print(attention_mask)"
      ]
    },
    {
      "cell_type": "markdown",
      "metadata": {
        "id": "GOKRyMvMhr9v"
      },
      "source": [
        "**Zadanie**\n",
        "\n",
        "Napisz kod wykonujący następujące zadania. Wykorzystaj zainicjalizowany tokenizer (`tokenizer`) oraz opisane wcześniej metody klasy Tokenizer.\n",
        "\n",
        "*   Sprawdź liczbę wszystkich tokenów (rozmiar słownika) oraz średnią liczbę znaków w tokenie.\n",
        "*   Wyświetl identyfikatory 40 najdłuższych i 10 najkrótszych tokenów w słowniku oraz ich postać po zdekodowaniu.\n"
      ]
    },
    {
      "cell_type": "code",
      "execution_count": 10,
      "metadata": {
        "colab": {
          "base_uri": "https://localhost:8080/"
        },
        "id": "9LloH_xGjaFX",
        "outputId": "5c4cd9d3-93bc-49f6-aff9-9566b735a057"
      },
      "outputs": [
        {
          "name": "stdout",
          "output_type": "stream",
          "text": [
            "ĠdaÅĤam\n",
            "7\n"
          ]
        }
      ],
      "source": [
        "# how to get to the first word\n",
        "words = tokenizer.get_vocab().keys()\n",
        "first_word = list(words)[0]\n",
        "print(first_word)\n",
        "print(len(first_word))"
      ]
    },
    {
      "cell_type": "code",
      "execution_count": 11,
      "metadata": {
        "id": "K1vHyZsSP1wh"
      },
      "outputs": [],
      "source": [
        "def check_vocab_size(tokenizer: transformers.PreTrainedTokenizerFast):\n",
        "    vocab_size = tokenizer.vocab_size\n",
        "    return vocab_size\n",
        "\n",
        "def check_avg_token_size(tokenizer: transformers.PreTrainedTokenizerFast):\n",
        "    vocab_size = check_vocab_size(tokenizer)\n",
        "\n",
        "    total_token_lengths= sum([len(token) for token in tokenizer.get_vocab().keys()])\n",
        "    avg_token_length = total_token_lengths / vocab_size\n",
        "\n",
        "    return avg_token_length\n",
        "\n",
        "def show_k_longest_tokens_id(tokenizer: transformers.PreTrainedTokenizerFast, k: int = 40):\n",
        "    tokens = tokenizer.get_vocab().keys()\n",
        "    sorted_tokens = sorted(tokens, key=len, reverse=True)[:k]\n",
        "\n",
        "    longest_tokens = sorted_tokens[:k]\n",
        "\n",
        "    longest_tokens_ids = [tokenizer.convert_tokens_to_ids(token) for token in longest_tokens]\n",
        "\n",
        "    return longest_tokens_ids, longest_tokens\n",
        "\n",
        "\n",
        "def show_k_shortest_tokens_id(tokenizer: transformers.PreTrainedTokenizerFast, k: int = 10):\n",
        "\n",
        "    tokens = tokenizer.get_vocab().keys()\n",
        "    sorted_tokens = sorted(tokens, key=len)[:k]\n",
        "\n",
        "    shortest_tokens = sorted_tokens[:k]\n",
        "\n",
        "    shortest_tokens_ids = [tokenizer.convert_tokens_to_ids(token) for token in shortest_tokens]\n",
        "\n",
        "    return shortest_tokens_ids, shortest_tokens\n"
      ]
    },
    {
      "cell_type": "code",
      "execution_count": 12,
      "metadata": {
        "colab": {
          "base_uri": "https://localhost:8080/"
        },
        "id": "AmfmWG-xjaFY",
        "outputId": "6fef7071-a031-4cae-8c7f-985a59b44efb"
      },
      "outputs": [
        {
          "name": "stdout",
          "output_type": "stream",
          "text": [
            "Rozmiar słownika tokenów:  51200\n",
            "Średnia długość tokenu:  7.3405078125\n"
          ]
        }
      ],
      "source": [
        "print(\"Rozmiar słownika tokenów: \", check_vocab_size(tokenizer))\n",
        "print(\"Średnia długość tokenu: \", check_avg_token_size(tokenizer))"
      ]
    },
    {
      "cell_type": "code",
      "execution_count": 13,
      "metadata": {
        "colab": {
          "base_uri": "https://localhost:8080/"
        },
        "id": "p2loLQoUjaFY",
        "outputId": "5999e573-6f49-4f62-f5eb-51773f093f57"
      },
      "outputs": [
        {
          "name": "stdout",
          "output_type": "stream",
          "text": [
            "Najdłuższe tokeny:  ['½ï¿½ï¿½ï¿½ï¿½ï¿½ï¿½ï¿½ï¿½ï¿½ï¿½ï¿½ï¿½ï¿½ï¿½ï¿½ï¿½ï¿½ï¿½ï¿½ï¿½ï¿½ï¿½ï¿½ï¿½ï¿½ï¿½ï¿½ï¿½ï¿½ï¿½ï¿½ï¿½ï¿½ï¿½ï¿½ï¿½ï¿½ï¿½ï¿½ï¿½ï¿½ï¿½ï¿½ï¿½ï¿½ï¿½ï¿½ï¿½ï¿½ï¿½ï¿½ï¿½ï¿½ï¿½ï¿½ï¿½ï¿½ï¿½ï¿½ï¿½ï¿½ï¿½ï¿½ï¿', '½ï¿½ï¿½ï¿½ï¿½ï¿½ï¿½ï¿½ï¿½ï¿½ï¿½ï¿½ï¿½ï¿½ï¿½ï¿½ï¿½ï¿½ï¿½ï¿½ï¿½ï¿½ï¿½ï¿½ï¿½ï¿½ï¿½ï¿½ï¿½ï¿½ï¿½ï¿½ï¿', '................................................................', '½ï¿½ï¿½ï¿½ï¿½ï¿½ï¿½ï¿½ï¿½ï¿½ï¿½ï¿½ï¿½ï¿½ï¿½ï¿½ï¿', '·½ï·½ï·½ï·½ï·½ï·½ï·½ï·½ï·½ï·½ï·½ï·½ï·½ï·½ï·½ï·½ï', '................................', '________________________________', '·½ï·½ï·½ï·½ï·½ï·½ï·½ï·½ï', '½ï¿½ï¿½ï¿½ï¿½ï¿½ï¿½ï¿½ï¿', 'ĠAnonimoweMirkoWyznania', 'ĠdziewiÄĻÄĩdziesiÄħtych', 'nonimoweMirkoWyznania', 'ĠniepeÅĤnosprawnoÅĽci', 'ĠodpowiedzialnoÅĽciÄħ', 'ĠprzedsiÄĻbiorczoÅĽci', 'ĠbÅĤogosÅĤawieÅĦstwo', 'ĠniebezpieczeÅĦstwem', 'Ġnajpopularniejszych', 'Ġrzymskokatolickiego', 'ĠniesprawiedliwoÅĽci', 'ĠwspÃ³ÅĤpracownikÃ³w', 'ĠprawdopodobieÅĦstwo', 'ĠprzedsiÄĻbiorstwach', 'ĠdziewiÄĻÄĩdziesiÄħt', 'ĠszeÅĽÄĩdziesiÄħtych', 'ĠspoÅĤecznoÅĽciowych', 'ĠniebezpieczeÅĦstwie', 'Ġcharakterystycznych', 'ĠprawdopodobieÅĦstwa', 'ĠnieprawidÅĤowoÅĽci', 'ĠÅĽwiÄĻtokrzyskiego', 'ĠNiepeÅĤnosprawnych', 'ĠchrzeÅĽcijaÅĦskich', 'ĠniepeÅĤnosprawnych', 'ĠniebezpieczeÅĦstwo', 'ĠniebezpieczeÅĦstwa', 'ĠsiedemdziesiÄħtych', 'ĠchrzeÅĽcijaÅĦskiej', 'ĠodpowiedzialnoÅĽci', 'Ġcharakterystycznym']\n",
            "Identyfikatory najdłuższych tokenów:  [36527, 22264, 42740, 13496, 35805, 14827, 33348, 21767, 8035, 20836, 42193, 17987, 26128, 28282, 36014, 44712, 48216, 45997, 45788, 45052, 24557, 19705, 44983, 34618, 37157, 24216, 32652, 44718, 37978, 14940, 47496, 47984, 36997, 11512, 11467, 19618, 35168, 31187, 7721, 46414]\n"
          ]
        }
      ],
      "source": [
        "longest_tokens_ids, longest_tokens = show_k_longest_tokens_id(tokenizer, k=40)\n",
        "\n",
        "print(\"Najdłuższe tokeny: \", longest_tokens)\n",
        "print(\"Identyfikatory najdłuższych tokenów: \", longest_tokens_ids)"
      ]
    },
    {
      "cell_type": "code",
      "execution_count": 14,
      "metadata": {
        "colab": {
          "base_uri": "https://localhost:8080/"
        },
        "id": "uNs6JdEWjaFY",
        "outputId": "4fa991e9-95e2-43e9-aeba-012ca7c0d505"
      },
      "outputs": [
        {
          "name": "stdout",
          "output_type": "stream",
          "text": [
            "Najkrótsze tokeny:  ['Ķ', '¸', 'Ħ', 'P', 'Ä', '!', 'p', 'Q', '.', 'â']\n",
            "Identyfikatory najkrótszych tokenów:  [247, 121, 231, 52, 133, 5, 84, 53, 18, 163]\n"
          ]
        }
      ],
      "source": [
        "shortest_tokens_ids, shorthest_tokens = show_k_shortest_tokens_id(tokenizer, k=10)\n",
        "print(\"Najkrótsze tokeny: \", shorthest_tokens)\n",
        "print(\"Identyfikatory najkrótszych tokenów: \", shortest_tokens_ids)"
      ]
    },
    {
      "cell_type": "markdown",
      "metadata": {
        "id": "bYp7i9rGhi2r"
      },
      "source": [
        "## Architektura autoregresyjnego modelu językowego"
      ]
    },
    {
      "cell_type": "markdown",
      "metadata": {
        "id": "0Yj68GgwiTuP"
      },
      "source": [
        "W tej części notatnika utworzymy autoregresyjny model językowy (inne nazwy: *decoder-only*, *autoregressive*, *generative model*) wzorowany na architekturze GPT-2. Model trenowany będzie w sposób samonadzorowany na zadaniu przyczynowego modelowania języka (*causal language modeling*) z wykorzystaniem korpusu tekstów w języku polskim. Zadaniem modelu będzie predykcja kolejnego tokenu dla podanej początkowej sekwencji.\n",
        "\n",
        "Architektura modelu jest oparta o architekturę najmniejszej wersji modelu GPT-2 (GPT-2 small, 124 milionów parametrów) z następującymi zmianami:\n",
        "\n",
        "\n",
        "*   rozmiar okna kontekstu zmniejszono z 1024 do 256 tokenów,\n",
        "*   wykorzystano polski tokenizator o rozmiarze słownika 51'200 tokenów. Oryginalny model GPT-2 wykorzystuje tokenizator zawierający 50'257 tokenów.\n",
        "\n",
        "\n",
        "\n"
      ]
    },
    {
      "cell_type": "code",
      "execution_count": 15,
      "metadata": {
        "id": "MTrRKotjIC-y"
      },
      "outputs": [],
      "source": [
        "MY_GPT_CONFIG = {\n",
        "    \"vocab_size\": tokenizer.vocab_size, # Rozmiar słownika\n",
        "    \"context_length\": 256 ,             # Długośc kontekstu (w tokenach)\n",
        "    \"emb_dim\": 768,                     # Wymiar wektorej reprezentacji tokenu (embedding size)\n",
        "    \"n_heads\": 12,                      # Liczba głowic atencji (w bloku multi-head attention)\n",
        "    \"n_layers\": 12,                     # Liczba wartsw Transformer\n",
        "    \"feedforward_dim_mult\": 4,          # Mnożnik wielkości warstwy ukrytej w części w pełni połączonej\n",
        "    \"add_bias_kv\": False,               # Czy dodawać obiążenie (bias) przy wyznaczaniu wartości key i value\n",
        "    \"drop_rate\": 0.1                    # Stopa odrzutu\n",
        "}"
      ]
    },
    {
      "cell_type": "markdown",
      "metadata": {
        "id": "I3P9kAPqRis5"
      },
      "source": [
        "Autoregresyjne modele językowe, takie jak GPT lub Llama, oparte są o **architekturę Transformer** zwaną transformatorem cech głębokich z atencją. Oryginalna wersja architektury Transformer, zaprezentowana w artykule *Attention Is All You Need* ([link](https://arxiv.org/pdf/1706.03762)), złożona jest z dwóch części: kodera i dekodera. **Modele autoregresyjne wykorzystują tylko część dekodującą** stąd nazywane bywają modelami *tylko-dekoder*."
      ]
    },
    {
      "cell_type": "markdown",
      "metadata": {
        "id": "mEWlX327yCrf"
      },
      "source": [
        "![image.png](data:image/png;base64,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)"
      ]
    },
    {
      "cell_type": "markdown",
      "metadata": {
        "id": "RUqLrv7uiFxr"
      },
      "source": [
        "### Elementy składowe dekodera Transformer\n",
        "\n"
      ]
    },
    {
      "cell_type": "markdown",
      "metadata": {
        "id": "ljuxuJiuyk4I"
      },
      "source": [
        "**Blok dekodera Transformer** wykorzystywany przez modele klasy GPT składa się z następujących elementów:\n",
        "\n",
        "1.   Maskowana wielogłowicowa atencja (*masked multi-head attention*), inaczej zwana atencją przyczynową (*causal attention*)\n",
        "2.   Normalizacja warstwy (*layer norm*)\n",
        "3.   Blok w pełni połączony (*feed forward*): dwuwarstwowy perceptron\n",
        "4.   Normalizacja warstwy (*layer norm*)\n",
        "\n",
        "Dwa dodatkowe połączenia rezydualne poprawiają przepływ gradientu podczas trenowania modelu.\n",
        "\n",
        "Model językowy zwykle zawiera od kilku do kilkudziesięciu połączonych sekwencyjnie bloków transformatora (oznaczonych na rysunku Nx).\n"
      ]
    },
    {
      "cell_type": "markdown",
      "metadata": {
        "id": "k_U66a10Q4F7"
      },
      "source": [
        "Definicja pomocniczej funkcji wyświetlającej liczbę parametrów modelu."
      ]
    },
    {
      "cell_type": "code",
      "execution_count": 16,
      "metadata": {
        "id": "9jjInZZHaP7L"
      },
      "outputs": [],
      "source": [
        "def print_params_count(model: nn.Module):\n",
        "  total_params = sum(p.numel() for p in model.parameters())\n",
        "  total_size_mb = total_params * 4 / (1024 * 1024)\n",
        "  total_size_bytes = total_params * 4\n",
        "  trainable_params = sum(p.numel() for p in model.parameters() if p.requires_grad)\n",
        "  print(f'Number of parameters - Total: {total_params:,d} ({total_size_mb:.1f} MB)   Trainable: {trainable_params:,d}')\n"
      ]
    },
    {
      "cell_type": "markdown",
      "metadata": {
        "id": "RIzG2QZNY_6i"
      },
      "source": [
        "#### Warstwa wielogłowicowej atencji (Multi-Head Attention)"
      ]
    },
    {
      "cell_type": "markdown",
      "metadata": {
        "id": "nIljbwRVyJuq"
      },
      "source": [
        "Wykorzystamy efektywną implementację **warstwy wielogłowicowej atencji** z biblioteki PyTorch: klasa `MultiheadAttention` ([link](https://pytorch.org/docs/stable/generated/torch.nn.MultiheadAttention.html#multiheadattention)).\n",
        "Zadaniem warstwy atencji jest uaktualnienie wektorów cech w sekwencji wejściowej, biorąc pod uwagę **kontekst**.\n",
        "\n",
        "Zadaniem autoregresyjnego modelu językowego jest **predykcja kolejnego tokenu na podstawie poprzedzającej sekwencji**. Zatem **kontekst** $i$-tego elementu (wektorowej reprezentacji $i$-tego tokenu) nie może zawierać elementów występujących później w sekwencji (na pozycjach $i+1, i+2, \\ldots$).\n",
        "Aby wykluczyć z **kontekstu** elementy następujące później w sekwencji stosujemy maskę atencji.\n",
        "Metoda `generate_square_subsequent_mask` generuje kwadratową maskę atencji przyczynowej (*causal attention*), która dla każdego elementu sekwencji ogranicza kontekst maskując dostęp do następujących później elementów."
      ]
    },
    {
      "cell_type": "code",
      "execution_count": 17,
      "metadata": {
        "colab": {
          "base_uri": "https://localhost:8080/"
        },
        "id": "_jdyDou0lKkm",
        "outputId": "41303e96-4886-4184-91b4-8769ff0c407b"
      },
      "outputs": [
        {
          "name": "stdout",
          "output_type": "stream",
          "text": [
            "tensor([[0., -inf, -inf, -inf],\n",
            "        [0., 0., -inf, -inf],\n",
            "        [0., 0., 0., -inf],\n",
            "        [0., 0., 0., 0.]])\n"
          ]
        }
      ],
      "source": [
        "seq_len = 4         # Długośc sekwencji\n",
        "\n",
        "attn_mask = nn.Transformer.generate_square_subsequent_mask(seq_len)\n",
        "print(attn_mask)"
      ]
    },
    {
      "cell_type": "markdown",
      "metadata": {
        "id": "WcmOnLZYlKLn"
      },
      "source": [
        "Parametry warstwy `MultiheadAttention`:\n",
        "\n",
        "- `embed_dim` (*embedding dim*) określa rozmiar przetwarzanych wektorów cech. W naszym przypadku równy jest rozmiarowi wektorowych reprezentacji tokenu (768)\n",
        "\n",
        "- `num_heads` to liczba głowic atencji\n",
        "\n",
        "-  `batch_first=True` zmienia wymagany format wejściowych tensorów na *(rozmiar wsadu, długość sekwencji, rozmiar wektora cech)*\n"
      ]
    },
    {
      "cell_type": "code",
      "execution_count": 18,
      "metadata": {
        "colab": {
          "base_uri": "https://localhost:8080/"
        },
        "id": "e3yyGOhQ4kfx",
        "outputId": "75b68bc3-19e0-4462-fd33-ab2531aa945c"
      },
      "outputs": [
        {
          "name": "stdout",
          "output_type": "stream",
          "text": [
            "MultiheadAttention(\n",
            "  (out_proj): NonDynamicallyQuantizableLinear(in_features=768, out_features=768, bias=True)\n",
            ")\n",
            "Number of parameters - Total: 2,362,368 (9.0 MB)   Trainable: 2,362,368\n"
          ]
        }
      ],
      "source": [
        "att = nn.MultiheadAttention(\n",
        "    embed_dim=MY_GPT_CONFIG[\"emb_dim\"],\n",
        "    num_heads=MY_GPT_CONFIG[\"n_heads\"],\n",
        "    dropout=MY_GPT_CONFIG[\"drop_rate\"],\n",
        "    add_bias_kv=MY_GPT_CONFIG[\"add_bias_kv\"],\n",
        "    batch_first=True\n",
        "    )\n",
        "print(att)\n",
        "print_params_count(att)"
      ]
    },
    {
      "cell_type": "markdown",
      "metadata": {
        "id": "cknUx081bDAZ"
      },
      "source": [
        "W ogólności na wejściu do warstwy wielogłowicowej atencji możemy podać trzy różne tensory: `query` (zapytanie), `key` (klucz), `value` (wartość), zawierające wektory cech które chcemy auktualnić i wektory cech tworzące kontekst.\n",
        "W autoregresyjnych modelach językowych **kontekst stanowią poprzedzające elementy z tej samej sekwencji**. Wobec tego wszystkie trzy tensory `query`, `key`, `value` przyjmują tą samą wartość.\n",
        "\n",
        "Parametr `attn_mask` określa maskę atencji definiującą kontekst brany pod uwagę przy uaktualnianiu kolejnych wektorów cech w sekwencji wejściowej.\n",
        "Flaga `is_causal=True` mówi, że podana maska atencji jest przyczynowa (*causal mask*) - czyli, że dla danego elementu sekwencji NIE bierze pod uwagę elementów po nim następujących."
      ]
    },
    {
      "cell_type": "code",
      "execution_count": 19,
      "metadata": {
        "colab": {
          "base_uri": "https://localhost:8080/"
        },
        "id": "dnsMfSNwUb_j",
        "outputId": "cb880ac4-22a7-4b82-d2ea-8b089d76f2ca"
      },
      "outputs": [
        {
          "name": "stdout",
          "output_type": "stream",
          "text": [
            "Rozmiar wejściowego tensora (x): torch.Size([2, 4, 768])\n",
            "Rozmiar wyjściowego tensora (attn_output): torch.Size([2, 4, 768])\n",
            "Rozmiar wyjściowego wektora wag (attn_output_weights): torch.Size([2, 4, 4])\n",
            "\n",
            "tensor([[[1.0185, 0.0000, 0.0000, 0.0000],\n",
            "         [0.4790, 0.5389, 0.0000, 0.0000],\n",
            "         [0.2835, 0.3549, 0.3163, 0.0000],\n",
            "         [0.1616, 0.2667, 0.2413, 0.2723]],\n",
            "\n",
            "        [[0.9259, 0.0000, 0.0000, 0.0000],\n",
            "         [0.4396, 0.5782, 0.0000, 0.0000],\n",
            "         [0.3033, 0.3434, 0.3391, 0.0000],\n",
            "         [0.2033, 0.2612, 0.2874, 0.2251]]], grad_fn=<MeanBackward1>)\n"
          ]
        }
      ],
      "source": [
        "batch_size = 2      # Rozmiar wsadu\n",
        "\n",
        "x = torch.rand(batch_size, seq_len, MY_GPT_CONFIG[\"emb_dim\"])\n",
        "print(f\"Rozmiar wejściowego tensora (x): {x.shape}\")\n",
        "\n",
        "attn_output, attn_output_weights = att(query=x, key=x, value=x,\n",
        "                                       attn_mask=attn_mask, is_causal=True)\n",
        "\n",
        "print(f\"Rozmiar wyjściowego tensora (attn_output): {attn_output.shape}\")\n",
        "print(f\"Rozmiar wyjściowego wektora wag (attn_output_weights): {attn_output_weights.shape}\")\n",
        "print()\n",
        "print(attn_output_weights)"
      ]
    },
    {
      "cell_type": "markdown",
      "metadata": {
        "id": "FSuMALdFYJh2"
      },
      "source": [
        "Na wejściu jako `query`, `key` i `value` podajemy ten sam tensor zawierający `batch_size=2` sekwencji złożonych z `seq_len=4` wektorów cech o `emb_dim=768` wymiarach.\n",
        "\n",
        "Na wyjściu otrzymujemy parę:\n",
        "- `attn_output` - tensor zawierający uaktualnione wektory cech. Każdy wektor cech jest uaktualniany biorąc pod uwagę **kontekst**, czyli wartości poprzedzających wektorów cech w sekwencji, korzystając z mechanizmu atencji zapytanie-klucz-wartość (query-key-value). **Rozmiar wyjściowego tensora `attn_output` jest identyczny jak wejściowego tensora `x`**.\n",
        "- `attn_output_weights` - tensor zawierający kwadratowe macierze wag atencji, uśrednione po wszystkich głowicach atencji, dla każdej sekwencji we wsadzie. Zauważmy, że dla $i$-tego elementu w sekwencji, jego wagi atencji względem późniejszych elementów są zerowe (ponieważ zostały one zamaskowane maską atencji).\n"
      ]
    },
    {
      "cell_type": "markdown",
      "metadata": {
        "id": "edLPTZnESLiM"
      },
      "source": [
        "#### Normalizacja warstwy (*LayerNorm*)"
      ]
    },
    {
      "cell_type": "markdown",
      "metadata": {
        "id": "gYTHB_5JgrzH"
      },
      "source": [
        "Więcej informacji: [link](https://pytorch.org/docs/stable/generated/torch.nn.LayerNorm.html)"
      ]
    },
    {
      "cell_type": "code",
      "execution_count": 20,
      "metadata": {
        "id": "gPFE6mwK49_y"
      },
      "outputs": [],
      "source": [
        "layer_norm = nn.LayerNorm(MY_GPT_CONFIG[\"emb_dim\"])"
      ]
    },
    {
      "cell_type": "markdown",
      "metadata": {
        "id": "qUR6z7nu42-h"
      },
      "source": [
        "**Zadanie**\n",
        "\n",
        "Zaimplementuj następujące kroki:\n",
        "\n",
        "*   Utwórz losowy tensor zawierający zawierający jedną sekwencję 10 wektorów cech o `MY_GPT_CONFIG[\"emb_dim\"]` wymiarach. Tensor będzie miał rozmiar `(batch_size=1, seq_len=10, MY_GPT_CONFIG[\"emb_dim\"])`.\n",
        "*   Wyznacz średnią i odchylenie standardowe wartości każdego wektora cech\n",
        "*   Przetwórz tensor przez warstwę normalizacji `layer_norm` i wyznacz średnią i odchylenie standardowe wartości każdego wektora cech"
      ]
    },
    {
      "cell_type": "code",
      "execution_count": 21,
      "metadata": {
        "colab": {
          "base_uri": "https://localhost:8080/"
        },
        "id": "d_bQD-effMTt",
        "outputId": "ad1ecf48-4dd2-4bbf-8bc6-39ce58b10f59"
      },
      "outputs": [
        {
          "name": "stdout",
          "output_type": "stream",
          "text": [
            "Tensor przed normalizacją:\n",
            "Cecha 0: 0.50 +/- 0.29\n",
            "Cecha 1: 0.49 +/- 0.29\n",
            "Cecha 2: 0.49 +/- 0.29\n",
            "Cecha 3: 0.51 +/- 0.29\n",
            "Cecha 4: 0.50 +/- 0.29\n",
            "Cecha 5: 0.50 +/- 0.29\n",
            "Cecha 6: 0.51 +/- 0.29\n",
            "Cecha 7: 0.50 +/- 0.28\n",
            "Cecha 8: 0.49 +/- 0.29\n",
            "Cecha 9: 0.51 +/- 0.29\n",
            "\n",
            "Tensor po normalizacji:\n",
            "Cecha 0: 0.00 +/- 1.00\n",
            "Cecha 1: 0.00 +/- 1.00\n",
            "Cecha 2: 0.00 +/- 1.00\n",
            "Cecha 3: -0.00 +/- 1.00\n",
            "Cecha 4: 0.00 +/- 1.00\n",
            "Cecha 5: -0.00 +/- 1.00\n",
            "Cecha 6: 0.00 +/- 1.00\n",
            "Cecha 7: 0.00 +/- 1.00\n",
            "Cecha 8: -0.00 +/- 1.00\n",
            "Cecha 9: -0.00 +/- 1.00\n"
          ]
        }
      ],
      "source": [
        "BATCH_SIZE = 1\n",
        "SEQ_LEN = 10\n",
        "random_tensor = torch.rand(BATCH_SIZE, SEQ_LEN , MY_GPT_CONFIG[\"emb_dim\"])\n",
        "\n",
        "def calculate_mean_and_std_deviation(tensor: Tensor):\n",
        "    mean = torch.mean(tensor, dim=-1, keepdim=True)\n",
        "    std = torch.std(tensor, dim=-1, keepdim=True)\n",
        "    return mean, std\n",
        "\n",
        "print(\"Tensor przed normalizacją:\")\n",
        "mean, std = calculate_mean_and_std_deviation(random_tensor)\n",
        "\n",
        "for i in range(SEQ_LEN):\n",
        "    print(f\"Cecha {i}: {mean[0][i][0]:.2f} +/- {std[0][i][0]:.2f}\")\n",
        "\n",
        "print()\n",
        "print(\"Tensor po normalizacji:\")\n",
        "normalized_tensor = layer_norm(random_tensor)\n",
        "mean, std = calculate_mean_and_std_deviation(normalized_tensor)\n",
        "for i in range(SEQ_LEN):\n",
        "    print(f\"Cecha {i}: {mean[0][i][0]:.2f} +/- {std[0][i][0]:.2f}\")"
      ]
    },
    {
      "cell_type": "markdown",
      "metadata": {
        "id": "80xWchoNSEVe"
      },
      "source": [
        "#### Blok w pełni połączony"
      ]
    },
    {
      "cell_type": "markdown",
      "metadata": {
        "id": "blwgEFMWUZZy"
      },
      "source": [
        "W architekturze Transformer blok w pełni połączony jest zwykle dwuwarstwowym perceptronem:\n",
        "\n",
        "\n",
        "*   **Rozmiar wejścia i wyjścia jest równy rozmiarowi wektorowej reprezentacji tokenu** (w naszym modelu `cfg[\"emb_dim\"]=768`)\n",
        "*   Rozmiar warstwy pośredniej jest wielokrotnością rozmiaru wektorowej reprezentacji tokenu (w naszym modelu `cfg[\"feedforward_dim_mult\"]*cfg[\"emb_dim\"]=3072`)\n",
        "*   W modelach klasy GPT jako funkcję nieliniową wykorzystano GELU (*Gaussian Error Linear Unit*)\n",
        "\n"
      ]
    },
    {
      "cell_type": "code",
      "execution_count": 22,
      "metadata": {
        "id": "3rSOK5_Q9gyh"
      },
      "outputs": [],
      "source": [
        "class FeedForward(nn.Module):\n",
        "    def __init__(self, cfg):\n",
        "        super().__init__()\n",
        "        self.layers = nn.Sequential(\n",
        "            nn.Linear(cfg[\"emb_dim\"], cfg[\"feedforward_dim_mult\"] * cfg[\"emb_dim\"]),\n",
        "            nn.GELU(),\n",
        "            nn.Linear(cfg[\"feedforward_dim_mult\"] * cfg[\"emb_dim\"], cfg[\"emb_dim\"]),\n",
        "        )\n",
        "\n",
        "    def forward(self, x: Tensor) -> Tensor:\n",
        "        return self.layers(x)"
      ]
    },
    {
      "cell_type": "code",
      "execution_count": 23,
      "metadata": {
        "colab": {
          "base_uri": "https://localhost:8080/"
        },
        "id": "-Y5csktCWSkN",
        "outputId": "16d1af00-d2ac-49ae-97fd-a0c420406581"
      },
      "outputs": [
        {
          "name": "stdout",
          "output_type": "stream",
          "text": [
            "FeedForward(\n",
            "  (layers): Sequential(\n",
            "    (0): Linear(in_features=768, out_features=3072, bias=True)\n",
            "    (1): GELU(approximate='none')\n",
            "    (2): Linear(in_features=3072, out_features=768, bias=True)\n",
            "  )\n",
            ")\n",
            "Number of parameters - Total: 4,722,432 (18.0 MB)   Trainable: 4,722,432\n"
          ]
        }
      ],
      "source": [
        "ff_block = FeedForward(MY_GPT_CONFIG)\n",
        "print(ff_block)\n",
        "print_params_count(ff_block)"
      ]
    },
    {
      "cell_type": "markdown",
      "metadata": {
        "id": "V6c1QyR_hK48"
      },
      "source": [
        "Zauważmy, że blok w pełni połączony zawiera ponad dwa razy więcej trenowalnych parametrów (4,7 miliona) niż zdefiniowany wcześniej blok wielogłowicowej atencji (2,3 miliona parametrów)."
      ]
    },
    {
      "cell_type": "markdown",
      "metadata": {
        "id": "tu168M3nScCA"
      },
      "source": [
        "### Blok Transformer\n",
        "\n",
        "**Blok architektury Transformer** wykorzystywany w modelach klasy GPT złożony jest ze zdefiniowanych wcześniej komponentów:\n",
        "*   bloku maskowanej wielogłowicowej atencji,\n",
        "*   bloku w pełni połączonego\n",
        "*   dwóch normalizacji warstwy (*layer norm*)\n",
        "*   warstwy odrzutu (*dropout*)\n",
        "\n",
        "Dodatkowe połączenia rezydualne poprawiają przepływ gradientu podczas trenowania modelu.\n",
        "Współczesne modele językowe zwykle zawierają od kilkunastu do kilkudziesięciu połączonych sekwencyjnie bloków transformatora cech głębokich."
      ]
    },
    {
      "cell_type": "code",
      "execution_count": 24,
      "metadata": {
        "id": "BP6_KfWK8hae"
      },
      "outputs": [],
      "source": [
        "class TransformerBlock(nn.Module):\n",
        "    def __init__(self, cfg):\n",
        "        super().__init__()\n",
        "        self.att = nn.MultiheadAttention(\n",
        "            embed_dim=cfg[\"emb_dim\"],\n",
        "            num_heads=cfg[\"n_heads\"],\n",
        "            dropout=cfg[\"drop_rate\"],\n",
        "            add_bias_kv=cfg[\"add_bias_kv\"],\n",
        "            batch_first=True)\n",
        "        self.ff = FeedForward(cfg)\n",
        "        self.norm1 = nn.LayerNorm(cfg[\"emb_dim\"])\n",
        "        self.norm2 = nn.LayerNorm(cfg[\"emb_dim\"])\n",
        "        self.drop = nn.Dropout(cfg[\"drop_rate\"])\n",
        "\n",
        "    def forward(self, x):\n",
        "\n",
        "        shortcut = x\n",
        "        x = self.norm1(x)\n",
        "        # Blok atencji wielogłowicowej\n",
        "        seq_len = x.shape[1]\n",
        "        att_mask = nn.Transformer.generate_square_subsequent_mask(seq_len, device=x.device)\n",
        "        # Ten sam wektor dla Q, K, V (auto-atencja)\n",
        "        # MultiheadAttention zwraca parę (attn_output, Optional[attn_output_weights])\n",
        "        x = self.att(x, x, x, attn_mask=att_mask, need_weights=False, is_causal=True)[0]\n",
        "        x = self.drop(x)\n",
        "        x = x + shortcut    # Połączenie rezydualne\n",
        "\n",
        "        shortcut = x\n",
        "        x = self.norm2(x)\n",
        "        x = self.ff(x)\n",
        "        x = self.drop(x)\n",
        "        x = x + shortcut    # Połączenie rezydualne\n",
        "        return x"
      ]
    },
    {
      "cell_type": "code",
      "execution_count": 25,
      "metadata": {
        "colab": {
          "base_uri": "https://localhost:8080/"
        },
        "id": "y6h-un6RAKIV",
        "outputId": "cda549c3-cac4-4bca-d872-b93e206de52a"
      },
      "outputs": [
        {
          "name": "stdout",
          "output_type": "stream",
          "text": [
            "TransformerBlock(\n",
            "  (att): MultiheadAttention(\n",
            "    (out_proj): NonDynamicallyQuantizableLinear(in_features=768, out_features=768, bias=True)\n",
            "  )\n",
            "  (ff): FeedForward(\n",
            "    (layers): Sequential(\n",
            "      (0): Linear(in_features=768, out_features=3072, bias=True)\n",
            "      (1): GELU(approximate='none')\n",
            "      (2): Linear(in_features=3072, out_features=768, bias=True)\n",
            "    )\n",
            "  )\n",
            "  (norm1): LayerNorm((768,), eps=1e-05, elementwise_affine=True)\n",
            "  (norm2): LayerNorm((768,), eps=1e-05, elementwise_affine=True)\n",
            "  (drop): Dropout(p=0.1, inplace=False)\n",
            ")\n",
            "Number of parameters - Total: 7,087,872 (27.0 MB)   Trainable: 7,087,872\n"
          ]
        }
      ],
      "source": [
        "transformer_block = TransformerBlock(MY_GPT_CONFIG)\n",
        "print(transformer_block)\n",
        "print_params_count(transformer_block)\n"
      ]
    },
    {
      "cell_type": "markdown",
      "metadata": {
        "id": "HjF9vFKtWeln"
      },
      "source": [
        "**Zadanie**\n",
        "\n",
        "Napisz definicję klasy `MyTransformer` implementującą sieć złożoną z $k$ sekwencyjnie połączonych bloków `TransformerBlock`, gdzie $k$ jest parametrem metody `__init__`. Pamiętaj, że klasa implementująca sieć neuronową w PyTorch musi być klasą pochodną klasy `nn.Module`.\n",
        "\n",
        "Przetwórz losowy tensor o rozmiarach: (wielkość wsadu=2, długość sekwencji=8, rozmiar wektorów cech=768) przez sieć klasy MyTransformer złożoną z $k=4$ bloków.\n",
        "Wyświetl rozmiar wyjściowego tensora."
      ]
    },
    {
      "cell_type": "code",
      "execution_count": 26,
      "metadata": {
        "id": "ztn37ZTjT5dZ"
      },
      "outputs": [],
      "source": [
        "class MyTransformer(nn.Module):\n",
        "    def __init__(self, k, cfg=MY_GPT_CONFIG):\n",
        "        super().__init__()\n",
        "        self.blocks = nn.ModuleList([TransformerBlock(cfg) for _ in range(k)])\n",
        "\n",
        "\n",
        "    def forward(self, x: Tensor) -> Tensor:\n",
        "        for block in self.blocks:\n",
        "            x = block(x)\n",
        "        return x\n",
        "\n"
      ]
    },
    {
      "cell_type": "code",
      "execution_count": 27,
      "metadata": {
        "colab": {
          "base_uri": "https://localhost:8080/"
        },
        "id": "uiryqRbN7Uxv",
        "outputId": "36800f28-c66c-42bc-c371-12e4d6c7d973"
      },
      "outputs": [
        {
          "name": "stdout",
          "output_type": "stream",
          "text": [
            "Rozmiar wejściowego tensora (x): torch.Size([2, 4, 768])\n",
            "Rozmiar wyjściowego tensora (y): torch.Size([2, 4, 768])\n"
          ]
        }
      ],
      "source": [
        "x = torch.rand(2, 4, 768)\n",
        "my_transformer = MyTransformer(k=4)\n",
        "y = my_transformer(x)\n",
        "\n",
        "print(\"Rozmiar wejściowego tensora (x):\", x.shape)\n",
        "print(\"Rozmiar wyjściowego tensora (y):\", y.shape)"
      ]
    },
    {
      "cell_type": "markdown",
      "metadata": {
        "id": "7MPDx4eYiObQ"
      },
      "source": [
        "### Model językowy GPT"
      ]
    },
    {
      "cell_type": "markdown",
      "metadata": {
        "id": "Il-qMctJwlt2"
      },
      "source": [
        "**Definicja architektury kompletnego modelu z rodzinny GPT**. Model zawiera następujące komponenty:\n",
        "\n",
        "*   **Słownik wektorowych reprezentacji tokenów** (`self.tok_emb`). Wektorowe reprezentacje tokenów są inicjalizowane losowo i optymalizowane w procesie uczenia sieci.\n",
        "*   **Słownik kodów pozycyjnych** (`self.pos_emb`). W naszym modelu stosujemy podejście oparte o wyuczone kodowanie pozycyjnie - kody pozycyjne każdej pozycji w sekwencji są inicjalizowane losowo i optymalizowane w procesie uczenia sieci.\n",
        "*   **Sekwencyjnie połączone bloki Transformer**. W naszym modelu mamy `cfg[\"n_layers\"]=12` bloków.\n",
        "*   **Głowicę klasyfikacyjną** zwracającą rozkład prawdopodobieństwa kolejnego tokenu w sekwencji. Liczba klas jest równa rozmiarowi słownika (51200 w nazym modelu).\n",
        "\n",
        "\n"
      ]
    },
    {
      "cell_type": "markdown",
      "metadata": {
        "id": "f08itzyXDUiH"
      },
      "source": [
        "Słowniki wektorowych reprezentacji tokenów i kodów pozycyjnych są zaimplementowane jako warstwa `torch.nn.Embedding` [link](https://pytorch.org/docs/stable/generated/torch.nn.Embedding.html)."
      ]
    },
    {
      "cell_type": "code",
      "execution_count": 28,
      "metadata": {
        "id": "EgLqxfMSIyWN"
      },
      "outputs": [],
      "source": [
        "class GPTModel(nn.Module):\n",
        "    def __init__(self, cfg):\n",
        "        super().__init__()\n",
        "        self.context_length = cfg[\"context_length\"]\n",
        "        self.emb_dim = cfg[\"emb_dim\"]\n",
        "        self.vocab_size = cfg[\"vocab_size\"]\n",
        "\n",
        "        self.tok_emb = nn.Embedding(self.vocab_size, self.emb_dim)\n",
        "        self.pos_emb = nn.Embedding(self.context_length, self.emb_dim)\n",
        "        self.drop_emb = nn.Dropout(cfg[\"drop_rate\"])\n",
        "\n",
        "        self.trf_blocks = nn.Sequential(\n",
        "            *[TransformerBlock(cfg) for _ in range(cfg[\"n_layers\"])]\n",
        "            )\n",
        "\n",
        "        self.final_norm = nn.LayerNorm(self.emb_dim)\n",
        "        self.out_head = nn.Linear(self.emb_dim, self.vocab_size, bias=False)\n",
        "\n",
        "    def forward(self, token_ids: Tensor) -> Tensor:\n",
        "        batch_size, seq_len = token_ids.shape\n",
        "        assert seq_len <= self.context_length\n",
        "\n",
        "        tok_embeds = self.tok_emb(token_ids)\n",
        "\n",
        "        pos_embeds = self.pos_emb(torch.arange(seq_len, device=token_ids.device))\n",
        "        # Sumowanie wektorowych reprezentacji tokenów i wektorów kodujących pozycje\n",
        "        x = tok_embeds + pos_embeds\n",
        "        x = self.drop_emb(x)\n",
        "        x = self.trf_blocks(x)\n",
        "        x = self.final_norm(x)\n",
        "        # Klasyfkator liniowy - predykcja kolejnego tokenu w sekwencji\n",
        "        logits = self.out_head(x)\n",
        "        return logits\n"
      ]
    },
    {
      "cell_type": "code",
      "execution_count": 29,
      "metadata": {
        "colab": {
          "base_uri": "https://localhost:8080/"
        },
        "id": "UvmdUsP8Nlat",
        "outputId": "856950af-4c34-4419-d58e-5481040d5c4a"
      },
      "outputs": [
        {
          "name": "stdout",
          "output_type": "stream",
          "text": [
            "{'vocab_size': 51200, 'context_length': 256, 'emb_dim': 768, 'n_heads': 12, 'n_layers': 12, 'feedforward_dim_mult': 4, 'add_bias_kv': False, 'drop_rate': 0.1}\n",
            "GPTModel(\n",
            "  (tok_emb): Embedding(51200, 768)\n",
            "  (pos_emb): Embedding(256, 768)\n",
            "  (drop_emb): Dropout(p=0.1, inplace=False)\n",
            "  (trf_blocks): Sequential(\n",
            "    (0): TransformerBlock(\n",
            "      (att): MultiheadAttention(\n",
            "        (out_proj): NonDynamicallyQuantizableLinear(in_features=768, out_features=768, bias=True)\n",
            "      )\n",
            "      (ff): FeedForward(\n",
            "        (layers): Sequential(\n",
            "          (0): Linear(in_features=768, out_features=3072, bias=True)\n",
            "          (1): GELU(approximate='none')\n",
            "          (2): Linear(in_features=3072, out_features=768, bias=True)\n",
            "        )\n",
            "      )\n",
            "      (norm1): LayerNorm((768,), eps=1e-05, elementwise_affine=True)\n",
            "      (norm2): LayerNorm((768,), eps=1e-05, elementwise_affine=True)\n",
            "      (drop): Dropout(p=0.1, inplace=False)\n",
            "    )\n",
            "    (1): TransformerBlock(\n",
            "      (att): MultiheadAttention(\n",
            "        (out_proj): NonDynamicallyQuantizableLinear(in_features=768, out_features=768, bias=True)\n",
            "      )\n",
            "      (ff): FeedForward(\n",
            "        (layers): Sequential(\n",
            "          (0): Linear(in_features=768, out_features=3072, bias=True)\n",
            "          (1): GELU(approximate='none')\n",
            "          (2): Linear(in_features=3072, out_features=768, bias=True)\n",
            "        )\n",
            "      )\n",
            "      (norm1): LayerNorm((768,), eps=1e-05, elementwise_affine=True)\n",
            "      (norm2): LayerNorm((768,), eps=1e-05, elementwise_affine=True)\n",
            "      (drop): Dropout(p=0.1, inplace=False)\n",
            "    )\n",
            "    (2): TransformerBlock(\n",
            "      (att): MultiheadAttention(\n",
            "        (out_proj): NonDynamicallyQuantizableLinear(in_features=768, out_features=768, bias=True)\n",
            "      )\n",
            "      (ff): FeedForward(\n",
            "        (layers): Sequential(\n",
            "          (0): Linear(in_features=768, out_features=3072, bias=True)\n",
            "          (1): GELU(approximate='none')\n",
            "          (2): Linear(in_features=3072, out_features=768, bias=True)\n",
            "        )\n",
            "      )\n",
            "      (norm1): LayerNorm((768,), eps=1e-05, elementwise_affine=True)\n",
            "      (norm2): LayerNorm((768,), eps=1e-05, elementwise_affine=True)\n",
            "      (drop): Dropout(p=0.1, inplace=False)\n",
            "    )\n",
            "    (3): TransformerBlock(\n",
            "      (att): MultiheadAttention(\n",
            "        (out_proj): NonDynamicallyQuantizableLinear(in_features=768, out_features=768, bias=True)\n",
            "      )\n",
            "      (ff): FeedForward(\n",
            "        (layers): Sequential(\n",
            "          (0): Linear(in_features=768, out_features=3072, bias=True)\n",
            "          (1): GELU(approximate='none')\n",
            "          (2): Linear(in_features=3072, out_features=768, bias=True)\n",
            "        )\n",
            "      )\n",
            "      (norm1): LayerNorm((768,), eps=1e-05, elementwise_affine=True)\n",
            "      (norm2): LayerNorm((768,), eps=1e-05, elementwise_affine=True)\n",
            "      (drop): Dropout(p=0.1, inplace=False)\n",
            "    )\n",
            "    (4): TransformerBlock(\n",
            "      (att): MultiheadAttention(\n",
            "        (out_proj): NonDynamicallyQuantizableLinear(in_features=768, out_features=768, bias=True)\n",
            "      )\n",
            "      (ff): FeedForward(\n",
            "        (layers): Sequential(\n",
            "          (0): Linear(in_features=768, out_features=3072, bias=True)\n",
            "          (1): GELU(approximate='none')\n",
            "          (2): Linear(in_features=3072, out_features=768, bias=True)\n",
            "        )\n",
            "      )\n",
            "      (norm1): LayerNorm((768,), eps=1e-05, elementwise_affine=True)\n",
            "      (norm2): LayerNorm((768,), eps=1e-05, elementwise_affine=True)\n",
            "      (drop): Dropout(p=0.1, inplace=False)\n",
            "    )\n",
            "    (5): TransformerBlock(\n",
            "      (att): MultiheadAttention(\n",
            "        (out_proj): NonDynamicallyQuantizableLinear(in_features=768, out_features=768, bias=True)\n",
            "      )\n",
            "      (ff): FeedForward(\n",
            "        (layers): Sequential(\n",
            "          (0): Linear(in_features=768, out_features=3072, bias=True)\n",
            "          (1): GELU(approximate='none')\n",
            "          (2): Linear(in_features=3072, out_features=768, bias=True)\n",
            "        )\n",
            "      )\n",
            "      (norm1): LayerNorm((768,), eps=1e-05, elementwise_affine=True)\n",
            "      (norm2): LayerNorm((768,), eps=1e-05, elementwise_affine=True)\n",
            "      (drop): Dropout(p=0.1, inplace=False)\n",
            "    )\n",
            "    (6): TransformerBlock(\n",
            "      (att): MultiheadAttention(\n",
            "        (out_proj): NonDynamicallyQuantizableLinear(in_features=768, out_features=768, bias=True)\n",
            "      )\n",
            "      (ff): FeedForward(\n",
            "        (layers): Sequential(\n",
            "          (0): Linear(in_features=768, out_features=3072, bias=True)\n",
            "          (1): GELU(approximate='none')\n",
            "          (2): Linear(in_features=3072, out_features=768, bias=True)\n",
            "        )\n",
            "      )\n",
            "      (norm1): LayerNorm((768,), eps=1e-05, elementwise_affine=True)\n",
            "      (norm2): LayerNorm((768,), eps=1e-05, elementwise_affine=True)\n",
            "      (drop): Dropout(p=0.1, inplace=False)\n",
            "    )\n",
            "    (7): TransformerBlock(\n",
            "      (att): MultiheadAttention(\n",
            "        (out_proj): NonDynamicallyQuantizableLinear(in_features=768, out_features=768, bias=True)\n",
            "      )\n",
            "      (ff): FeedForward(\n",
            "        (layers): Sequential(\n",
            "          (0): Linear(in_features=768, out_features=3072, bias=True)\n",
            "          (1): GELU(approximate='none')\n",
            "          (2): Linear(in_features=3072, out_features=768, bias=True)\n",
            "        )\n",
            "      )\n",
            "      (norm1): LayerNorm((768,), eps=1e-05, elementwise_affine=True)\n",
            "      (norm2): LayerNorm((768,), eps=1e-05, elementwise_affine=True)\n",
            "      (drop): Dropout(p=0.1, inplace=False)\n",
            "    )\n",
            "    (8): TransformerBlock(\n",
            "      (att): MultiheadAttention(\n",
            "        (out_proj): NonDynamicallyQuantizableLinear(in_features=768, out_features=768, bias=True)\n",
            "      )\n",
            "      (ff): FeedForward(\n",
            "        (layers): Sequential(\n",
            "          (0): Linear(in_features=768, out_features=3072, bias=True)\n",
            "          (1): GELU(approximate='none')\n",
            "          (2): Linear(in_features=3072, out_features=768, bias=True)\n",
            "        )\n",
            "      )\n",
            "      (norm1): LayerNorm((768,), eps=1e-05, elementwise_affine=True)\n",
            "      (norm2): LayerNorm((768,), eps=1e-05, elementwise_affine=True)\n",
            "      (drop): Dropout(p=0.1, inplace=False)\n",
            "    )\n",
            "    (9): TransformerBlock(\n",
            "      (att): MultiheadAttention(\n",
            "        (out_proj): NonDynamicallyQuantizableLinear(in_features=768, out_features=768, bias=True)\n",
            "      )\n",
            "      (ff): FeedForward(\n",
            "        (layers): Sequential(\n",
            "          (0): Linear(in_features=768, out_features=3072, bias=True)\n",
            "          (1): GELU(approximate='none')\n",
            "          (2): Linear(in_features=3072, out_features=768, bias=True)\n",
            "        )\n",
            "      )\n",
            "      (norm1): LayerNorm((768,), eps=1e-05, elementwise_affine=True)\n",
            "      (norm2): LayerNorm((768,), eps=1e-05, elementwise_affine=True)\n",
            "      (drop): Dropout(p=0.1, inplace=False)\n",
            "    )\n",
            "    (10): TransformerBlock(\n",
            "      (att): MultiheadAttention(\n",
            "        (out_proj): NonDynamicallyQuantizableLinear(in_features=768, out_features=768, bias=True)\n",
            "      )\n",
            "      (ff): FeedForward(\n",
            "        (layers): Sequential(\n",
            "          (0): Linear(in_features=768, out_features=3072, bias=True)\n",
            "          (1): GELU(approximate='none')\n",
            "          (2): Linear(in_features=3072, out_features=768, bias=True)\n",
            "        )\n",
            "      )\n",
            "      (norm1): LayerNorm((768,), eps=1e-05, elementwise_affine=True)\n",
            "      (norm2): LayerNorm((768,), eps=1e-05, elementwise_affine=True)\n",
            "      (drop): Dropout(p=0.1, inplace=False)\n",
            "    )\n",
            "    (11): TransformerBlock(\n",
            "      (att): MultiheadAttention(\n",
            "        (out_proj): NonDynamicallyQuantizableLinear(in_features=768, out_features=768, bias=True)\n",
            "      )\n",
            "      (ff): FeedForward(\n",
            "        (layers): Sequential(\n",
            "          (0): Linear(in_features=768, out_features=3072, bias=True)\n",
            "          (1): GELU(approximate='none')\n",
            "          (2): Linear(in_features=3072, out_features=768, bias=True)\n",
            "        )\n",
            "      )\n",
            "      (norm1): LayerNorm((768,), eps=1e-05, elementwise_affine=True)\n",
            "      (norm2): LayerNorm((768,), eps=1e-05, elementwise_affine=True)\n",
            "      (drop): Dropout(p=0.1, inplace=False)\n",
            "    )\n",
            "  )\n",
            "  (final_norm): LayerNorm((768,), eps=1e-05, elementwise_affine=True)\n",
            "  (out_head): Linear(in_features=768, out_features=51200, bias=False)\n",
            ")\n",
            "Device: cuda\n"
          ]
        },
        {
          "data": {
            "text/plain": [
              "GPTModel(\n",
              "  (tok_emb): Embedding(51200, 768)\n",
              "  (pos_emb): Embedding(256, 768)\n",
              "  (drop_emb): Dropout(p=0.1, inplace=False)\n",
              "  (trf_blocks): Sequential(\n",
              "    (0): TransformerBlock(\n",
              "      (att): MultiheadAttention(\n",
              "        (out_proj): NonDynamicallyQuantizableLinear(in_features=768, out_features=768, bias=True)\n",
              "      )\n",
              "      (ff): FeedForward(\n",
              "        (layers): Sequential(\n",
              "          (0): Linear(in_features=768, out_features=3072, bias=True)\n",
              "          (1): GELU(approximate='none')\n",
              "          (2): Linear(in_features=3072, out_features=768, bias=True)\n",
              "        )\n",
              "      )\n",
              "      (norm1): LayerNorm((768,), eps=1e-05, elementwise_affine=True)\n",
              "      (norm2): LayerNorm((768,), eps=1e-05, elementwise_affine=True)\n",
              "      (drop): Dropout(p=0.1, inplace=False)\n",
              "    )\n",
              "    (1): TransformerBlock(\n",
              "      (att): MultiheadAttention(\n",
              "        (out_proj): NonDynamicallyQuantizableLinear(in_features=768, out_features=768, bias=True)\n",
              "      )\n",
              "      (ff): FeedForward(\n",
              "        (layers): Sequential(\n",
              "          (0): Linear(in_features=768, out_features=3072, bias=True)\n",
              "          (1): GELU(approximate='none')\n",
              "          (2): Linear(in_features=3072, out_features=768, bias=True)\n",
              "        )\n",
              "      )\n",
              "      (norm1): LayerNorm((768,), eps=1e-05, elementwise_affine=True)\n",
              "      (norm2): LayerNorm((768,), eps=1e-05, elementwise_affine=True)\n",
              "      (drop): Dropout(p=0.1, inplace=False)\n",
              "    )\n",
              "    (2): TransformerBlock(\n",
              "      (att): MultiheadAttention(\n",
              "        (out_proj): NonDynamicallyQuantizableLinear(in_features=768, out_features=768, bias=True)\n",
              "      )\n",
              "      (ff): FeedForward(\n",
              "        (layers): Sequential(\n",
              "          (0): Linear(in_features=768, out_features=3072, bias=True)\n",
              "          (1): GELU(approximate='none')\n",
              "          (2): Linear(in_features=3072, out_features=768, bias=True)\n",
              "        )\n",
              "      )\n",
              "      (norm1): LayerNorm((768,), eps=1e-05, elementwise_affine=True)\n",
              "      (norm2): LayerNorm((768,), eps=1e-05, elementwise_affine=True)\n",
              "      (drop): Dropout(p=0.1, inplace=False)\n",
              "    )\n",
              "    (3): TransformerBlock(\n",
              "      (att): MultiheadAttention(\n",
              "        (out_proj): NonDynamicallyQuantizableLinear(in_features=768, out_features=768, bias=True)\n",
              "      )\n",
              "      (ff): FeedForward(\n",
              "        (layers): Sequential(\n",
              "          (0): Linear(in_features=768, out_features=3072, bias=True)\n",
              "          (1): GELU(approximate='none')\n",
              "          (2): Linear(in_features=3072, out_features=768, bias=True)\n",
              "        )\n",
              "      )\n",
              "      (norm1): LayerNorm((768,), eps=1e-05, elementwise_affine=True)\n",
              "      (norm2): LayerNorm((768,), eps=1e-05, elementwise_affine=True)\n",
              "      (drop): Dropout(p=0.1, inplace=False)\n",
              "    )\n",
              "    (4): TransformerBlock(\n",
              "      (att): MultiheadAttention(\n",
              "        (out_proj): NonDynamicallyQuantizableLinear(in_features=768, out_features=768, bias=True)\n",
              "      )\n",
              "      (ff): FeedForward(\n",
              "        (layers): Sequential(\n",
              "          (0): Linear(in_features=768, out_features=3072, bias=True)\n",
              "          (1): GELU(approximate='none')\n",
              "          (2): Linear(in_features=3072, out_features=768, bias=True)\n",
              "        )\n",
              "      )\n",
              "      (norm1): LayerNorm((768,), eps=1e-05, elementwise_affine=True)\n",
              "      (norm2): LayerNorm((768,), eps=1e-05, elementwise_affine=True)\n",
              "      (drop): Dropout(p=0.1, inplace=False)\n",
              "    )\n",
              "    (5): TransformerBlock(\n",
              "      (att): MultiheadAttention(\n",
              "        (out_proj): NonDynamicallyQuantizableLinear(in_features=768, out_features=768, bias=True)\n",
              "      )\n",
              "      (ff): FeedForward(\n",
              "        (layers): Sequential(\n",
              "          (0): Linear(in_features=768, out_features=3072, bias=True)\n",
              "          (1): GELU(approximate='none')\n",
              "          (2): Linear(in_features=3072, out_features=768, bias=True)\n",
              "        )\n",
              "      )\n",
              "      (norm1): LayerNorm((768,), eps=1e-05, elementwise_affine=True)\n",
              "      (norm2): LayerNorm((768,), eps=1e-05, elementwise_affine=True)\n",
              "      (drop): Dropout(p=0.1, inplace=False)\n",
              "    )\n",
              "    (6): TransformerBlock(\n",
              "      (att): MultiheadAttention(\n",
              "        (out_proj): NonDynamicallyQuantizableLinear(in_features=768, out_features=768, bias=True)\n",
              "      )\n",
              "      (ff): FeedForward(\n",
              "        (layers): Sequential(\n",
              "          (0): Linear(in_features=768, out_features=3072, bias=True)\n",
              "          (1): GELU(approximate='none')\n",
              "          (2): Linear(in_features=3072, out_features=768, bias=True)\n",
              "        )\n",
              "      )\n",
              "      (norm1): LayerNorm((768,), eps=1e-05, elementwise_affine=True)\n",
              "      (norm2): LayerNorm((768,), eps=1e-05, elementwise_affine=True)\n",
              "      (drop): Dropout(p=0.1, inplace=False)\n",
              "    )\n",
              "    (7): TransformerBlock(\n",
              "      (att): MultiheadAttention(\n",
              "        (out_proj): NonDynamicallyQuantizableLinear(in_features=768, out_features=768, bias=True)\n",
              "      )\n",
              "      (ff): FeedForward(\n",
              "        (layers): Sequential(\n",
              "          (0): Linear(in_features=768, out_features=3072, bias=True)\n",
              "          (1): GELU(approximate='none')\n",
              "          (2): Linear(in_features=3072, out_features=768, bias=True)\n",
              "        )\n",
              "      )\n",
              "      (norm1): LayerNorm((768,), eps=1e-05, elementwise_affine=True)\n",
              "      (norm2): LayerNorm((768,), eps=1e-05, elementwise_affine=True)\n",
              "      (drop): Dropout(p=0.1, inplace=False)\n",
              "    )\n",
              "    (8): TransformerBlock(\n",
              "      (att): MultiheadAttention(\n",
              "        (out_proj): NonDynamicallyQuantizableLinear(in_features=768, out_features=768, bias=True)\n",
              "      )\n",
              "      (ff): FeedForward(\n",
              "        (layers): Sequential(\n",
              "          (0): Linear(in_features=768, out_features=3072, bias=True)\n",
              "          (1): GELU(approximate='none')\n",
              "          (2): Linear(in_features=3072, out_features=768, bias=True)\n",
              "        )\n",
              "      )\n",
              "      (norm1): LayerNorm((768,), eps=1e-05, elementwise_affine=True)\n",
              "      (norm2): LayerNorm((768,), eps=1e-05, elementwise_affine=True)\n",
              "      (drop): Dropout(p=0.1, inplace=False)\n",
              "    )\n",
              "    (9): TransformerBlock(\n",
              "      (att): MultiheadAttention(\n",
              "        (out_proj): NonDynamicallyQuantizableLinear(in_features=768, out_features=768, bias=True)\n",
              "      )\n",
              "      (ff): FeedForward(\n",
              "        (layers): Sequential(\n",
              "          (0): Linear(in_features=768, out_features=3072, bias=True)\n",
              "          (1): GELU(approximate='none')\n",
              "          (2): Linear(in_features=3072, out_features=768, bias=True)\n",
              "        )\n",
              "      )\n",
              "      (norm1): LayerNorm((768,), eps=1e-05, elementwise_affine=True)\n",
              "      (norm2): LayerNorm((768,), eps=1e-05, elementwise_affine=True)\n",
              "      (drop): Dropout(p=0.1, inplace=False)\n",
              "    )\n",
              "    (10): TransformerBlock(\n",
              "      (att): MultiheadAttention(\n",
              "        (out_proj): NonDynamicallyQuantizableLinear(in_features=768, out_features=768, bias=True)\n",
              "      )\n",
              "      (ff): FeedForward(\n",
              "        (layers): Sequential(\n",
              "          (0): Linear(in_features=768, out_features=3072, bias=True)\n",
              "          (1): GELU(approximate='none')\n",
              "          (2): Linear(in_features=3072, out_features=768, bias=True)\n",
              "        )\n",
              "      )\n",
              "      (norm1): LayerNorm((768,), eps=1e-05, elementwise_affine=True)\n",
              "      (norm2): LayerNorm((768,), eps=1e-05, elementwise_affine=True)\n",
              "      (drop): Dropout(p=0.1, inplace=False)\n",
              "    )\n",
              "    (11): TransformerBlock(\n",
              "      (att): MultiheadAttention(\n",
              "        (out_proj): NonDynamicallyQuantizableLinear(in_features=768, out_features=768, bias=True)\n",
              "      )\n",
              "      (ff): FeedForward(\n",
              "        (layers): Sequential(\n",
              "          (0): Linear(in_features=768, out_features=3072, bias=True)\n",
              "          (1): GELU(approximate='none')\n",
              "          (2): Linear(in_features=3072, out_features=768, bias=True)\n",
              "        )\n",
              "      )\n",
              "      (norm1): LayerNorm((768,), eps=1e-05, elementwise_affine=True)\n",
              "      (norm2): LayerNorm((768,), eps=1e-05, elementwise_affine=True)\n",
              "      (drop): Dropout(p=0.1, inplace=False)\n",
              "    )\n",
              "  )\n",
              "  (final_norm): LayerNorm((768,), eps=1e-05, elementwise_affine=True)\n",
              "  (out_head): Linear(in_features=768, out_features=51200, bias=False)\n",
              ")"
            ]
          },
          "execution_count": 29,
          "metadata": {},
          "output_type": "execute_result"
        }
      ],
      "source": [
        "torch.manual_seed(123)\n",
        "print(MY_GPT_CONFIG)\n",
        "model = GPTModel(MY_GPT_CONFIG)\n",
        "print(model)\n",
        "\n",
        "device = torch.device(\"cuda\" if torch.cuda.is_available() else \"cpu\")\n",
        "print(f\"Device: {device}\")\n",
        "model.to(device)"
      ]
    },
    {
      "cell_type": "code",
      "execution_count": 30,
      "metadata": {
        "colab": {
          "base_uri": "https://localhost:8080/"
        },
        "id": "2-BV9pD0cuej",
        "outputId": "65d8bdad-26af-4fe2-b04f-3e4e76d1b52c"
      },
      "outputs": [
        {
          "name": "stdout",
          "output_type": "stream",
          "text": [
            "Number of parameters - Total: 163,895,808 (625.2 MB)   Trainable: 163,895,808\n"
          ]
        }
      ],
      "source": [
        "print_params_count(model)"
      ]
    },
    {
      "cell_type": "code",
      "execution_count": 31,
      "metadata": {
        "colab": {
          "base_uri": "https://localhost:8080/"
        },
        "id": "fHAoMW7N7JLL",
        "outputId": "fd3ca0f8-aa88-49d9-cfd2-715f7468d055"
      },
      "outputs": [
        {
          "name": "stdout",
          "output_type": "stream",
          "text": [
            "torch.float32\n"
          ]
        }
      ],
      "source": [
        "print(model.tok_emb.weight.dtype)"
      ]
    },
    {
      "cell_type": "code",
      "execution_count": 32,
      "metadata": {
        "colab": {
          "base_uri": "https://localhost:8080/"
        },
        "id": "I6NE7cUQb9wh",
        "outputId": "72128756-c3fc-40d5-bb96-1e7d5a641926"
      },
      "outputs": [
        {
          "name": "stdout",
          "output_type": "stream",
          "text": [
            "torch.Size([2, 7])\n",
            "Input shape: torch.Size([2, 7])\n",
            "Input: tensor([[   37,   352,   438, 14331,     2,     2,     2],\n",
            "        [   59,  2285, 18209,  3788,  1058, 11151,   392]], device='cuda:0')\n",
            "\n",
            "Output shape: torch.Size([2, 7, 51200])\n",
            "Output: tensor([[[ 0.1617, -0.1444, -0.5058,  ..., -0.5193, -0.9829, -0.2560],\n",
            "         [ 0.6906,  0.2345, -0.2861,  ...,  0.5529, -1.2172,  0.0500],\n",
            "         [-0.8030,  0.3770, -0.4870,  ...,  0.1096,  0.3802,  0.7226],\n",
            "         ...,\n",
            "         [ 0.3922, -0.0869, -0.6238,  ...,  0.0940, -0.7077,  0.8932],\n",
            "         [ 0.5355, -0.5299, -0.1898,  ..., -0.3136, -0.0138,  0.7965],\n",
            "         [-1.1042, -0.3610, -0.1046,  ..., -0.3859, -0.0159,  0.5791]],\n",
            "\n",
            "        [[ 1.3081, -0.0989, -0.7491,  ...,  0.4450, -1.2453, -0.2782],\n",
            "         [-0.2928,  1.3171, -0.4554,  ...,  0.3180, -0.5646,  0.2564],\n",
            "         [-0.8232,  0.3178, -1.2134,  ...,  0.7586,  1.0882,  0.0373],\n",
            "         ...,\n",
            "         [ 1.3945,  0.0131, -0.1186,  ...,  0.6314, -0.3780, -1.5411],\n",
            "         [ 0.7104, -0.0998, -0.2782,  ..., -0.0146,  0.3204,  0.3549],\n",
            "         [ 0.2176, -0.1371,  0.1283,  ..., -0.3949, -0.8555,  0.3409]]],\n",
            "       device='cuda:0', grad_fn=<UnsafeViewBackward0>)\n"
          ]
        }
      ],
      "source": [
        "texts = [\"Ala ma kota\", \"W sławnym mieście Pacanowie\"]\n",
        "encoded_inputs = tokenizer(texts, return_tensors='pt', padding=True)\n",
        "input_ids = encoded_inputs['input_ids']\n",
        "\n",
        "input_ids = input_ids.to(device)\n",
        "print(input_ids.shape)\n",
        "\n",
        "out = model(input_ids)\n",
        "\n",
        "print(f\"Input shape: {input_ids.shape}\")\n",
        "print(f\"Input: {input_ids}\")\n",
        "print()\n",
        "print(f\"Output shape: {out.shape}\")\n",
        "print(f\"Output: {out}\")"
      ]
    },
    {
      "cell_type": "markdown",
      "metadata": {
        "id": "rbquAeePcOga"
      },
      "source": [
        "Wejściowy tensor `input_ids` ma wymiary (rozmiar wsadu = 2, długość sekwencji = 7).\n",
        "\n",
        "Wyjściowy tensor `out` ma wymiary (rozmiar wsadu = 2, długość sekwencji = 7, rozmiar słownika = 51200) i zawiera rozkład prawdopodobieństwa (a dokładnie nieznormalizowane logarytmy prawdopodobieństwa zwane *logitami*) tokenów na kolejnych pozycjach w sekwencji warunkowane poprzedzającymi tokenami. Np. `out[0, 3]` jest 51200-elementowym wektorem zawierającym rozkład prawdopodobieństwa kolejnego tokenu warunkowany tokenami na pozycjach $0\\ldots3$ w sekwencji wejściowej 0."
      ]
    },
    {
      "cell_type": "markdown",
      "metadata": {
        "id": "xvc0LjvQe6Jm"
      },
      "source": [
        "**Zadanie**\n",
        "\n",
        "Wyświetl kolejne najbardziej prawdopodobne tokeny następujące po sekwencji 1. Czyli kolejne tokeny odpowiadające największej wartości `out[1, i]` dla $0 \\leq i <7$. Zdekoduj (zamień na tekst) numeryczne identyfikatory tokenów."
      ]
    },
    {
      "cell_type": "code",
      "execution_count": 33,
      "metadata": {
        "colab": {
          "base_uri": "https://localhost:8080/"
        },
        "id": "SxBdbUeb8r0G",
        "outputId": "c4013984-cf17-4a43-efb5-23c4ed78d84e"
      },
      "outputs": [
        {
          "name": "stdout",
          "output_type": "stream",
          "text": [
            "Sekwencja 1: W sławnym mieście Pacanowie\n",
            "Token 0:  sie: 588\n",
            "Token 1:   wymagające: 35574\n",
            "Token 2:   racjonal: 10552\n",
            "Token 3:   zmierz: 17612\n",
            "Token 4:   sprawiedliwości: 6628\n",
            "Token 5:   uga: 37480\n",
            "Token 6:   zbroję: 49088\n"
          ]
        }
      ],
      "source": [
        "print(f'Sekwencja 1: {texts[1]}')\n",
        "\n",
        "for i in range(7):\n",
        "    predictions = out[1, i]\n",
        "\n",
        "    predicted_token_id = predictions.argmax().item()\n",
        "    predicted_token = tokenizer.decode(predicted_token_id)\n",
        "\n",
        "    print(f\"Token {i}:  {predicted_token}: {predicted_token_id}\")"
      ]
    },
    {
      "cell_type": "markdown",
      "metadata": {
        "id": "1S3D4LdnhzRt"
      },
      "source": [
        "Wygenerowane tokeny nie będą sensowną kontynuacją podanego promptu. I nic dziwnego, model został zainicjalizowany z losowymi wagami i nie został wytrenowany."
      ]
    },
    {
      "cell_type": "markdown",
      "metadata": {
        "id": "Zbsbud81hbcs"
      },
      "source": [
        "## Trenowanie modelu (*pretraining*)"
      ]
    },
    {
      "cell_type": "markdown",
      "metadata": {
        "id": "WOXHmlQvm0H6"
      },
      "source": [
        "### Zbiór treningowy"
      ]
    },
    {
      "cell_type": "markdown",
      "metadata": {
        "id": "OLL_BgVjp9Zq"
      },
      "source": [
        "Do wytrenowania naszego modelu wykorzystamy zbiór danych *wolne lektury* będący częścią publicznie dostępnego polskiego korpusu językowego\n",
        "[SpeakLeash a.k.a Spichlerz](https://speakleash.org/o-nas/).\n",
        "Wielkość korpusu językowego zgromadzonego w ramach projektu można sprawdzić [tutaj](https://speakleash.org/dashboard/)."
      ]
    },
    {
      "cell_type": "code",
      "execution_count": 34,
      "metadata": {
        "colab": {
          "base_uri": "https://localhost:8080/"
        },
        "id": "tBrlDs-leMJ6",
        "outputId": "e1a80ea8-f475-48dd-8026-b23fb36c5741"
      },
      "outputs": [
        {
          "name": "stdout",
          "output_type": "stream",
          "text": [
            "Downloading...\n",
            "From (original): https://drive.google.com/uc?id=1aQ1AK9X07saOCIjmirAlcRbJPQnjv7GG\n",
            "From (redirected): https://drive.google.com/uc?id=1aQ1AK9X07saOCIjmirAlcRbJPQnjv7GG&confirm=t&uuid=600abdde-e9f5-4e34-b710-20fe3fc8320d\n",
            "To: /content/wolne_lektury_dataset_dump.pkl\n",
            "100% 284M/284M [00:03<00:00, 84.4MB/s]\n"
          ]
        }
      ],
      "source": [
        "#Download a file from a Google Drive\n",
        "!gdown 1aQ1AK9X07saOCIjmirAlcRbJPQnjv7GG"
      ]
    },
    {
      "cell_type": "code",
      "execution_count": 35,
      "metadata": {
        "id": "KCxTva3jeNT1"
      },
      "outputs": [],
      "source": [
        "with open('wolne_lektury_dataset_dump.pkl', 'rb') as f:\n",
        "    dataset_dump = pickle.load(f)"
      ]
    },
    {
      "cell_type": "code",
      "execution_count": 36,
      "metadata": {
        "id": "4DNfZcAJeQGN"
      },
      "outputs": [],
      "source": [
        "from typing import no_type_check_decorator\n",
        "\n",
        "def print_dataset_stats(ds):\n",
        "  print(f\"Liczba dokumentów w zbiorze danych: {len(ds):,}\")\n",
        "  n_char = 0\n",
        "  for doc in ds:\n",
        "    n_char += len(doc)\n",
        "  print(f\"Liczba znaków w zbiorze danych: {n_char:,}\")\n",
        "  print(f\"Średnia długość dokumentu: {n_char/len(ds):.1f}\")\n",
        "  print(f\"Maksymalna długość dokumentu: {max([len(doc) for doc in ds]):,}\")\n",
        "  print(f\"Minimalna długość dokumentu: {min([len(doc) for doc in ds]):,}\")"
      ]
    },
    {
      "cell_type": "code",
      "execution_count": 37,
      "metadata": {
        "colab": {
          "base_uri": "https://localhost:8080/"
        },
        "id": "oVb1wNtbeR3S",
        "outputId": "47c8f181-930e-4183-c91f-c50e0629cc89"
      },
      "outputs": [
        {
          "name": "stdout",
          "output_type": "stream",
          "text": [
            "Liczba dokumentów w zbiorze danych: 6,619\n",
            "Liczba znaków w zbiorze danych: 262,196,111\n",
            "Średnia długość dokumentu: 39612.6\n",
            "Maksymalna długość dokumentu: 2,438,186\n",
            "Minimalna długość dokumentu: 35\n"
          ]
        }
      ],
      "source": [
        "print_dataset_stats(dataset_dump)"
      ]
    },
    {
      "cell_type": "markdown",
      "metadata": {
        "id": "7QIJrdSpkAkz"
      },
      "source": [
        "Pomocnicza funkcja tokenizująca zbiór danych i dzieląca dokumenty na kawałki (*chunks*) równej długości."
      ]
    },
    {
      "cell_type": "code",
      "execution_count": 38,
      "metadata": {
        "id": "oNQXKyvKm-iE"
      },
      "outputs": [],
      "source": [
        "from transformers import BatchEncoding\n",
        "\n",
        "def tokenize_and_split(text: str, context_length: int) -> BatchEncoding:\n",
        "  outputs = tokenizer(\n",
        "      text,\n",
        "      truncation=True,\n",
        "      max_length=context_length,\n",
        "      return_overflowing_tokens=True,\n",
        "      stride=context_length // 2,       # The number of overlapping tokens between chunks\n",
        "      return_tensors = 'pt'\n",
        "    )\n",
        "  return outputs"
      ]
    },
    {
      "cell_type": "markdown",
      "metadata": {
        "id": "_Pserd2SkTQE"
      },
      "source": [
        "Definicja klasy GPTDataset udostępniającej zbiór danych do trenowania autoregresyjnego modelu językowego.\n",
        "Każdy z dokumentów w zbiorze danych jest dzielony na równej długości kawałki (*chunks*), które są następnie tokenizowane. Parametr krok (*stride*) określa odstęp między początkami kolejnych kawałków. Jeśli krok (`stride`) jest mniejszy od rozmiaru kawałka (`chunk_size`), to kolejne kawałki będą wycinane na zakładkę i będą na siebie nachodziły."
      ]
    },
    {
      "cell_type": "code",
      "execution_count": 39,
      "metadata": {
        "id": "6cCiaHNaotk4"
      },
      "outputs": [],
      "source": [
        "from torch.utils.data import Dataset\n",
        "from tqdm.notebook import trange, tqdm\n",
        "\n",
        "class GPTDataset(Dataset):\n",
        "    def __init__(self, dataset_dump: list[str], tokenizer, chunk_size: int, stride: int):\n",
        "        #dataset_dump: lista dokumentów, gdzie każdy dokument jest pojedynczym łańcuchem tekstowym\n",
        "        self.chunk_size = chunk_size\n",
        "        self.stride = stride\n",
        "\n",
        "        self.tokens = []\n",
        "\n",
        "        count_skipped = 0\n",
        "        self.total_chunks = 0\n",
        "        doc_idx = 0\n",
        "\n",
        "        # Indeks global_idx -> (doc_idx, chunk_idx)\n",
        "        self.idx_to_doc_chunk = {}\n",
        "\n",
        "        # Iteracja po kolejnych dokumentach w zbiorze danych\n",
        "        for text in tqdm(dataset_dump):\n",
        "            tokenized_text = tokenizer(text, return_tensors='pt', padding=True)\n",
        "            tokenized_doc = tokenized_text['input_ids'][0]\n",
        "            num_chunks_per_doc = (len(tokenized_doc) - chunk_size) // stride\n",
        "\n",
        "            self.tokens.append(tokenized_doc)\n",
        "            # Wygeneruj globalne indeksy dla każdego kawałka (chunk) w przetwarzanym dokumencie\n",
        "            temp = {self.total_chunks + chunk_idx: (doc_idx, chunk_idx) for chunk_idx in range(num_chunks_per_doc)}\n",
        "            # Dodaj wygenerowane indeksy do słownika self.idx_to_doc_chunk\n",
        "            self.idx_to_doc_chunk.update(temp)\n",
        "\n",
        "            self.total_chunks += num_chunks_per_doc\n",
        "            doc_idx += 1\n",
        "\n",
        "        assert doc_idx == len(self.tokens)\n",
        "\n",
        "    def __len__(self) -> int:\n",
        "        return self.total_chunks\n",
        "\n",
        "    def __getitem__(self, idx) -> dict[str, Tensor]:\n",
        "        # idx: globalny indeks kawałka tekstu\n",
        "        doc_idx, chunk_idx = self.idx_to_doc_chunk[idx]\n",
        "        start_idx = chunk_idx*self.stride\n",
        "        item = {\n",
        "            # input_ids: identyfikatory tokenów w sekwencji treningowej\n",
        "            'input_ids': self.tokens[doc_idx][start_idx: start_idx + self.chunk_size],\n",
        "            # labels: Identyfikatory tokenów docelowych = sekwencja treningowa przesunięta o jedną pozycję w prawo\n",
        "            'labels': self.tokens[doc_idx][start_idx + 1: start_idx + self.chunk_size + 1]\n",
        "            }\n",
        "        return item\n"
      ]
    },
    {
      "cell_type": "markdown",
      "metadata": {
        "id": "uZ8DF_4pmLQA"
      },
      "source": [
        "Inicjalizacja zbioru danych treningowych i walidacyjnych."
      ]
    },
    {
      "cell_type": "code",
      "execution_count": 40,
      "metadata": {
        "colab": {
          "base_uri": "https://localhost:8080/",
          "height": 98,
          "referenced_widgets": [
            "bee072042a794c3e9bb876b1b4ae8f85",
            "5ca14bb598614fb6bebb15b851a5fa07",
            "3fcdb1d9f61449ce90b17005a03fc426",
            "5ee7822dd25d445e89ad0e4d62e05569",
            "14b98c43836040a8b6c957d2d8978526",
            "006a758f2804418d935ea64e3a9461e7",
            "9ead7737afbf46bcb6596a7cda5436ca",
            "ab14506789774dcfa503cb9c530a8791",
            "e6bf1c0988024f6fac334e1ba8e6f67b",
            "d0693ecd7b3547d7aa3d9a82d3d9f3ce",
            "1a5345d72f36445db9948c31ff9d9b89",
            "882dbe23ca64439b8174022c68b2d4f3",
            "daed74ea089d4fe7b27136e378f03a60",
            "97a28a8623c54ec09e2fb7c4dcdd6aca",
            "34dfeed727414965b1704a54bb433a06",
            "c5c12d250b64499a8bce59d522d16be5",
            "e28a07bf68a648fd97af21cce10842ce",
            "c8c241cc3c244da78e1b8122558deaf1",
            "18dd94b88d9b44e292183761cbcc9413",
            "4ad022bb0d134554ab42ad7e90adbdb9",
            "002de4b7f9914ce192b1628b7acef2b6",
            "3decb0c086d245c5bc23ef567ed505d6"
          ]
        },
        "id": "_185xTYApqAg",
        "outputId": "709eeb37-f500-41cd-ba9d-a95bff298ee3"
      },
      "outputs": [
        {
          "data": {
            "application/vnd.jupyter.widget-view+json": {
              "model_id": "bee072042a794c3e9bb876b1b4ae8f85",
              "version_major": 2,
              "version_minor": 0
            },
            "text/plain": [
              "  0%|          | 0/2000 [00:00<?, ?it/s]"
            ]
          },
          "metadata": {},
          "output_type": "display_data"
        },
        {
          "data": {
            "application/vnd.jupyter.widget-view+json": {
              "model_id": "882dbe23ca64439b8174022c68b2d4f3",
              "version_major": 2,
              "version_minor": 0
            },
            "text/plain": [
              "  0%|          | 0/10 [00:00<?, ?it/s]"
            ]
          },
          "metadata": {},
          "output_type": "display_data"
        },
        {
          "data": {
            "text/plain": [
              "66"
            ]
          },
          "execution_count": 40,
          "metadata": {},
          "output_type": "execute_result"
        }
      ],
      "source": [
        "# Ten kod wykonuje się około 2 minut\n",
        "\n",
        "train_dataset = GPTDataset(dataset_dump[:2000], tokenizer, MY_GPT_CONFIG[\"context_length\"], 1)\n",
        "val_dataset = GPTDataset(dataset_dump[-10:], tokenizer, MY_GPT_CONFIG[\"context_length\"], 1)\n",
        "\n",
        "# Run garbage collection\n",
        "del dataset_dump\n",
        "import gc\n",
        "gc.collect()\n"
      ]
    },
    {
      "cell_type": "code",
      "execution_count": 41,
      "metadata": {
        "colab": {
          "base_uri": "https://localhost:8080/"
        },
        "id": "z3v9eR5Nfd-_",
        "outputId": "d5aaac4a-791d-4174-ec92-5e3a22719b45"
      },
      "outputs": [
        {
          "name": "stdout",
          "output_type": "stream",
          "text": [
            "Liczba elementów w zbiorze danych: 15961850\n",
            "Element o indeksie: 32132\n",
            "\n",
            "Klucz input_ids: Rozmiar tensora torch.Size([256])\n",
            "Pierwszych 10 elementów: tensor([ 8739, 28330, 28550,   639,  1505,  7665,  2147, 21782,  1188,   363])\n",
            " wypu\n",
            "kłym\n",
            " den\n",
            "kiem\n",
            " poprze\n",
            "bij\n",
            "anym\n",
            " dziur\n",
            "kami\n",
            " jak\n",
            "\n",
            "Klucz labels: Rozmiar tensora torch.Size([256])\n",
            "Pierwszych 10 elementów: tensor([28330, 28550,   639,  1505,  7665,  2147, 21782,  1188,   363,   264])\n",
            "kłym\n",
            " den\n",
            "kiem\n",
            " poprze\n",
            "bij\n",
            "anym\n",
            " dziur\n",
            "kami\n",
            " jak\n",
            " w\n"
          ]
        }
      ],
      "source": [
        "print(f\"Liczba elementów w zbiorze danych: {len(train_dataset)}\")\n",
        "\n",
        "ndx = 32132\n",
        "print(f\"Element o indeksie: {ndx}\")\n",
        "e = train_dataset[ndx]\n",
        "for key in e:\n",
        "    print()\n",
        "    print(f\"Klucz {key}: Rozmiar tensora {e[key].shape}\")\n",
        "    print(f\"Pierwszych 10 elementów: {e[key][:10]}\")\n",
        "    for i in range(10):\n",
        "        print(tokenizer.decode(e[key][i]))\n"
      ]
    },
    {
      "cell_type": "markdown",
      "metadata": {
        "id": "36OlHcOWqwZi"
      },
      "source": [
        "Element zbioru danych jest słownikiem o polach:\n",
        "- `input_ids`: identyfikatory tensorów w sekwencji wejściowej\n",
        "- `labels`: identyfikatory tensorów docelowych (etykiety)\n",
        "\n",
        "Możemy zauważyć, że sekwencja docelowa (`labels`) powstała przez przesunięcie sekwencji wejściowej o jedną pozycję w prawo. Celem jest predykcja kolejnego tokenu na podstawie poprzedzających tokenów w sekwencji.\n"
      ]
    },
    {
      "cell_type": "markdown",
      "metadata": {
        "id": "E9p_X6xWq41H"
      },
      "source": [
        "Utworzenie obiektów klasy `DataLoader` dla zbioru treningowego i walidacyjnego."
      ]
    },
    {
      "cell_type": "code",
      "execution_count": 42,
      "metadata": {
        "id": "rRWCs9wgjc9v"
      },
      "outputs": [],
      "source": [
        "from torch.utils.data import DataLoader\n",
        "\n",
        "num_workers = 1\n",
        "batch_size = 16\n",
        "\n",
        "train_loader = DataLoader(train_dataset, batch_size=batch_size, shuffle=True, num_workers=num_workers)\n",
        "val_loader = DataLoader(val_dataset, batch_size=batch_size, shuffle=False, num_workers=num_workers)\n"
      ]
    },
    {
      "cell_type": "markdown",
      "metadata": {
        "id": "in4jWKdirDSx"
      },
      "source": [
        "Wyświetl zawartość przykładowego wsadu."
      ]
    },
    {
      "cell_type": "code",
      "execution_count": 43,
      "metadata": {
        "colab": {
          "base_uri": "https://localhost:8080/"
        },
        "id": "yQRwqx2aNZZO",
        "outputId": "dc2bf4ec-3b38-4534-84f4-1b2006379bb4"
      },
      "outputs": [
        {
          "name": "stdout",
          "output_type": "stream",
          "text": [
            "{'input_ids': tensor([[  304,   438,   681,  ...,  1520,   575,     5],\n",
            "        [   16,  1147,  4759,  ..., 14255,  1164, 30366],\n",
            "        [13863, 34679,    18,  ...,   407,  9325,  1914],\n",
            "        ...,\n",
            "        [ 2239,    18, 10892,  ..., 18977,   587,    18],\n",
            "        [  309,  5842,   541,  ...,   648,   704,   282],\n",
            "        [25154,    16,  1794,  ..., 13764,  1412,  1011]]), 'labels': tensor([[  438,   681,  8813,  ...,   575,     5, 13478],\n",
            "        [ 1147,  4759,   304,  ...,  1164, 30366,   268],\n",
            "        [34679,    18,  4725,  ...,  9325,  1914, 15573],\n",
            "        ...,\n",
            "        [   18, 10892, 27734,  ...,   587,    18,   203],\n",
            "        [ 5842,   541,    18,  ...,   704,   282,   613],\n",
            "        [   16,  1794,  6023,  ...,  1412,  1011,   306]])}\n",
            "input_ids: torch.Size([16, 256])\n",
            "labels: torch.Size([16, 256])\n"
          ]
        }
      ],
      "source": [
        "batch = next(iter(train_loader))\n",
        "print(batch)\n",
        "\n",
        "for k, v in batch.items():\n",
        "    print(f\"{k}: {v.shape}\")\n"
      ]
    },
    {
      "cell_type": "markdown",
      "metadata": {
        "id": "PAW2jG1I_cay"
      },
      "source": [
        "### Inicjalizacja modelu"
      ]
    },
    {
      "cell_type": "markdown",
      "metadata": {
        "id": "XidkHV1FAMYF"
      },
      "source": [
        "Inicjalizacja modelu językowego klasy GPT."
      ]
    },
    {
      "cell_type": "code",
      "execution_count": 44,
      "metadata": {
        "colab": {
          "base_uri": "https://localhost:8080/"
        },
        "id": "NRerbzW37Q6V",
        "outputId": "9c9b0b37-ee93-473e-f589-3d608e80e8e0"
      },
      "outputs": [
        {
          "name": "stdout",
          "output_type": "stream",
          "text": [
            "Number of parameters - Total: 163,895,808 (625.2 MB)   Trainable: 163,895,808\n"
          ]
        }
      ],
      "source": [
        "model = GPTModel(MY_GPT_CONFIG)\n",
        "model.to(device)\n",
        "\n",
        "print_params_count(model)"
      ]
    },
    {
      "cell_type": "markdown",
      "metadata": {
        "id": "E7Atolse9Et0"
      },
      "source": [
        "**Zadanie**\n",
        "\n",
        "Przetwórz sekwencje identyfikatorów tokenów ze wsadu `batch['input_ids']` przez `model`.\n",
        "Wyświetl rozmiar wejściowego tensora `batch['input_ids']` i wyjściowego tensora z modelu. Napisz jak interpretujesz wymiary wyjściowego tensora."
      ]
    },
    {
      "cell_type": "code",
      "execution_count": 50,
      "metadata": {
        "colab": {
          "base_uri": "https://localhost:8080/"
        },
        "id": "sNdGiRNWcJZr",
        "outputId": "2485bec2-2d85-4559-e464-439fc14fa267"
      },
      "outputs": [
        {
          "name": "stdout",
          "output_type": "stream",
          "text": [
            "Input size : torch.Size([16, 256])\n",
            "Output size : torch.Size([16, 256, 51200])\n"
          ]
        }
      ],
      "source": [
        "input_ids = batch[\"input_ids\"].to(device)\n",
        "print(f\"Input size : {input_ids.shape}\")\n",
        "\n",
        "out_batch = model(input_ids)\n",
        "print(f\"Output size : {out_batch.shape}\")"
      ]
    },
    {
      "cell_type": "markdown",
      "metadata": {
        "id": "gRmo1dtE93GJ"
      },
      "source": [
        "Interpretacja wyników :\n",
        "- Wyjściowy tensor ma kształt [16, 256, 512000], co odpowiada: batch_size, sequence_length, vocab_size.\n",
        "\n",
        "- Oznacza to, że dla każdego tokena w każdej sekwencji model przewiduje rozkład logitów nad całym słownikiem (512k tokenów).\n",
        "\n",
        "- Logity te reprezentują \"nieprzetworzone\" prawdopodobieństwa kolejnych tokenów w sekwencji. Dla każdej pozycji i model uwzględnia kontekst tokenów od pozycji 0 do i-1"
      ]
    },
    {
      "cell_type": "markdown",
      "metadata": {
        "id": "egvd0IxS8R3A"
      },
      "source": [
        "### Funkcje pomocnicze\n",
        "\n",
        "Przeniesienie wsadu na urządzenie `device`."
      ]
    },
    {
      "cell_type": "code",
      "execution_count": 51,
      "metadata": {
        "id": "M5BKScUcduGZ"
      },
      "outputs": [],
      "source": [
        "def batch_to_device(batch: dict, device) -> dict:\n",
        "    return {k: v.to(device) for k, v in batch.items()}"
      ]
    },
    {
      "cell_type": "markdown",
      "metadata": {
        "id": "If477FeHvxCS"
      },
      "source": [
        "W treningu wielkich modeli językowych korzystamy z **funkcji straty entropii krzyżowej** między predykowanym przez sieć rozkładem prawdopodobieństwa kolejnego tokenu w sekwencji a docelowym rozkładem prawdopodobieństwa (jedynka na pozycji odpowiadającej kolejnemu tokenowi w sekwencji treningowej, zera na pozostałych pozycjach).   "
      ]
    },
    {
      "cell_type": "code",
      "execution_count": 52,
      "metadata": {
        "id": "wrxyD_qnvxZI"
      },
      "outputs": [],
      "source": [
        "def calc_loss_batch(batch: dict, model: nn.Module) -> Tensor:\n",
        "    logits = model(batch['input_ids'])\n",
        "    loss = torch.nn.functional.cross_entropy(logits.flatten(0, 1), batch['labels'].flatten())\n",
        "    return loss"
      ]
    },
    {
      "cell_type": "markdown",
      "metadata": {
        "id": "_8P88OdpxH9Q"
      },
      "source": [
        "Pomocnicza funkcja wyznaczająca wartość funkcji straty dla `num_batches` wsadów z data loadera."
      ]
    },
    {
      "cell_type": "code",
      "execution_count": 53,
      "metadata": {
        "id": "gP590PFwcCVA"
      },
      "outputs": [],
      "source": [
        "def calc_loss_loader(data_loader, model, device, num_batches: int) -> float:\n",
        "    total_loss = 0.\n",
        "    for i, batch in enumerate(data_loader):\n",
        "        if i >= num_batches:\n",
        "            break\n",
        "        batch = batch_to_device(batch, device)\n",
        "        loss = calc_loss_batch(batch, model)\n",
        "        total_loss += loss.item()\n",
        "\n",
        "    return total_loss / num_batches"
      ]
    },
    {
      "cell_type": "markdown",
      "metadata": {
        "id": "nhjyr41exZAS"
      },
      "source": [
        "Pomocnicza funkcja do ewaluacji modelu na zbiorze treningowym i walidacyjnym."
      ]
    },
    {
      "cell_type": "code",
      "execution_count": 54,
      "metadata": {
        "id": "0vDqUFPDe6Jh"
      },
      "outputs": [],
      "source": [
        "def evaluate_model(model: nn.Module, train_loader: DataLoader,\n",
        "                   val_loader: DataLoader, device, eval_iter: int) -> tuple[float, float]:\n",
        "    model.eval()\n",
        "    with torch.no_grad():\n",
        "        train_loss = calc_loss_loader(train_loader, model, device, num_batches=eval_iter)\n",
        "        val_loss = calc_loss_loader(val_loader, model, device, num_batches=eval_iter)\n",
        "\n",
        "    return train_loss, val_loss"
      ]
    },
    {
      "cell_type": "markdown",
      "metadata": {
        "id": "SlZws7gnsHk3"
      },
      "source": [
        "Funckja pomocnicza znajdująca $k$ najbardziej prawdopodobnych tokenów następujących po danej sekwencji wejściowej."
      ]
    },
    {
      "cell_type": "code",
      "execution_count": 55,
      "metadata": {
        "id": "h-P-I8RKsHyz"
      },
      "outputs": [],
      "source": [
        "def topk_tokens(model: nn.Module, context: str, k: int) -> dict[str, float]:\n",
        "    # Funkcja zwaraca słownik k najbardziej prawdopodobnych tokentów {token: prawdopodobieństwo}\n",
        "    token_ids = tokenizer(context, return_tensors='pt')['input_ids'].to(device)\n",
        "    model.eval()\n",
        "    with torch.no_grad():\n",
        "        logits = model(token_ids)\n",
        "        # logits jest tensorem (rozmiar wsadu=1, długość sekwencji, rozmiar słownika)\n",
        "\n",
        "    # Weź rozkład prawdopodobieństwa (logit'y) ostatniego elementu w zerowej sekwencji\n",
        "    logits = logits[0, -1, :]\n",
        "    # logits jest tensorem (rozmiar słownika,)\n",
        "\n",
        "    probas = torch.softmax(logits, dim=-1)\n",
        "    top_probas, top_pos = torch.topk(probas, k)\n",
        "    results = {tokenizer.decode(ndx): pp.item() for (ndx, pp) in zip(top_pos, top_probas)}\n",
        "    return results\n"
      ]
    },
    {
      "cell_type": "markdown",
      "metadata": {
        "id": "jTjQYX2xbwK9"
      },
      "source": [
        "### Pętla treningowa"
      ]
    },
    {
      "cell_type": "markdown",
      "metadata": {
        "id": "vccRK5alxiz7"
      },
      "source": [
        "Implementacja pętli treningowej modelu."
      ]
    },
    {
      "cell_type": "code",
      "execution_count": 56,
      "metadata": {
        "id": "wSaXukCCevHd"
      },
      "outputs": [],
      "source": [
        "import numpy as np\n",
        "\n",
        "def train_model(model: nn.Module, train_loader: DataLoader,\n",
        "                val_loader: DataLoader, optimizer, lr_scheduler,\n",
        "                device, num_epochs: int, eval_freq: int, eval_iter: int,\n",
        "                start_context: str, tokenizer, max_steps: int = None):\n",
        "\n",
        "    tokens_seen, global_step = 0, 0\n",
        "\n",
        "    for epoch in range(num_epochs):\n",
        "        for batch in train_loader:\n",
        "            model.train()\n",
        "            batch = batch_to_device(batch, device)\n",
        "            optimizer.zero_grad()\n",
        "            loss = calc_loss_batch(batch, model)\n",
        "            loss.backward()\n",
        "\n",
        "            # Gradient clipping\n",
        "            torch.nn.utils.clip_grad_norm_(model.parameters(), max_norm=1.)\n",
        "\n",
        "            optimizer.step()\n",
        "            lr_scheduler.step()\n",
        "\n",
        "            tokens_seen += batch['input_ids'].numel()\n",
        "            global_step += 1\n",
        "\n",
        "            if global_step % eval_freq == 0:\n",
        "                # Ewaluacja modelu\n",
        "                train_loss, val_loss = evaluate_model(model, train_loader, val_loader, device, eval_iter)\n",
        "                print(f\"Epoch: {epoch+1} (Step: {global_step:06d}  Tokens seen: {tokens_seen // 1000:06d}k): \"\n",
        "                      f\"Train loss: {train_loss:.3f}, Val loss: {val_loss:.3f} \"\n",
        "                      f\"Train perplexity: {np.exp(train_loss):.3f}, Val perplexity: {np.exp(val_loss):.3f} \")\n",
        "\n",
        "                predictions = topk_tokens(model, start_context, k=8)\n",
        "                print(f\"       {start_context} _: \", end=' ')\n",
        "                for token, prob in predictions.items():\n",
        "                    print(f\"{token} ({prob:.3f})\", end=' ')\n",
        "                print()\n",
        "\n",
        "            if max_steps is not None and global_step >= max_steps:\n",
        "                return"
      ]
    },
    {
      "cell_type": "markdown",
      "metadata": {
        "id": "VrhppnG2yIkv"
      },
      "source": [
        "Uruchomienie treningu modelu. Liczba iteracji treningowych została ograniczona do 500 co pozwala na przetworzenie około 2 milionów tokenów ze zbioru treningowego. Trening na T4 GPU trwa około 10 minut."
      ]
    },
    {
      "cell_type": "code",
      "execution_count": 57,
      "metadata": {
        "colab": {
          "base_uri": "https://localhost:8080/"
        },
        "id": "fpC6H_MzfGVI",
        "outputId": "2def8762-9912-478c-f437-64a6cca87dbd"
      },
      "outputs": [
        {
          "name": "stdout",
          "output_type": "stream",
          "text": [
            "Liczba iteracji: 997616\n",
            "Epoch: 1 (Step: 000050  Tokens seen: 000204k): Train loss: 7.608, Val loss: 7.431 Train perplexity: 2013.620, Val perplexity: 1686.742 \n",
            "       Pies wszedł do _:  , (0.025) . (0.015)  do (0.008)  i (0.008)  z (0.007)  to (0.007)  na (0.007)  się (0.007) \n",
            "Epoch: 1 (Step: 000100  Tokens seen: 000409k): Train loss: 7.432, Val loss: 7.250 Train perplexity: 1688.858, Val perplexity: 1408.733 \n",
            "       Pies wszedł do _:   tym (0.011)  tego (0.009)  nią (0.007)  nich (0.007)  siebie (0.007)  mnie (0.006)  niej (0.005)  domu (0.005) \n",
            "Epoch: 1 (Step: 000150  Tokens seen: 000614k): Train loss: 7.355, Val loss: 7.123 Train perplexity: 1564.337, Val perplexity: 1239.806 \n",
            "       Pies wszedł do _:   tego (0.021)  niej (0.016)  siebie (0.013)  niego (0.008)  domu (0.008)  mnie (0.007)  sobą (0.007)  czasu (0.007) \n",
            "Epoch: 1 (Step: 000200  Tokens seen: 000819k): Train loss: 7.167, Val loss: 7.069 Train perplexity: 1296.188, Val perplexity: 1175.272 \n",
            "       Pies wszedł do _:   siebie (0.048)  tego (0.045)  niego (0.025)  domu (0.019)  niej (0.012)  mnie (0.009)  czasu (0.007)  nich (0.006) \n",
            "Epoch: 1 (Step: 000250  Tokens seen: 001024k): Train loss: 7.104, Val loss: 7.154 Train perplexity: 1216.380, Val perplexity: 1279.126 \n",
            "       Pies wszedł do _:   mnie (0.031)  siebie (0.028)  niego (0.028)  niej (0.017)  tego (0.017)  domu (0.016)  czasu (0.008)  końca (0.007) \n",
            "Epoch: 1 (Step: 000300  Tokens seen: 001228k): Train loss: 7.048, Val loss: 7.027 Train perplexity: 1150.100, Val perplexity: 1126.346 \n",
            "       Pies wszedł do _:   niego (0.033)  tego (0.029)  mnie (0.026)  siebie (0.025)  niej (0.021)  domu (0.011)  nas (0.011)  razu (0.010) \n",
            "Epoch: 1 (Step: 000350  Tokens seen: 001433k): Train loss: 6.948, Val loss: 6.930 Train perplexity: 1041.494, Val perplexity: 1022.370 \n",
            "       Pies wszedł do _:   tego (0.015)  mnie (0.013)  domu (0.012)  pracy (0.011)  niej (0.010)  czasu (0.010)  końca (0.009)  siebie (0.009) \n",
            "Epoch: 1 (Step: 000400  Tokens seen: 001638k): Train loss: 6.942, Val loss: 6.816 Train perplexity: 1034.946, Val perplexity: 912.017 \n",
            "       Pies wszedł do _:   tego (0.032)  siebie (0.028)  niej (0.020)  mnie (0.019)  domu (0.013)  czasu (0.012)  niego (0.011)  nich (0.008) \n",
            "Epoch: 1 (Step: 000450  Tokens seen: 001843k): Train loss: 6.917, Val loss: 6.764 Train perplexity: 1009.119, Val perplexity: 866.469 \n",
            "       Pies wszedł do _:   domu (0.023)  tego (0.022)  siebie (0.019)  swego (0.019)  mnie (0.014)  niej (0.013)  czasu (0.008)  niego (0.008) \n",
            "Epoch: 1 (Step: 000500  Tokens seen: 002048k): Train loss: 6.886, Val loss: 6.670 Train perplexity: 978.359, Val perplexity: 788.275 \n",
            "       Pies wszedł do _:   nich (0.022)  siebie (0.021)  tego (0.017)  niej (0.015)  domu (0.013)  mnie (0.012)  niego (0.011)  kościoła (0.009) \n",
            "Czas wykonania: 9.8 [m]\n"
          ]
        }
      ],
      "source": [
        "import time\n",
        "\n",
        "num_epochs = 1\n",
        "#max_steps = 500\n",
        "max_steps = 500\n",
        "\n",
        "optimizer = torch.optim.AdamW(model.parameters(), lr=4e-4, weight_decay=0.1)\n",
        "t_max = len(train_loader) * num_epochs\n",
        "print(f\"Liczba iteracji: {t_max}\")\n",
        "lr_scheduler = torch.optim.lr_scheduler.CosineAnnealingLR(optimizer, t_max, eta_min=1e-5)\n",
        "\n",
        "start_context = \"Pies wszedł do\"\n",
        "\n",
        "start = time.time()\n",
        "train_model(model, train_loader, val_loader, optimizer, lr_scheduler, device,\n",
        "            num_epochs=num_epochs, eval_freq=50, eval_iter=10,\n",
        "            start_context=start_context, tokenizer=tokenizer, max_steps=max_steps)\n",
        "end = time.time()\n",
        "print(f\"Czas wykonania: {(end - start)/60:0.1f} [m]\")\n"
      ]
    },
    {
      "cell_type": "code",
      "execution_count": 58,
      "metadata": {
        "colab": {
          "base_uri": "https://localhost:8080/"
        },
        "id": "kv0-GVPgG3OR",
        "outputId": "24550e9e-5d7b-4b60-ff9e-3ca97109101b"
      },
      "outputs": [
        {
          "name": "stdout",
          "output_type": "stream",
          "text": [
            ",: 0.178\n",
            ".: 0.057\n",
            " i: 0.038\n",
            " w: 0.015\n",
            " się: 0.015\n",
            " na: 0.011\n",
            " z: 0.011\n",
            ";: 0.010\n",
            " do: 0.008\n",
            " nie: 0.007\n"
          ]
        }
      ],
      "source": [
        "# Wyświetl 10 najbardziej prawdopodobnych tokenów dla podanego promptu\n",
        "predictions = topk_tokens(model, \"W pewien piękny wiosenny dzień Tadeusz\", k=10)\n",
        "for token, prob in predictions.items():\n",
        "    print(f\"{token}: {prob:.3f}\")"
      ]
    },
    {
      "cell_type": "markdown",
      "metadata": {
        "id": "eBn-XcWi37kE"
      },
      "source": [
        "## Pobranie wag wytrenowanego modelu"
      ]
    },
    {
      "cell_type": "markdown",
      "metadata": {
        "id": "XTTNCYGGprGn"
      },
      "source": [
        "Znacznie lepsze rezultaty osiągniemy wykorzystując model trenowany przez dłuższy czas.\n",
        "Tutaj pobierzemy wagi modelu trenowanego przez 3 dni na naszynie z 6 GPU nVidia RTX 4090 (łącznie około 432 godziny GPU). Korpus treningowy zawierał zbiory danych: wolne_lektury_corpus, 1000_novels_corpus_CLARIN-PL, open_subtitles_corpus i plwiki. Dla porównania model Lllama 2 wersja 7B potrzebował 184 tysięcy godzin GPU (A100-80GB).\n",
        "\n",
        "Pretrenowany model ma identyczną konfigurację jak wcześniejszy model, za wyjątkiem większego okna kontekstu (512 zamiast 256 tokenów).\n"
      ]
    },
    {
      "cell_type": "code",
      "execution_count": 59,
      "metadata": {
        "id": "dotbhvNV92my"
      },
      "outputs": [],
      "source": [
        "MY_GPT_CONFIG2 = {\n",
        "    \"vocab_size\": tokenizer.vocab_size, # Vocabulary size\n",
        "    \"context_length\": 512,              # Context length\n",
        "    \"emb_dim\": 768,                     # Embedding dimension\n",
        "    \"n_heads\": 12,                      # Number of attention heads\n",
        "    \"n_layers\": 12,                     # Number of layers\n",
        "    \"feedforward_dim_mult\": 4,          # Feedforward dimension multiplier\n",
        "    \"add_bias_kv\": False,               # Add bias to the key and value projections\n",
        "    \"drop_rate\": 0.1                    # Dropout rate\n",
        "}"
      ]
    },
    {
      "cell_type": "code",
      "execution_count": 60,
      "metadata": {
        "colab": {
          "base_uri": "https://localhost:8080/"
        },
        "id": "G2fU0Ju968I9",
        "outputId": "43d06832-1ad1-4127-8392-6d0a55b5d0df"
      },
      "outputs": [
        {
          "name": "stdout",
          "output_type": "stream",
          "text": [
            "Downloading...\n",
            "From (original): https://drive.google.com/uc?id=1yij01sTy5_9SA4Yge4ai7QNi9pKmSuug\n",
            "From (redirected): https://drive.google.com/uc?id=1yij01sTy5_9SA4Yge4ai7QNi9pKmSuug&confirm=t&uuid=3723674d-6ee0-4cda-b3f7-4f734529ee75\n",
            "To: /content/my_gpt_20240808_211159_400000.ckpt\n",
            "100% 1.97G/1.97G [00:43<00:00, 45.1MB/s]\n"
          ]
        }
      ],
      "source": [
        "!gdown 1yij01sTy5_9SA4Yge4ai7QNi9pKmSuug"
      ]
    },
    {
      "cell_type": "code",
      "execution_count": 61,
      "metadata": {
        "id": "bfwjZW267MI-"
      },
      "outputs": [],
      "source": [
        "import torch\n",
        "path = \"my_gpt_20240808_211159_400000.ckpt\"\n",
        "\n",
        "weights = torch.load(path)['model']"
      ]
    },
    {
      "cell_type": "code",
      "execution_count": 62,
      "metadata": {
        "colab": {
          "base_uri": "https://localhost:8080/"
        },
        "id": "aGjXt5C2_CcJ",
        "outputId": "965d0f2c-ab11-4cde-d0c9-4a4b562fc1e4"
      },
      "outputs": [
        {
          "data": {
            "text/plain": [
              "<All keys matched successfully>"
            ]
          },
          "execution_count": 62,
          "metadata": {},
          "output_type": "execute_result"
        }
      ],
      "source": [
        "model = GPTModel(MY_GPT_CONFIG2)\n",
        "model.to(device)\n",
        "model.load_state_dict(weights)\n"
      ]
    },
    {
      "cell_type": "code",
      "execution_count": 63,
      "metadata": {
        "colab": {
          "base_uri": "https://localhost:8080/"
        },
        "id": "paygL_9Dbphl",
        "outputId": "78ea537d-c206-4ec3-93aa-8dedb83af934"
      },
      "outputs": [
        {
          "name": "stdout",
          "output_type": "stream",
          "text": [
            "0 -  pokoju: 0.227\n",
            "1 -  środka: 0.059\n",
            "2 -  domu: 0.051\n",
            "3 -  mojego: 0.032\n",
            "4 -  kuchni: 0.025\n",
            "5 -  baru: 0.023\n",
            "6 -  budynku: 0.021\n",
            "7 -  biura: 0.019\n",
            "8 -  sklepu: 0.018\n",
            "9 -  jej: 0.018\n"
          ]
        }
      ],
      "source": [
        "predictions = topk_tokens(model, \"Pies wszedł do\", k=10)\n",
        "for ndx, (token, prob) in enumerate(predictions.items()):\n",
        "    print(f\"{ndx} - {token}: {prob:.3f}\")"
      ]
    },
    {
      "cell_type": "code",
      "execution_count": 64,
      "metadata": {
        "colab": {
          "base_uri": "https://localhost:8080/"
        },
        "id": "k4TKak-JDfww",
        "outputId": "5b1bf525-e3a1-4290-a8eb-8aa4c0bb2abb"
      },
      "outputs": [
        {
          "name": "stdout",
          "output_type": "stream",
          "text": [
            " i: 0.051\n",
            ",: 0.046\n",
            " był: 0.014\n",
            "owi: 0.014\n",
            " nie: 0.012\n",
            " ujrzał: 0.010\n",
            " wracał: 0.010\n",
            " przy: 0.009\n",
            " spotkał: 0.009\n",
            " wrócił: 0.008\n"
          ]
        }
      ],
      "source": [
        "predictions = topk_tokens(model, \"W pewien piękny wiosenny dzień Tadeusz\", k=10)\n",
        "for token, prob in predictions.items():\n",
        "    print(f\"{token}: {prob:.3f}\")"
      ]
    },
    {
      "cell_type": "markdown",
      "metadata": {
        "id": "71B7l0Mja6i6"
      },
      "source": [
        "**Zadanie**\n",
        "Wykorzystaj funkcję `evaluate_model()` aby wyznaczyć wartość funkcji straty na zbiorze treningowym (`train_loader`) i walidacyjnym (`val_loader`) pobranego modelu. Liczbę iteracji (`eval_iter`) ogranicz do 50.\n",
        "\n",
        "Korzystając z wyznaczonych wartości funkcji straty oblicz metrykę *perplexity* dla danych treningowych i walidacyjnych ($pp=e^{loss}$)."
      ]
    },
    {
      "cell_type": "code",
      "execution_count": 66,
      "metadata": {
        "colab": {
          "base_uri": "https://localhost:8080/"
        },
        "id": "Eo36vvXia6r9",
        "outputId": "bfe234eb-d225-45f5-f45d-18d13d704c08"
      },
      "outputs": [
        {
          "name": "stdout",
          "output_type": "stream",
          "text": [
            "Train loss : 3.5962, Val loss : 3.8631\n",
            "Train perplexity : 36.461118026856404, Val perplexity 47.613124999784766\n"
          ]
        }
      ],
      "source": [
        "train_loss, val_loss = evaluate_model(model, train_loader, val_loader, device, eval_iter=50)\n",
        "\n",
        "print(f\"Train loss : {train_loss:.4f}, Val loss : {val_loss:.4f}\")\n",
        "\n",
        "train_loss_pp = np.exp(train_loss)\n",
        "val_loss_pp = np.exp(val_loss)\n",
        "\n",
        "print(f\"Train perplexity : {train_loss_pp}, Val perplexity {val_loss_pp}\")"
      ]
    },
    {
      "cell_type": "markdown",
      "metadata": {
        "id": "1JkG-wfw6fKj"
      },
      "source": [
        "## Strategie generowania tekstu"
      ]
    },
    {
      "cell_type": "markdown",
      "metadata": {
        "id": "_SmMDsFOr8RC"
      },
      "source": [
        "Autoregresyjny model językowy zwraca **rozkład prawdopodobieństwa** (a dokładniej nieznormalizowane logarytmy prawdopodobieństwa zwane logitami) **kolejnego tokenu dla każdej pozycji w sekwencji wejściowej**.\n",
        "```\n",
        "# token_ids: wejściowy tensor o rozmiarach (rozmiar wsadu, długość sekwencji)\n",
        "logits = model(token_ids)\n",
        "# logits: tensor (rozmiar wsadu, długość sekwencji, wielkość słownika)\n",
        "```\n",
        "Generując kolejny token interesuje nas tylko rozkład prawdopodobieństwa elementu następującego **po ostatnim** tokenie sekwencji wejściowej. Czyli ze zwróconego przez model tensora wybieramy tylko elementy z indeksem -1 w drugim wymiarze.\n",
        "```\n",
        "logits = logits[:, -1, :]\n",
        "```\n",
        "\n",
        "W bibliotece HuggingFace zaimplementowane są typowe strategie generowania tekstu.\n",
        "Do celów edukacyjnych w notatniku zaimplementowano własną funkcję generowania tekstu `generate_text` parametryzowaną funkcją definiującą **strategię samplowania** `sampling_fn`.\n"
      ]
    },
    {
      "cell_type": "code",
      "execution_count": 67,
      "metadata": {
        "id": "xC4H5QPUe-8r"
      },
      "outputs": [],
      "source": [
        "def generate_text(model: nn.Module, tokenizer, sampling_fn, device,\n",
        "                  start_context: str, max_new_tokens: int = 20) -> str:\n",
        "    # sampling_fn: funkcja samplująca\n",
        "    model.eval()\n",
        "    context_size = model.context_length\n",
        "    token_ids = tokenizer(start_context, return_tensors='pt')['input_ids'].to(device)\n",
        "\n",
        "    with torch.no_grad():\n",
        "        for _ in range(max_new_tokens):\n",
        "            # Ogranicz długość sekwencji do okna kontekstu modelu\n",
        "            logits = model(token_ids[:, -context_size:])\n",
        "            # logits jest tensorem (rozmiar wsadu=1, długość sekwencji, rozmiar słownika)\n",
        "\n",
        "            # Weź rozkład prawdopodobieństwa (logit'y) ostatniego elementu w sekwencji\n",
        "            logits = logits[:, -1, :]\n",
        "\n",
        "            # Samplowanie kolejnego tokenu\n",
        "            next_token_id = sampling_fn(logits)\n",
        "            batch_size = logits.shape[0]\n",
        "            assert next_token_id.shape == (batch_size, 1)\n",
        "\n",
        "            # Dołącz token do uprzednio wygenerowanej sekwencji\n",
        "            token_ids = torch.cat((token_ids, next_token_id), dim=1)\n",
        "\n",
        "    decoded_text = tokenizer.decode(token_ids.squeeze(0))\n",
        "    return decoded_text"
      ]
    },
    {
      "cell_type": "markdown",
      "metadata": {
        "id": "E4iSI4VhsgMX"
      },
      "source": [
        "W **strategii zachłannej** (funkcja `greedy_sampling_fn`) wybieramy deterministycznie token o największym prawdopodobieństwie."
      ]
    },
    {
      "cell_type": "code",
      "execution_count": 68,
      "metadata": {
        "id": "ptyVfowde1cm"
      },
      "outputs": [],
      "source": [
        "def greedy_sampling_fn(logits: Tensor) -> Tensor:\n",
        "    # logits: tensor o wymiarach (rozmiar wsadu, wielkość słownika)\n",
        "\n",
        "    # Dla każdego elementu wsadu zwróć id najbardziej prawdopodobnego tokenu\n",
        "    return torch.argmax(logits, dim=-1, keepdim=True)"
      ]
    },
    {
      "cell_type": "markdown",
      "metadata": {
        "id": "VVPzAa3VAi9b"
      },
      "source": []
    },
    {
      "cell_type": "code",
      "execution_count": 69,
      "metadata": {
        "colab": {
          "base_uri": "https://localhost:8080/"
        },
        "id": "m7kZDL_le6Dv",
        "outputId": "fdc0f42c-e886-454c-e823-b2733453f178"
      },
      "outputs": [
        {
          "name": "stdout",
          "output_type": "stream",
          "text": [
            "Natalia weszła do pokoju i ze zdumieniem zobaczyła w lustrze dziwną postać.\n",
            "\n",
            "— To jest pan, panie hrabio? — zawołała. — Czy pan jest hrabią?\n",
            "\n",
            "— Tak, jestem hrabią.\n",
            "\n",
            "— Ach, to pan! — zawołała. — Ach, to pan!\n",
            "\n"
          ]
        }
      ],
      "source": [
        "start_context = \"Natalia weszła do pokoju i ze zdumieniem zobaczyła w lustrze dziwną\"\n",
        "\n",
        "decoded_text = generate_text(model, tokenizer, greedy_sampling_fn, device,\n",
        "                             start_context, max_new_tokens=50)\n",
        "print(decoded_text)"
      ]
    },
    {
      "cell_type": "markdown",
      "metadata": {
        "id": "cnFjx-3jBAeU"
      },
      "source": [
        "**Wybór losowy** tokenu zgodnie z rozkładem prawdopodobieństwa wyznaczonym przez model.\n",
        "Funkcja `softmax` zamienia zwrócone przez model nieznormalizowane logarytmy prawdopodobieństwa (logity) na rozkład prawdopodobieńśtwa klas."
      ]
    },
    {
      "cell_type": "code",
      "execution_count": 70,
      "metadata": {
        "id": "3o_v-agDbC-c"
      },
      "outputs": [],
      "source": [
        "def probabilistic_sampling_fn(logits: Tensor) -> Tensor:\n",
        "  probas = torch.softmax(logits, dim=-1)\n",
        "  token_id = torch.multinomial(probas, num_samples=1)\n",
        "  return token_id"
      ]
    },
    {
      "cell_type": "code",
      "execution_count": 71,
      "metadata": {
        "colab": {
          "base_uri": "https://localhost:8080/"
        },
        "id": "l959mMEVbDJ2",
        "outputId": "16865f01-333c-4bbf-fb86-3500ff4a9bcd"
      },
      "outputs": [
        {
          "name": "stdout",
          "output_type": "stream",
          "text": [
            "Natalia weszła do pokoju i ze zdumieniem zobaczyła w lustrze dziwną sylwetkę ludzką, nieznaną jejJuż przedtem, od tej nocy, owej gdzie? przed jej pięknem tatą? Domyśliła się, pod kogo ta osoba czynienia ma. Mościa majorowa odgadła natychmiast. Poskoczył tedy ku niej z nieokreśloną radością. Kucharka skinęła głową. Młodzieniec błyskawicznie barakudjit zapytał ze zwykłą ceremonią, jaki to jest szpital? Nie wiedział, wprowadzony został na salę, dokąd go zaprowadzono. Kapitan spojrzał na Furkatja i pokiwała głową\n"
          ]
        }
      ],
      "source": [
        "generated_text = generate_text(model, tokenizer, probabilistic_sampling_fn, device, start_context, max_new_tokens=100)\n",
        "print(generated_text)"
      ]
    },
    {
      "cell_type": "markdown",
      "metadata": {
        "id": "qNXeLkI6AyrQ"
      },
      "source": [
        "**Skalowanie temperatury** (*temperature scaling*) pozwala zmodyfikować rozkład prawdopodobieństwa kolejnego tokenu poprzez zastosowanie funkcji **softmax z temperaturą** danej wzorem:\n",
        "$$\n",
        "\\sigma(z_i) = \\frac{e^{z_i / \\tau}}{\\sum_{j} e^{z_j / \\tau}} \\, ,\n",
        "$$ gdzie $z_i$ to wartość $i$-tego logit'a, $\\tau > 0$ jest parametrem temperatury.\n",
        "\n",
        "$\\tau < 1$ 'wyostrza' rozkład prawdopodobieństwa - zwiększa prawdopodobieństwa najbardziej prawdopodobnych klas i tłumi klasy rzadkie.\n",
        "Dla $\\tau > 1$ różnice między prawdopodobieństwami  klas zmniejszają się. Dla $\\tau \\to \\infty $ rozkład dąży do równomiernego."
      ]
    },
    {
      "cell_type": "markdown",
      "metadata": {
        "id": "JakH5BuwPup0"
      },
      "source": [
        "**Zadanie**\n",
        "\n",
        "Zaimplementuj funkcję `softmax_with_temperature` daną powyższym wzorem."
      ]
    },
    {
      "cell_type": "code",
      "execution_count": 72,
      "metadata": {
        "id": "8v9aZ4GkcMfk"
      },
      "outputs": [],
      "source": [
        "# Przykładowe rozwiązanie\n",
        "def softmax_with_temperature(logits: Tensor, temperature: float) -> Tensor:\n",
        "    token_id = torch.softmax(logits/temperature, dim=-1)\n",
        "\n",
        "    return token_id"
      ]
    },
    {
      "cell_type": "markdown",
      "metadata": {
        "id": "puhDSd6lP_rf"
      },
      "source": [
        "Sprawdzenie funkcji `softmax_with__temperature`"
      ]
    },
    {
      "cell_type": "code",
      "execution_count": 75,
      "metadata": {
        "colab": {
          "base_uri": "https://localhost:8080/"
        },
        "id": "TUGSPLGXP-o-",
        "outputId": "8a25dcbf-812b-41a3-c1cb-2a6ad388ef95"
      },
      "outputs": [
        {
          "name": "stdout",
          "output_type": "stream",
          "text": [
            "torch.Size([51200])\n",
            "\n",
            "Kontekst: W pewien upalny sierpniowy dzień Tadeusz\n",
            "SOFTMAX - 5 najbardziej prawdopodobnych klas\n",
            "token: 292 ( i)  pp: 0.03180\n",
            "token: 16 (,)  pp: 0.02283\n",
            "token: 630 ( był)  pp: 0.02169\n",
            "token: 406 (owi)  pp: 0.01408\n",
            "token: 304 ( nie)  pp: 0.01145\n",
            "\n",
            "SOFTMAX WITH TEMPERATURE=0.4 - 5 najbardziej prawdopodobnych klas\n",
            "token: 292 ( i)  pp: 0.37457\n",
            "token: 16 (,)  pp: 0.16351\n",
            "token: 630 ( był)  pp: 0.14386\n",
            "token: 406 (owi)  pp: 0.04885\n",
            "token: 304 ( nie)  pp: 0.02911\n"
          ]
        }
      ],
      "source": [
        "start_context = \"W pewien upalny sierpniowy dzień Tadeusz\"\n",
        "token_ids = tokenizer(start_context, return_tensors='pt')['input_ids'].to(device)\n",
        "\n",
        "model.eval()\n",
        "with torch.no_grad():\n",
        "    logits = model(token_ids)\n",
        "    logits = logits[0, -1, :]\n",
        "\n",
        "print(logits.shape)\n",
        "print()\n",
        "print(f\"Kontekst: {start_context}\")\n",
        "\n",
        "# Klasyczny SOFTMAX\n",
        "probas = torch.softmax(logits, dim=-1)\n",
        "k = 5\n",
        "top_probas, top_pos = torch.topk(probas, k)\n",
        "print(f\"SOFTMAX - {k} najbardziej prawdopodobnych klas\")\n",
        "for i in range(k):\n",
        "    print(f\"token: {top_pos[i]} ({tokenizer.decode(top_pos[i])})  pp: {top_probas[i]:0.5f}\")\n",
        "\n",
        "\n",
        "# SOFTMAX WITH TEMPERATURE\n",
        "tau = 0.4\n",
        "probas = softmax_with_temperature(logits, temperature=tau)\n",
        "\n",
        "assert probas.shape == logits.shape\n",
        "assert torch.allclose(torch.sum(probas, dim=-1), torch.tensor(1.))\n",
        "\n",
        "top_probas, top_pos = torch.topk(probas, k)\n",
        "print()\n",
        "print(f\"SOFTMAX WITH TEMPERATURE={tau} - {k} najbardziej prawdopodobnych klas\")\n",
        "for i in range(k):\n",
        "    print(f\"token: {top_pos[i]} ({tokenizer.decode(top_pos[i])})  pp: {top_probas[i]:0.5f}\")\n"
      ]
    },
    {
      "cell_type": "markdown",
      "metadata": {
        "id": "4J_4aO2RAy0M"
      },
      "source": [
        "**Samplowanie top-k** (*top-k sampling*) wybiera losowo z $k$ najbardziej prawdopodobnych tokenów zgodnie z rozkładem prawdopodobieństwa zwróconym przez model."
      ]
    },
    {
      "cell_type": "code",
      "execution_count": 76,
      "metadata": {
        "id": "U-saOxp9e0gh"
      },
      "outputs": [],
      "source": [
        "def topk_sampling_fn(logits: Tensor) -> Tensor:\n",
        "  top_k = 3\n",
        "  # Assume batch size = 1\n",
        "  assert logits.shape[0] == 1\n",
        "  logits = logits.squeeze(0)\n",
        "  top_logits, top_pos = torch.topk(logits, top_k)\n",
        "  new_logits = torch.where(logits < top_logits[-1], torch.tensor(float('-inf')), logits)\n",
        "  probas = torch.softmax(new_logits, dim=-1)\n",
        "  token_id = torch.multinomial(probas, num_samples=1)\n",
        "  return token_id.unsqueeze(0)"
      ]
    },
    {
      "cell_type": "code",
      "execution_count": 77,
      "metadata": {
        "colab": {
          "base_uri": "https://localhost:8080/"
        },
        "id": "Vvc4o74Oe0mA",
        "outputId": "d52f5cf4-0e85-4dda-866b-0303059bd2c7"
      },
      "outputs": [
        {
          "name": "stdout",
          "output_type": "stream",
          "text": [
            "W pewien upalny sierpniowy dzień Tadeusz i Marysia byli w domu.\n",
            "\n",
            "\n",
            "\n",
            "\n",
            "\n",
            "— Czy pan nie wie, że pani nie jest w domu? — zapytał pan Kazimierz, gdy się drzwi otworzyły.\n",
            "\n",
            "— Nie, nie wiem — odparła Marysia, nie mogąc się powstrzymać.\n",
            "\n",
            "Pan Kazimierz stał na środku pokoju i patrzył na Marysię.\n",
            "\n",
            "— Czy pani jest w domu?\n",
            "\n",
            "— Jestem — odpowiedziała pani. — Czy pan nie wie?\n",
            "\n",
            "— Nie, ale… — odparł pan\n"
          ]
        }
      ],
      "source": [
        "generated_text = generate_text(model, tokenizer, topk_sampling_fn, device, start_context, max_new_tokens=100)\n",
        "print(generated_text)"
      ]
    },
    {
      "cell_type": "markdown",
      "metadata": {
        "id": "Kco92qBIwPo2"
      },
      "source": [
        "# Wykorzystanie wstępnie wytrenowanego polskiego modelu językowego Qra-1b"
      ]
    },
    {
      "cell_type": "markdown",
      "metadata": {
        "id": "fJpA-QVpsvrY"
      },
      "source": [
        "**Rodzina polskich modeli językowych Qra** (1B, 7B, 13B) oparta jest o architekturę modeli językowych Llama. Modele zostały zainicjalizowane publicznie dostępnymi wagami modeli Llama 2 a następnie dotrenowane na polskich zasobach językowych (90 miliardów tokenów).\n",
        "Modele z rodziny Qra są statystycznymi modelami języka. Nie są przeznaczone do bezpośredniego wykorzystania w systemach dialogowych lub do wykonywania poleceń. Muszą zostać dotrenowane aby mogły być wykorzystane do takich celów.\n",
        "Więcej informacji: [link](https://huggingface.co/OPI-PG/Qra-1b)."
      ]
    },
    {
      "cell_type": "code",
      "execution_count": 78,
      "metadata": {
        "colab": {
          "base_uri": "https://localhost:8080/",
          "height": 692,
          "referenced_widgets": [
            "8e48a081b7a84f9f8dc52e277a763528",
            "4dc7fd046b19456289ab9047be5ecbfb",
            "1bc77087b6ad4b21a260fdb7df54f542",
            "b6579a2c034241128592363db320e4d1",
            "a69b9e50668242ffbda9e75ade1ae931",
            "0ac1d40ed460404ab668a11a1b8f7cb5",
            "259be0da4deb4bd09b484c717dfd886c",
            "9679c88f457b437c95443aebcb6cf445",
            "b412bc5f0fe94a378ac76b922d902f07",
            "c654bfd4dada477a8e403041a0e8ec0c",
            "cd2a64bc0408495bb9ee28604ed95b62",
            "020530c403464f66be21c47256d6fabb",
            "99e4e48f664b40d783e190088b2edd5e",
            "7d5f73b96e4b4a81afefe915c34c2a1d",
            "26bbc056222943d1890bb4fdf172fb55",
            "22bdec1f76144167ac8fd7d797a1605b",
            "d5f2cd4a629f4546adef625571baefe2",
            "487eff1f474e4f5498489b05b72da1cd",
            "fff6ff7af31343048332ca9686ee6ce7",
            "2cdd1046341144139b1a17bb09278022",
            "c9e03be91b814301bbacae220d4f5e15",
            "50dec2ccceee42708805bfd331d2ec11",
            "c5dc7a8472874a76b2feda9368475ea0",
            "a697991da0cb4f9381504ee8bd102e84",
            "e8ea264b9ffe4d9bbc8013d28d06bd5a",
            "dd60c17c4edc4ded8f8f3e42e83de8f1",
            "a8fab83622a34397b4f1a21d3a330b2a",
            "481a4d4da8ef4f9db49706393fb79af0",
            "5a0611d472574c00b2c797ba85ec47d0",
            "8bda08c3ef0b4983a9b78497767a5487",
            "29668e74ae4e4adbae5f09a4fe4cc95e",
            "940ebdc11c974e1386e605bf6f41a5a0",
            "c92e3457683e4e09806dea29c73e54c1",
            "f830c973875f4fd38720acd5daff80d7",
            "1873efa5b3ca4c2681651cc142ccf498",
            "ac4873c1c3694c88979b737f1a5ad92b",
            "88a3bd9c899d4033a8ab081d2ce2c57e",
            "968a8ef460b7467481c20f1e1563c430",
            "bb034ccdce7f4c3fa4cbd9f2e48e0938",
            "a108e5278e8b4ddf90ee813263e06230",
            "4288fb360adc4bb89655280856b100fe",
            "6d804f5f31a54c7b8559b2391a3bdb9f",
            "6318a2b029f84375a71648033696739e",
            "487f5935ab4e4e79be46a66f2a23dda5",
            "cdb36b587e5f40689ebe8b77b94c93e7",
            "c0493b5c9700482db230efd58197c4ca",
            "576bc12bccac4943890f72789ab2a65c",
            "4f3b74555a294240b219875b715fc907",
            "7d768eb49bb245e4b300d90a6d356540",
            "6cdfaa555d0e461184a617faecd4b493",
            "a96e2e22a3204cf7977d409fa4b42ec4",
            "4748a3b9a85b4b1b98a5af09b71b0ec1",
            "e6b344a3f15346e5b39451eba9c51f9c",
            "f0741e11f7b7494f97a94eaff6cc253b",
            "be45248c500b4a73a6fbc45279ddd75b",
            "9756dbc401c04656b4a6456e4c15dfe5",
            "628e099110864461bbccc5591c873811",
            "4515147dc98a4fe29e57206dfe82f956",
            "69b4b0abbf7a4556aa84c288c90241d9",
            "2e75fd43b3c34fb7a8053bdceb4328ad",
            "dc97bb833d664aaa8cf99faeb0cc0118",
            "5f886556eda5490a97a714cb9245c3a8",
            "9e1b0a0710d6449eb652c13c36a1b8fb",
            "62f6d46841774d60b4a39db765a2234a",
            "5a832a6cc1544b9bbac155ea7ff95fd1",
            "554934e41976430b9dff262c0e7ec242",
            "68a171744451436e8fe0a7bf3464489e",
            "cfe8ad7b635b49cd8ee7cee51343b11f",
            "fe940a50c8f44b7dac49b0c0d3683b58",
            "8c30445d72b049189e0e4f51c8dbdfe3",
            "b4121ffe39934dadbaa9a39108b6cd18",
            "4ef82d6b92bf45a4a6f13a236c0045db",
            "05aabe13a0f641caa0568f23a6f2b90b",
            "e685bdffaa7943dc848339bf6838f96a",
            "82cc9d7a12024049af6c02253040bbe2",
            "3558c48afe624b43a983cba2e400bd50",
            "e5b4ada993434cabbf688ab433d4c9a2"
          ]
        },
        "id": "pJiNGK6UnQwJ",
        "outputId": "d519fbeb-f48d-43e0-f61f-c214091ab037"
      },
      "outputs": [
        {
          "data": {
            "application/vnd.jupyter.widget-view+json": {
              "model_id": "8e48a081b7a84f9f8dc52e277a763528",
              "version_major": 2,
              "version_minor": 0
            },
            "text/plain": [
              "tokenizer_config.json:   0%|          | 0.00/935 [00:00<?, ?B/s]"
            ]
          },
          "metadata": {},
          "output_type": "display_data"
        },
        {
          "data": {
            "application/vnd.jupyter.widget-view+json": {
              "model_id": "020530c403464f66be21c47256d6fabb",
              "version_major": 2,
              "version_minor": 0
            },
            "text/plain": [
              "tokenizer.model:   0%|          | 0.00/500k [00:00<?, ?B/s]"
            ]
          },
          "metadata": {},
          "output_type": "display_data"
        },
        {
          "data": {
            "application/vnd.jupyter.widget-view+json": {
              "model_id": "c5dc7a8472874a76b2feda9368475ea0",
              "version_major": 2,
              "version_minor": 0
            },
            "text/plain": [
              "tokenizer.json:   0%|          | 0.00/1.84M [00:00<?, ?B/s]"
            ]
          },
          "metadata": {},
          "output_type": "display_data"
        },
        {
          "data": {
            "application/vnd.jupyter.widget-view+json": {
              "model_id": "f830c973875f4fd38720acd5daff80d7",
              "version_major": 2,
              "version_minor": 0
            },
            "text/plain": [
              "special_tokens_map.json:   0%|          | 0.00/437 [00:00<?, ?B/s]"
            ]
          },
          "metadata": {},
          "output_type": "display_data"
        },
        {
          "data": {
            "application/vnd.jupyter.widget-view+json": {
              "model_id": "cdb36b587e5f40689ebe8b77b94c93e7",
              "version_major": 2,
              "version_minor": 0
            },
            "text/plain": [
              "config.json:   0%|          | 0.00/752 [00:00<?, ?B/s]"
            ]
          },
          "metadata": {},
          "output_type": "display_data"
        },
        {
          "data": {
            "application/vnd.jupyter.widget-view+json": {
              "model_id": "9756dbc401c04656b4a6456e4c15dfe5",
              "version_major": 2,
              "version_minor": 0
            },
            "text/plain": [
              "model.safetensors:   0%|          | 0.00/2.20G [00:00<?, ?B/s]"
            ]
          },
          "metadata": {},
          "output_type": "display_data"
        },
        {
          "data": {
            "application/vnd.jupyter.widget-view+json": {
              "model_id": "68a171744451436e8fe0a7bf3464489e",
              "version_major": 2,
              "version_minor": 0
            },
            "text/plain": [
              "generation_config.json:   0%|          | 0.00/124 [00:00<?, ?B/s]"
            ]
          },
          "metadata": {},
          "output_type": "display_data"
        },
        {
          "data": {
            "text/plain": [
              "LlamaForCausalLM(\n",
              "  (model): LlamaModel(\n",
              "    (embed_tokens): Embedding(32000, 2048)\n",
              "    (layers): ModuleList(\n",
              "      (0-21): 22 x LlamaDecoderLayer(\n",
              "        (self_attn): LlamaAttention(\n",
              "          (q_proj): Linear(in_features=2048, out_features=2048, bias=False)\n",
              "          (k_proj): Linear(in_features=2048, out_features=256, bias=False)\n",
              "          (v_proj): Linear(in_features=2048, out_features=256, bias=False)\n",
              "          (o_proj): Linear(in_features=2048, out_features=2048, bias=False)\n",
              "        )\n",
              "        (mlp): LlamaMLP(\n",
              "          (gate_proj): Linear(in_features=2048, out_features=5632, bias=False)\n",
              "          (up_proj): Linear(in_features=2048, out_features=5632, bias=False)\n",
              "          (down_proj): Linear(in_features=5632, out_features=2048, bias=False)\n",
              "          (act_fn): SiLU()\n",
              "        )\n",
              "        (input_layernorm): LlamaRMSNorm((2048,), eps=1e-05)\n",
              "        (post_attention_layernorm): LlamaRMSNorm((2048,), eps=1e-05)\n",
              "      )\n",
              "    )\n",
              "    (norm): LlamaRMSNorm((2048,), eps=1e-05)\n",
              "    (rotary_emb): LlamaRotaryEmbedding()\n",
              "  )\n",
              "  (lm_head): Linear(in_features=2048, out_features=32000, bias=False)\n",
              ")"
            ]
          },
          "execution_count": 78,
          "metadata": {},
          "output_type": "execute_result"
        }
      ],
      "source": [
        "import torch\n",
        "from transformers import AutoModelForCausalLM, AutoTokenizer\n",
        "\n",
        "model_name = \"OPI-PG/Qra-1b\"\n",
        "\n",
        "tokenizer = AutoTokenizer.from_pretrained(model_name, padding_side=\"left\")\n",
        "tokenizer.pad_token = tokenizer.eos_token\n",
        "\n",
        "model = AutoModelForCausalLM.from_pretrained(\n",
        "    model_name,\n",
        "    device_map=\"auto\",\n",
        "    torch_dtype=torch.float16,\n",
        "    low_cpu_mem_usage=True\n",
        "    )\n",
        "model.eval()"
      ]
    },
    {
      "cell_type": "code",
      "execution_count": 79,
      "metadata": {
        "colab": {
          "base_uri": "https://localhost:8080/"
        },
        "id": "q1SsFP3duvxn",
        "outputId": "019cb302-6715-4671-f335-01685083a8c4"
      },
      "outputs": [
        {
          "name": "stdout",
          "output_type": "stream",
          "text": [
            "Number of parameters - Total: 1,100,048,384 (4196.4 MB)   Trainable: 1,100,048,384\n"
          ]
        }
      ],
      "source": [
        "print_params_count(model)"
      ]
    },
    {
      "cell_type": "markdown",
      "metadata": {
        "id": "nwQ6e5Li3oAm"
      },
      "source": [
        "Modele z biblioteki HuggingFace posiadają metodę `generate` pozwalającą generować tekst z różnymi strategiami samplowania. Oprócz podstawowych strategii zaimplementowane są bardziej złożone metody poprawiające jakość generowanego tekstu takie, jak **przeszukiwania wiązki** (*beam search*). Więcej informacji na temat metod generowania tekstu [link](https://huggingface.co/blog/how-to-generate)."
      ]
    },
    {
      "cell_type": "markdown",
      "metadata": {
        "id": "ohv9G6eVGGro"
      },
      "source": [
        "**Zadanie**\n",
        "Wykorzystaj metodę generate modelu językowego `model.generate(...)` aby wygenerować kontynuację podanego promptu korzystając z następujących strategii:\n",
        "*   wybór zachłanny\n",
        "*   wybór losowy\n",
        "*   skalowanie temperatury\n",
        "*   samplowanie top-k\n",
        "*   przeszukiwanie wiązki (z wykorzystaniem czterech wiązek)\n",
        "\n",
        "Dla każdej strategii wygeneruj i wyświetl trzy odpowiedzi.\n",
        "\n",
        "Dokumentacja metody `generate`: [link](https://huggingface.co/docs/transformers/v4.18.0/en/main_classes/text_generation)."
      ]
    },
    {
      "cell_type": "code",
      "execution_count": 80,
      "metadata": {
        "colab": {
          "base_uri": "https://localhost:8080/"
        },
        "id": "ownHvIc6vBF8",
        "outputId": "500955ec-58df-4559-a5eb-ffe8a8523501"
      },
      "outputs": [
        {
          "name": "stdout",
          "output_type": "stream",
          "text": [
            "tensor([[    1,   399,   282,   809,   819,   701,   284,  1460, 24366,  1240,\n",
            "          8268, 22242, 30066,   323,  1943, 10958]], device='cuda:0')\n"
          ]
        }
      ],
      "source": [
        "device = \"cuda\"\n",
        "start_context = \"W pewien upalny sierpniowy dzień Tadeusz\"\n",
        "model_inputs = tokenizer([start_context], return_tensors=\"pt\")\n",
        "input_ids =  model_inputs['input_ids'].to(device)\n",
        "print(input_ids)"
      ]
    },
    {
      "cell_type": "code",
      "execution_count": 86,
      "metadata": {
        "id": "0KOMWCZ_urd2"
      },
      "outputs": [],
      "source": [
        "MAX_TOKENS = 50"
      ]
    },
    {
      "cell_type": "markdown",
      "metadata": {
        "id": "Qiu5CQGaHrSF"
      },
      "source": [
        "Wybór zachłanny"
      ]
    },
    {
      "cell_type": "code",
      "execution_count": 87,
      "metadata": {
        "colab": {
          "base_uri": "https://localhost:8080/"
        },
        "id": "t9dpFHV9HlSA",
        "outputId": "4067d975-cd58-4bf6-f1f2-b84fcfeb0070"
      },
      "outputs": [
        {
          "name": "stdout",
          "output_type": "stream",
          "text": [
            "Output:\n",
            "----------------------------------------------------------------------------------------------------\n",
            "W pewien upalny sierpniowy dzień Tadeusz Różewicz wraz z żoną, Zofią, przyjechali do Warszawy. W tym samym czasie w Warszawie odbywały się obchody 100. rocznicy od\n"
          ]
        }
      ],
      "source": [
        "model.to(device)\n",
        "\n",
        "greedy_output = model.generate(input_ids, max_new_tokens=MAX_TOKENS)\n",
        "\n",
        "print(\"Output:\\n\" + 100 * '-')\n",
        "print(tokenizer.decode(greedy_output[0], skip_special_tokens=True))"
      ]
    },
    {
      "cell_type": "markdown",
      "metadata": {
        "id": "2RB83gU1Ics4"
      },
      "source": [
        "Wybór losowy"
      ]
    },
    {
      "cell_type": "code",
      "execution_count": 89,
      "metadata": {
        "colab": {
          "base_uri": "https://localhost:8080/"
        },
        "id": "LPaFEs6dIcz6",
        "outputId": "415b7ac8-3bc4-41ba-9378-84a5f696583e"
      },
      "outputs": [
        {
          "name": "stdout",
          "output_type": "stream",
          "text": [
            "Random smapling nr : 0\n",
            "Output:\n",
            "----------------------------------------------------------------------------------------------------\n",
            "W pewien upalny sierpniowy dzień Tadeusz Puszczyński razem z bracia, synem i córką wyruszyli do najwyższego szczytu Mappolu, 5722mny. tej pływa w niepami\n",
            "Random smapling nr : 1\n",
            "Output:\n",
            "----------------------------------------------------------------------------------------------------\n",
            "W pewien upalny sierpniowy dzień Tadeusz Smoczyński wyjechał z Warszawy na podbój Mińska. \"Lustrator Polskiej Solidarności\" miał zamiarem \"zwrócenie na siebie uwagi policji, aby inter\n",
            "Random smapling nr : 2\n",
            "Output:\n",
            "----------------------------------------------------------------------------------------------------\n",
            "W pewien upalny sierpniowy dzień Tadeusz Różewicz, znany i przykryty literacką uwagą publiczności, będąc obowiązkowym gościem Miejskiego Domu Kultury w Częstochowie wziął\n"
          ]
        }
      ],
      "source": [
        "for i in range(3):\n",
        "  print(f\"Random smapling nr : {i}\")\n",
        "\n",
        "  random_output = model.generate(\n",
        "    input_ids,\n",
        "    max_new_tokens=MAX_TOKENS,\n",
        "    do_sample=True,\n",
        "    top_k=0\n",
        ")\n",
        "  print(\"Output:\\n\" + 100 * '-')\n",
        "  print(tokenizer.decode(random_output[0], skip_special_tokens=True))"
      ]
    },
    {
      "cell_type": "markdown",
      "metadata": {
        "id": "5CKL-wTdI8hu"
      },
      "source": [
        "Skalowanie temperatury"
      ]
    },
    {
      "cell_type": "code",
      "execution_count": 93,
      "metadata": {
        "colab": {
          "base_uri": "https://localhost:8080/"
        },
        "id": "bBzO0y7gI8oh",
        "outputId": "ed2c8da4-c111-4433-83cb-11d14c7f32f8"
      },
      "outputs": [
        {
          "name": "stdout",
          "output_type": "stream",
          "text": [
            "Output for temperature = 0.2\n",
            "Output:\n",
            "----------------------------------------------------------------------------------------------------\n",
            "W pewien upalny sierpniowy dzień Tadeusz Różewicz wraz z żoną, Zofią, wyruszyli w podróż po Europie. W tym czasie, w 1950 roku, wyszła na jaw wiadomo\n",
            "Output for temperature = 0.4\n",
            "Output:\n",
            "----------------------------------------------------------------------------------------------------\n",
            "W pewien upalny sierpniowy dzień Tadeusz Różewicz, wraz z żoną, przyjechał na wakacje do Pogorzeli. Tam właśnie właśnie, 23 sierpnia 1968 roku, zmar\n",
            "Output for temperature = 0.6\n",
            "Output:\n",
            "----------------------------------------------------------------------------------------------------\n",
            "W pewien upalny sierpniowy dzień Tadeusz, młody chłopak z rodziny warszawianek, spotyka w lesie sklepikarkę. Wkrótce okazuje się, że jest ona właśnie jego naj\n"
          ]
        }
      ],
      "source": [
        "for temperature in [0.2, 0.4, 0.6]:\n",
        "  print(f\"Output for temperature = {temperature}\")\n",
        "  temperature_output = model.generate(\n",
        "      input_ids,\n",
        "      max_new_tokens = MAX_TOKENS,\n",
        "      do_sample=True,\n",
        "      temperature=temperature\n",
        "  )\n",
        "\n",
        "  print(\"Output:\\n\" + 100 * '-')\n",
        "  print(tokenizer.decode(temperature_output[0], skip_special_tokens=True))"
      ]
    },
    {
      "cell_type": "markdown",
      "metadata": {
        "id": "S3wu5V1iJYFr"
      },
      "source": [
        "Samplowanie top-k"
      ]
    },
    {
      "cell_type": "code",
      "execution_count": 95,
      "metadata": {
        "colab": {
          "base_uri": "https://localhost:8080/"
        },
        "id": "mcA5cI3VJYPX",
        "outputId": "aa99bc29-1327-42f9-c97c-c74083202d7a"
      },
      "outputs": [
        {
          "name": "stdout",
          "output_type": "stream",
          "text": [
            "Output for k = 5\n",
            "Output:\n",
            "----------------------------------------------------------------------------------------------------\n",
            "W pewien upalny sierpniowy dzień Tadeusz Różczka złożył list do swojej matki z życzeniami i zaproszeniem na uroczyste obrządowanie. Było to święcenie kawy, którego z\n",
            "Output for k = 10\n",
            "Output:\n",
            "----------------------------------------------------------------------------------------------------\n",
            "W pewien upalny sierpniowy dzień Tadeusz Rypak z okazji 70-lecia powstania PRL wraz z młodszym bratem, Andrzejem, wraz z całą rodziną wyruszył na wyprawę\n",
            "Output for k = 15\n",
            "Output:\n",
            "----------------------------------------------------------------------------------------------------\n",
            "W pewien upalny sierpniowy dzień Tadeusz Gąsiorowski, 25-letni studiujący prawa w Katowicach, opróżnił zimną herbatą w swoim domu kupione u firmy, zatrud\n",
            "Output for k = 25\n",
            "Output:\n",
            "----------------------------------------------------------------------------------------------------\n",
            "W pewien upalny sierpniowy dzień Tadeusz i Elżbieta zostali przygarnęci do zakonu dokonanym przez ich wspólny znajomego. Mężczyźni zgromadzili się w zakonnych mataczech\n"
          ]
        }
      ],
      "source": [
        "for k in [5, 10, 15, 25]:\n",
        "  print(f\"Output for k = {k}\")\n",
        "  k_output = model.generate(\n",
        "      input_ids,\n",
        "      max_new_tokens = MAX_TOKENS,\n",
        "      do_sample=True,\n",
        "      top_k = k\n",
        "  )\n",
        "\n",
        "  print(\"Output:\\n\" + 100 * '-')\n",
        "  print(tokenizer.decode(k_output[0], skip_special_tokens=True))"
      ]
    },
    {
      "cell_type": "markdown",
      "metadata": {
        "id": "npWOTL4uIixp"
      },
      "source": [
        "Przeszukiwanie wiązki"
      ]
    },
    {
      "cell_type": "code",
      "execution_count": 96,
      "metadata": {
        "colab": {
          "base_uri": "https://localhost:8080/"
        },
        "id": "80wZ5GKxIi83",
        "outputId": "9c54fcd2-8aa2-4f3f-f175-640b489a63bd"
      },
      "outputs": [
        {
          "name": "stdout",
          "output_type": "stream",
          "text": [
            "Beam search for 5 beams\n",
            "Output:\n",
            "----------------------------------------------------------------------------------------------------\n",
            "W pewien upalny sierpniowy dzień Tadeusz Kościuszko wyruszył w podróż, która miała zakończyć się w 1796 roku. Wszystko wskazywało na to, że Kościuszko dotrze do\n",
            "Beam search for 8 beams\n",
            "Output:\n",
            "----------------------------------------------------------------------------------------------------\n",
            "W pewien upalny sierpniowy dzień Tadeusz Kościuszko wyruszył w podróż, która miała zakończyć się w 1796 roku. Wszystko wskazywało na to, że Kościuszko dotrze do\n",
            "Beam search for 12 beams\n",
            "Output:\n",
            "----------------------------------------------------------------------------------------------------\n",
            "W pewien upalny sierpniowy dzień Tadeusz Kościuszko wyruszył w drogę, która miała zakończyć wojnę o niepodległość Rzeczypospolitej Obojga Narodów. Tadeusz Kościuszko\n"
          ]
        }
      ],
      "source": [
        "for beam in [5, 8, 12]:\n",
        "  print(f\"Beam search for {beam} beams\")\n",
        "  beam_search_output = model.generate(\n",
        "        input_ids,\n",
        "        max_new_tokens = MAX_TOKENS,\n",
        "        num_beams=beam,\n",
        "        early_stopping=True\n",
        "  )\n",
        "  print(\"Output:\\n\" + 100 * '-')\n",
        "  print(tokenizer.decode(beam_search_output[0], skip_special_tokens=True))\n"
      ]
    },
    {
      "cell_type": "markdown",
      "metadata": {
        "id": "NGNtJWBu8PJQ"
      },
      "source": [
        "Inną dostępną w bibliotece HuggingFace rodziną polskich modeli językowych jest Bielik: [link](https://huggingface.co/speakleash). Wersja 2 zawiera modele o 7 i 11 miliardach parametrów. Była trenowana na polskim korpusie językowym SpeakLeash zawierającym 70 milardów tokenów.\n",
        "Dostępne są zarówno bazowe statystyczne modele językowe, jak i modele dostrojone do wykonywania poleceń."
      ]
    }
  ],
  "metadata": {
    "accelerator": "GPU",
    "colab": {
      "gpuType": "T4",
      "provenance": []
    },
    "kernelspec": {
      "display_name": ".venv",
      "language": "python",
      "name": "python3"
    },
    "language_info": {
      "codemirror_mode": {
        "name": "ipython",
        "version": 3
      },
      "file_extension": ".py",
      "mimetype": "text/x-python",
      "name": "python",
      "nbconvert_exporter": "python",
      "pygments_lexer": "ipython3",
      "version": "3.12.7"
    },
    "widgets": {
      "application/vnd.jupyter.widget-state+json": {
        "002de4b7f9914ce192b1628b7acef2b6": {
          "model_module": "@jupyter-widgets/base",
          "model_module_version": "1.2.0",
          "model_name": "LayoutModel",
          "state": {
            "_model_module": "@jupyter-widgets/base",
            "_model_module_version": "1.2.0",
            "_model_name": "LayoutModel",
            "_view_count": null,
            "_view_module": "@jupyter-widgets/base",
            "_view_module_version": "1.2.0",
            "_view_name": "LayoutView",
            "align_content": null,
            "align_items": null,
            "align_self": null,
            "border": null,
            "bottom": null,
            "display": null,
            "flex": null,
            "flex_flow": null,
            "grid_area": null,
            "grid_auto_columns": null,
            "grid_auto_flow": null,
            "grid_auto_rows": null,
            "grid_column": null,
            "grid_gap": null,
            "grid_row": null,
            "grid_template_areas": null,
            "grid_template_columns": null,
            "grid_template_rows": null,
            "height": null,
            "justify_content": null,
            "justify_items": null,
            "left": null,
            "margin": null,
            "max_height": null,
            "max_width": null,
            "min_height": null,
            "min_width": null,
            "object_fit": null,
            "object_position": null,
            "order": null,
            "overflow": null,
            "overflow_x": null,
            "overflow_y": null,
            "padding": null,
            "right": null,
            "top": null,
            "visibility": null,
            "width": null
          }
        },
        "006a758f2804418d935ea64e3a9461e7": {
          "model_module": "@jupyter-widgets/base",
          "model_module_version": "1.2.0",
          "model_name": "LayoutModel",
          "state": {
            "_model_module": "@jupyter-widgets/base",
            "_model_module_version": "1.2.0",
            "_model_name": "LayoutModel",
            "_view_count": null,
            "_view_module": "@jupyter-widgets/base",
            "_view_module_version": "1.2.0",
            "_view_name": "LayoutView",
            "align_content": null,
            "align_items": null,
            "align_self": null,
            "border": null,
            "bottom": null,
            "display": null,
            "flex": null,
            "flex_flow": null,
            "grid_area": null,
            "grid_auto_columns": null,
            "grid_auto_flow": null,
            "grid_auto_rows": null,
            "grid_column": null,
            "grid_gap": null,
            "grid_row": null,
            "grid_template_areas": null,
            "grid_template_columns": null,
            "grid_template_rows": null,
            "height": null,
            "justify_content": null,
            "justify_items": null,
            "left": null,
            "margin": null,
            "max_height": null,
            "max_width": null,
            "min_height": null,
            "min_width": null,
            "object_fit": null,
            "object_position": null,
            "order": null,
            "overflow": null,
            "overflow_x": null,
            "overflow_y": null,
            "padding": null,
            "right": null,
            "top": null,
            "visibility": null,
            "width": null
          }
        },
        "020530c403464f66be21c47256d6fabb": {
          "model_module": "@jupyter-widgets/controls",
          "model_module_version": "1.5.0",
          "model_name": "HBoxModel",
          "state": {
            "_dom_classes": [],
            "_model_module": "@jupyter-widgets/controls",
            "_model_module_version": "1.5.0",
            "_model_name": "HBoxModel",
            "_view_count": null,
            "_view_module": "@jupyter-widgets/controls",
            "_view_module_version": "1.5.0",
            "_view_name": "HBoxView",
            "box_style": "",
            "children": [
              "IPY_MODEL_99e4e48f664b40d783e190088b2edd5e",
              "IPY_MODEL_7d5f73b96e4b4a81afefe915c34c2a1d",
              "IPY_MODEL_26bbc056222943d1890bb4fdf172fb55"
            ],
            "layout": "IPY_MODEL_22bdec1f76144167ac8fd7d797a1605b"
          }
        },
        "05aabe13a0f641caa0568f23a6f2b90b": {
          "model_module": "@jupyter-widgets/controls",
          "model_module_version": "1.5.0",
          "model_name": "DescriptionStyleModel",
          "state": {
            "_model_module": "@jupyter-widgets/controls",
            "_model_module_version": "1.5.0",
            "_model_name": "DescriptionStyleModel",
            "_view_count": null,
            "_view_module": "@jupyter-widgets/base",
            "_view_module_version": "1.2.0",
            "_view_name": "StyleView",
            "description_width": ""
          }
        },
        "091983d0f20b45dfaad85c30d8cb73f5": {
          "model_module": "@jupyter-widgets/base",
          "model_module_version": "1.2.0",
          "model_name": "LayoutModel",
          "state": {
            "_model_module": "@jupyter-widgets/base",
            "_model_module_version": "1.2.0",
            "_model_name": "LayoutModel",
            "_view_count": null,
            "_view_module": "@jupyter-widgets/base",
            "_view_module_version": "1.2.0",
            "_view_name": "LayoutView",
            "align_content": null,
            "align_items": null,
            "align_self": null,
            "border": null,
            "bottom": null,
            "display": null,
            "flex": null,
            "flex_flow": null,
            "grid_area": null,
            "grid_auto_columns": null,
            "grid_auto_flow": null,
            "grid_auto_rows": null,
            "grid_column": null,
            "grid_gap": null,
            "grid_row": null,
            "grid_template_areas": null,
            "grid_template_columns": null,
            "grid_template_rows": null,
            "height": null,
            "justify_content": null,
            "justify_items": null,
            "left": null,
            "margin": null,
            "max_height": null,
            "max_width": null,
            "min_height": null,
            "min_width": null,
            "object_fit": null,
            "object_position": null,
            "order": null,
            "overflow": null,
            "overflow_x": null,
            "overflow_y": null,
            "padding": null,
            "right": null,
            "top": null,
            "visibility": null,
            "width": null
          }
        },
        "0ac1d40ed460404ab668a11a1b8f7cb5": {
          "model_module": "@jupyter-widgets/base",
          "model_module_version": "1.2.0",
          "model_name": "LayoutModel",
          "state": {
            "_model_module": "@jupyter-widgets/base",
            "_model_module_version": "1.2.0",
            "_model_name": "LayoutModel",
            "_view_count": null,
            "_view_module": "@jupyter-widgets/base",
            "_view_module_version": "1.2.0",
            "_view_name": "LayoutView",
            "align_content": null,
            "align_items": null,
            "align_self": null,
            "border": null,
            "bottom": null,
            "display": null,
            "flex": null,
            "flex_flow": null,
            "grid_area": null,
            "grid_auto_columns": null,
            "grid_auto_flow": null,
            "grid_auto_rows": null,
            "grid_column": null,
            "grid_gap": null,
            "grid_row": null,
            "grid_template_areas": null,
            "grid_template_columns": null,
            "grid_template_rows": null,
            "height": null,
            "justify_content": null,
            "justify_items": null,
            "left": null,
            "margin": null,
            "max_height": null,
            "max_width": null,
            "min_height": null,
            "min_width": null,
            "object_fit": null,
            "object_position": null,
            "order": null,
            "overflow": null,
            "overflow_x": null,
            "overflow_y": null,
            "padding": null,
            "right": null,
            "top": null,
            "visibility": null,
            "width": null
          }
        },
        "0b2a84ce9be04e308375dc48eadeae0d": {
          "model_module": "@jupyter-widgets/base",
          "model_module_version": "1.2.0",
          "model_name": "LayoutModel",
          "state": {
            "_model_module": "@jupyter-widgets/base",
            "_model_module_version": "1.2.0",
            "_model_name": "LayoutModel",
            "_view_count": null,
            "_view_module": "@jupyter-widgets/base",
            "_view_module_version": "1.2.0",
            "_view_name": "LayoutView",
            "align_content": null,
            "align_items": null,
            "align_self": null,
            "border": null,
            "bottom": null,
            "display": null,
            "flex": null,
            "flex_flow": null,
            "grid_area": null,
            "grid_auto_columns": null,
            "grid_auto_flow": null,
            "grid_auto_rows": null,
            "grid_column": null,
            "grid_gap": null,
            "grid_row": null,
            "grid_template_areas": null,
            "grid_template_columns": null,
            "grid_template_rows": null,
            "height": null,
            "justify_content": null,
            "justify_items": null,
            "left": null,
            "margin": null,
            "max_height": null,
            "max_width": null,
            "min_height": null,
            "min_width": null,
            "object_fit": null,
            "object_position": null,
            "order": null,
            "overflow": null,
            "overflow_x": null,
            "overflow_y": null,
            "padding": null,
            "right": null,
            "top": null,
            "visibility": null,
            "width": null
          }
        },
        "14b98c43836040a8b6c957d2d8978526": {
          "model_module": "@jupyter-widgets/base",
          "model_module_version": "1.2.0",
          "model_name": "LayoutModel",
          "state": {
            "_model_module": "@jupyter-widgets/base",
            "_model_module_version": "1.2.0",
            "_model_name": "LayoutModel",
            "_view_count": null,
            "_view_module": "@jupyter-widgets/base",
            "_view_module_version": "1.2.0",
            "_view_name": "LayoutView",
            "align_content": null,
            "align_items": null,
            "align_self": null,
            "border": null,
            "bottom": null,
            "display": null,
            "flex": null,
            "flex_flow": null,
            "grid_area": null,
            "grid_auto_columns": null,
            "grid_auto_flow": null,
            "grid_auto_rows": null,
            "grid_column": null,
            "grid_gap": null,
            "grid_row": null,
            "grid_template_areas": null,
            "grid_template_columns": null,
            "grid_template_rows": null,
            "height": null,
            "justify_content": null,
            "justify_items": null,
            "left": null,
            "margin": null,
            "max_height": null,
            "max_width": null,
            "min_height": null,
            "min_width": null,
            "object_fit": null,
            "object_position": null,
            "order": null,
            "overflow": null,
            "overflow_x": null,
            "overflow_y": null,
            "padding": null,
            "right": null,
            "top": null,
            "visibility": null,
            "width": null
          }
        },
        "1873efa5b3ca4c2681651cc142ccf498": {
          "model_module": "@jupyter-widgets/controls",
          "model_module_version": "1.5.0",
          "model_name": "HTMLModel",
          "state": {
            "_dom_classes": [],
            "_model_module": "@jupyter-widgets/controls",
            "_model_module_version": "1.5.0",
            "_model_name": "HTMLModel",
            "_view_count": null,
            "_view_module": "@jupyter-widgets/controls",
            "_view_module_version": "1.5.0",
            "_view_name": "HTMLView",
            "description": "",
            "description_tooltip": null,
            "layout": "IPY_MODEL_bb034ccdce7f4c3fa4cbd9f2e48e0938",
            "placeholder": "​",
            "style": "IPY_MODEL_a108e5278e8b4ddf90ee813263e06230",
            "value": "special_tokens_map.json: 100%"
          }
        },
        "18dd94b88d9b44e292183761cbcc9413": {
          "model_module": "@jupyter-widgets/base",
          "model_module_version": "1.2.0",
          "model_name": "LayoutModel",
          "state": {
            "_model_module": "@jupyter-widgets/base",
            "_model_module_version": "1.2.0",
            "_model_name": "LayoutModel",
            "_view_count": null,
            "_view_module": "@jupyter-widgets/base",
            "_view_module_version": "1.2.0",
            "_view_name": "LayoutView",
            "align_content": null,
            "align_items": null,
            "align_self": null,
            "border": null,
            "bottom": null,
            "display": null,
            "flex": null,
            "flex_flow": null,
            "grid_area": null,
            "grid_auto_columns": null,
            "grid_auto_flow": null,
            "grid_auto_rows": null,
            "grid_column": null,
            "grid_gap": null,
            "grid_row": null,
            "grid_template_areas": null,
            "grid_template_columns": null,
            "grid_template_rows": null,
            "height": null,
            "justify_content": null,
            "justify_items": null,
            "left": null,
            "margin": null,
            "max_height": null,
            "max_width": null,
            "min_height": null,
            "min_width": null,
            "object_fit": null,
            "object_position": null,
            "order": null,
            "overflow": null,
            "overflow_x": null,
            "overflow_y": null,
            "padding": null,
            "right": null,
            "top": null,
            "visibility": null,
            "width": null
          }
        },
        "19383e72232045eda978405538f371ee": {
          "model_module": "@jupyter-widgets/controls",
          "model_module_version": "1.5.0",
          "model_name": "FloatProgressModel",
          "state": {
            "_dom_classes": [],
            "_model_module": "@jupyter-widgets/controls",
            "_model_module_version": "1.5.0",
            "_model_name": "FloatProgressModel",
            "_view_count": null,
            "_view_module": "@jupyter-widgets/controls",
            "_view_module_version": "1.5.0",
            "_view_name": "ProgressView",
            "bar_style": "success",
            "description": "",
            "description_tooltip": null,
            "layout": "IPY_MODEL_1cd6efa550024a84b83ea8c38e8c1b63",
            "max": 319,
            "min": 0,
            "orientation": "horizontal",
            "style": "IPY_MODEL_4afd9a1fe1044b478d5e43605dd296f0",
            "value": 319
          }
        },
        "1a5345d72f36445db9948c31ff9d9b89": {
          "model_module": "@jupyter-widgets/controls",
          "model_module_version": "1.5.0",
          "model_name": "DescriptionStyleModel",
          "state": {
            "_model_module": "@jupyter-widgets/controls",
            "_model_module_version": "1.5.0",
            "_model_name": "DescriptionStyleModel",
            "_view_count": null,
            "_view_module": "@jupyter-widgets/base",
            "_view_module_version": "1.2.0",
            "_view_name": "StyleView",
            "description_width": ""
          }
        },
        "1bc77087b6ad4b21a260fdb7df54f542": {
          "model_module": "@jupyter-widgets/controls",
          "model_module_version": "1.5.0",
          "model_name": "FloatProgressModel",
          "state": {
            "_dom_classes": [],
            "_model_module": "@jupyter-widgets/controls",
            "_model_module_version": "1.5.0",
            "_model_name": "FloatProgressModel",
            "_view_count": null,
            "_view_module": "@jupyter-widgets/controls",
            "_view_module_version": "1.5.0",
            "_view_name": "ProgressView",
            "bar_style": "success",
            "description": "",
            "description_tooltip": null,
            "layout": "IPY_MODEL_9679c88f457b437c95443aebcb6cf445",
            "max": 935,
            "min": 0,
            "orientation": "horizontal",
            "style": "IPY_MODEL_b412bc5f0fe94a378ac76b922d902f07",
            "value": 935
          }
        },
        "1c1cee1566c54619a4703966f9a2e06e": {
          "model_module": "@jupyter-widgets/base",
          "model_module_version": "1.2.0",
          "model_name": "LayoutModel",
          "state": {
            "_model_module": "@jupyter-widgets/base",
            "_model_module_version": "1.2.0",
            "_model_name": "LayoutModel",
            "_view_count": null,
            "_view_module": "@jupyter-widgets/base",
            "_view_module_version": "1.2.0",
            "_view_name": "LayoutView",
            "align_content": null,
            "align_items": null,
            "align_self": null,
            "border": null,
            "bottom": null,
            "display": null,
            "flex": null,
            "flex_flow": null,
            "grid_area": null,
            "grid_auto_columns": null,
            "grid_auto_flow": null,
            "grid_auto_rows": null,
            "grid_column": null,
            "grid_gap": null,
            "grid_row": null,
            "grid_template_areas": null,
            "grid_template_columns": null,
            "grid_template_rows": null,
            "height": null,
            "justify_content": null,
            "justify_items": null,
            "left": null,
            "margin": null,
            "max_height": null,
            "max_width": null,
            "min_height": null,
            "min_width": null,
            "object_fit": null,
            "object_position": null,
            "order": null,
            "overflow": null,
            "overflow_x": null,
            "overflow_y": null,
            "padding": null,
            "right": null,
            "top": null,
            "visibility": null,
            "width": null
          }
        },
        "1cd6efa550024a84b83ea8c38e8c1b63": {
          "model_module": "@jupyter-widgets/base",
          "model_module_version": "1.2.0",
          "model_name": "LayoutModel",
          "state": {
            "_model_module": "@jupyter-widgets/base",
            "_model_module_version": "1.2.0",
            "_model_name": "LayoutModel",
            "_view_count": null,
            "_view_module": "@jupyter-widgets/base",
            "_view_module_version": "1.2.0",
            "_view_name": "LayoutView",
            "align_content": null,
            "align_items": null,
            "align_self": null,
            "border": null,
            "bottom": null,
            "display": null,
            "flex": null,
            "flex_flow": null,
            "grid_area": null,
            "grid_auto_columns": null,
            "grid_auto_flow": null,
            "grid_auto_rows": null,
            "grid_column": null,
            "grid_gap": null,
            "grid_row": null,
            "grid_template_areas": null,
            "grid_template_columns": null,
            "grid_template_rows": null,
            "height": null,
            "justify_content": null,
            "justify_items": null,
            "left": null,
            "margin": null,
            "max_height": null,
            "max_width": null,
            "min_height": null,
            "min_width": null,
            "object_fit": null,
            "object_position": null,
            "order": null,
            "overflow": null,
            "overflow_x": null,
            "overflow_y": null,
            "padding": null,
            "right": null,
            "top": null,
            "visibility": null,
            "width": null
          }
        },
        "22bdec1f76144167ac8fd7d797a1605b": {
          "model_module": "@jupyter-widgets/base",
          "model_module_version": "1.2.0",
          "model_name": "LayoutModel",
          "state": {
            "_model_module": "@jupyter-widgets/base",
            "_model_module_version": "1.2.0",
            "_model_name": "LayoutModel",
            "_view_count": null,
            "_view_module": "@jupyter-widgets/base",
            "_view_module_version": "1.2.0",
            "_view_name": "LayoutView",
            "align_content": null,
            "align_items": null,
            "align_self": null,
            "border": null,
            "bottom": null,
            "display": null,
            "flex": null,
            "flex_flow": null,
            "grid_area": null,
            "grid_auto_columns": null,
            "grid_auto_flow": null,
            "grid_auto_rows": null,
            "grid_column": null,
            "grid_gap": null,
            "grid_row": null,
            "grid_template_areas": null,
            "grid_template_columns": null,
            "grid_template_rows": null,
            "height": null,
            "justify_content": null,
            "justify_items": null,
            "left": null,
            "margin": null,
            "max_height": null,
            "max_width": null,
            "min_height": null,
            "min_width": null,
            "object_fit": null,
            "object_position": null,
            "order": null,
            "overflow": null,
            "overflow_x": null,
            "overflow_y": null,
            "padding": null,
            "right": null,
            "top": null,
            "visibility": null,
            "width": null
          }
        },
        "259be0da4deb4bd09b484c717dfd886c": {
          "model_module": "@jupyter-widgets/controls",
          "model_module_version": "1.5.0",
          "model_name": "DescriptionStyleModel",
          "state": {
            "_model_module": "@jupyter-widgets/controls",
            "_model_module_version": "1.5.0",
            "_model_name": "DescriptionStyleModel",
            "_view_count": null,
            "_view_module": "@jupyter-widgets/base",
            "_view_module_version": "1.2.0",
            "_view_name": "StyleView",
            "description_width": ""
          }
        },
        "26bbc056222943d1890bb4fdf172fb55": {
          "model_module": "@jupyter-widgets/controls",
          "model_module_version": "1.5.0",
          "model_name": "HTMLModel",
          "state": {
            "_dom_classes": [],
            "_model_module": "@jupyter-widgets/controls",
            "_model_module_version": "1.5.0",
            "_model_name": "HTMLModel",
            "_view_count": null,
            "_view_module": "@jupyter-widgets/controls",
            "_view_module_version": "1.5.0",
            "_view_name": "HTMLView",
            "description": "",
            "description_tooltip": null,
            "layout": "IPY_MODEL_c9e03be91b814301bbacae220d4f5e15",
            "placeholder": "​",
            "style": "IPY_MODEL_50dec2ccceee42708805bfd331d2ec11",
            "value": " 500k/500k [00:00&lt;00:00, 7.55MB/s]"
          }
        },
        "29668e74ae4e4adbae5f09a4fe4cc95e": {
          "model_module": "@jupyter-widgets/controls",
          "model_module_version": "1.5.0",
          "model_name": "ProgressStyleModel",
          "state": {
            "_model_module": "@jupyter-widgets/controls",
            "_model_module_version": "1.5.0",
            "_model_name": "ProgressStyleModel",
            "_view_count": null,
            "_view_module": "@jupyter-widgets/base",
            "_view_module_version": "1.2.0",
            "_view_name": "StyleView",
            "bar_color": null,
            "description_width": ""
          }
        },
        "2cdd1046341144139b1a17bb09278022": {
          "model_module": "@jupyter-widgets/controls",
          "model_module_version": "1.5.0",
          "model_name": "ProgressStyleModel",
          "state": {
            "_model_module": "@jupyter-widgets/controls",
            "_model_module_version": "1.5.0",
            "_model_name": "ProgressStyleModel",
            "_view_count": null,
            "_view_module": "@jupyter-widgets/base",
            "_view_module_version": "1.2.0",
            "_view_name": "StyleView",
            "bar_color": null,
            "description_width": ""
          }
        },
        "2e75fd43b3c34fb7a8053bdceb4328ad": {
          "model_module": "@jupyter-widgets/base",
          "model_module_version": "1.2.0",
          "model_name": "LayoutModel",
          "state": {
            "_model_module": "@jupyter-widgets/base",
            "_model_module_version": "1.2.0",
            "_model_name": "LayoutModel",
            "_view_count": null,
            "_view_module": "@jupyter-widgets/base",
            "_view_module_version": "1.2.0",
            "_view_name": "LayoutView",
            "align_content": null,
            "align_items": null,
            "align_self": null,
            "border": null,
            "bottom": null,
            "display": null,
            "flex": null,
            "flex_flow": null,
            "grid_area": null,
            "grid_auto_columns": null,
            "grid_auto_flow": null,
            "grid_auto_rows": null,
            "grid_column": null,
            "grid_gap": null,
            "grid_row": null,
            "grid_template_areas": null,
            "grid_template_columns": null,
            "grid_template_rows": null,
            "height": null,
            "justify_content": null,
            "justify_items": null,
            "left": null,
            "margin": null,
            "max_height": null,
            "max_width": null,
            "min_height": null,
            "min_width": null,
            "object_fit": null,
            "object_position": null,
            "order": null,
            "overflow": null,
            "overflow_x": null,
            "overflow_y": null,
            "padding": null,
            "right": null,
            "top": null,
            "visibility": null,
            "width": null
          }
        },
        "34dfeed727414965b1704a54bb433a06": {
          "model_module": "@jupyter-widgets/controls",
          "model_module_version": "1.5.0",
          "model_name": "HTMLModel",
          "state": {
            "_dom_classes": [],
            "_model_module": "@jupyter-widgets/controls",
            "_model_module_version": "1.5.0",
            "_model_name": "HTMLModel",
            "_view_count": null,
            "_view_module": "@jupyter-widgets/controls",
            "_view_module_version": "1.5.0",
            "_view_name": "HTMLView",
            "description": "",
            "description_tooltip": null,
            "layout": "IPY_MODEL_002de4b7f9914ce192b1628b7acef2b6",
            "placeholder": "​",
            "style": "IPY_MODEL_3decb0c086d245c5bc23ef567ed505d6",
            "value": " 10/10 [00:00&lt;00:00, 41.66it/s]"
          }
        },
        "3558c48afe624b43a983cba2e400bd50": {
          "model_module": "@jupyter-widgets/base",
          "model_module_version": "1.2.0",
          "model_name": "LayoutModel",
          "state": {
            "_model_module": "@jupyter-widgets/base",
            "_model_module_version": "1.2.0",
            "_model_name": "LayoutModel",
            "_view_count": null,
            "_view_module": "@jupyter-widgets/base",
            "_view_module_version": "1.2.0",
            "_view_name": "LayoutView",
            "align_content": null,
            "align_items": null,
            "align_self": null,
            "border": null,
            "bottom": null,
            "display": null,
            "flex": null,
            "flex_flow": null,
            "grid_area": null,
            "grid_auto_columns": null,
            "grid_auto_flow": null,
            "grid_auto_rows": null,
            "grid_column": null,
            "grid_gap": null,
            "grid_row": null,
            "grid_template_areas": null,
            "grid_template_columns": null,
            "grid_template_rows": null,
            "height": null,
            "justify_content": null,
            "justify_items": null,
            "left": null,
            "margin": null,
            "max_height": null,
            "max_width": null,
            "min_height": null,
            "min_width": null,
            "object_fit": null,
            "object_position": null,
            "order": null,
            "overflow": null,
            "overflow_x": null,
            "overflow_y": null,
            "padding": null,
            "right": null,
            "top": null,
            "visibility": null,
            "width": null
          }
        },
        "3decb0c086d245c5bc23ef567ed505d6": {
          "model_module": "@jupyter-widgets/controls",
          "model_module_version": "1.5.0",
          "model_name": "DescriptionStyleModel",
          "state": {
            "_model_module": "@jupyter-widgets/controls",
            "_model_module_version": "1.5.0",
            "_model_name": "DescriptionStyleModel",
            "_view_count": null,
            "_view_module": "@jupyter-widgets/base",
            "_view_module_version": "1.2.0",
            "_view_name": "StyleView",
            "description_width": ""
          }
        },
        "3fcdb1d9f61449ce90b17005a03fc426": {
          "model_module": "@jupyter-widgets/controls",
          "model_module_version": "1.5.0",
          "model_name": "FloatProgressModel",
          "state": {
            "_dom_classes": [],
            "_model_module": "@jupyter-widgets/controls",
            "_model_module_version": "1.5.0",
            "_model_name": "FloatProgressModel",
            "_view_count": null,
            "_view_module": "@jupyter-widgets/controls",
            "_view_module_version": "1.5.0",
            "_view_name": "ProgressView",
            "bar_style": "success",
            "description": "",
            "description_tooltip": null,
            "layout": "IPY_MODEL_ab14506789774dcfa503cb9c530a8791",
            "max": 2000,
            "min": 0,
            "orientation": "horizontal",
            "style": "IPY_MODEL_e6bf1c0988024f6fac334e1ba8e6f67b",
            "value": 2000
          }
        },
        "4288fb360adc4bb89655280856b100fe": {
          "model_module": "@jupyter-widgets/base",
          "model_module_version": "1.2.0",
          "model_name": "LayoutModel",
          "state": {
            "_model_module": "@jupyter-widgets/base",
            "_model_module_version": "1.2.0",
            "_model_name": "LayoutModel",
            "_view_count": null,
            "_view_module": "@jupyter-widgets/base",
            "_view_module_version": "1.2.0",
            "_view_name": "LayoutView",
            "align_content": null,
            "align_items": null,
            "align_self": null,
            "border": null,
            "bottom": null,
            "display": null,
            "flex": null,
            "flex_flow": null,
            "grid_area": null,
            "grid_auto_columns": null,
            "grid_auto_flow": null,
            "grid_auto_rows": null,
            "grid_column": null,
            "grid_gap": null,
            "grid_row": null,
            "grid_template_areas": null,
            "grid_template_columns": null,
            "grid_template_rows": null,
            "height": null,
            "justify_content": null,
            "justify_items": null,
            "left": null,
            "margin": null,
            "max_height": null,
            "max_width": null,
            "min_height": null,
            "min_width": null,
            "object_fit": null,
            "object_position": null,
            "order": null,
            "overflow": null,
            "overflow_x": null,
            "overflow_y": null,
            "padding": null,
            "right": null,
            "top": null,
            "visibility": null,
            "width": null
          }
        },
        "4428bc406dd048cd8c6f015256e00f68": {
          "model_module": "@jupyter-widgets/controls",
          "model_module_version": "1.5.0",
          "model_name": "HTMLModel",
          "state": {
            "_dom_classes": [],
            "_model_module": "@jupyter-widgets/controls",
            "_model_module_version": "1.5.0",
            "_model_name": "HTMLModel",
            "_view_count": null,
            "_view_module": "@jupyter-widgets/controls",
            "_view_module_version": "1.5.0",
            "_view_name": "HTMLView",
            "description": "",
            "description_tooltip": null,
            "layout": "IPY_MODEL_0b2a84ce9be04e308375dc48eadeae0d",
            "placeholder": "​",
            "style": "IPY_MODEL_cdf06ac50ccc4287a2580e6e48ded2e5",
            "value": "tokenizer.json: 100%"
          }
        },
        "4515147dc98a4fe29e57206dfe82f956": {
          "model_module": "@jupyter-widgets/controls",
          "model_module_version": "1.5.0",
          "model_name": "FloatProgressModel",
          "state": {
            "_dom_classes": [],
            "_model_module": "@jupyter-widgets/controls",
            "_model_module_version": "1.5.0",
            "_model_name": "FloatProgressModel",
            "_view_count": null,
            "_view_module": "@jupyter-widgets/controls",
            "_view_module_version": "1.5.0",
            "_view_name": "ProgressView",
            "bar_style": "success",
            "description": "",
            "description_tooltip": null,
            "layout": "IPY_MODEL_9e1b0a0710d6449eb652c13c36a1b8fb",
            "max": 2200119864,
            "min": 0,
            "orientation": "horizontal",
            "style": "IPY_MODEL_62f6d46841774d60b4a39db765a2234a",
            "value": 2200119864
          }
        },
        "46667a7c7fd24d46b5c44ec41bf0ce18": {
          "model_module": "@jupyter-widgets/base",
          "model_module_version": "1.2.0",
          "model_name": "LayoutModel",
          "state": {
            "_model_module": "@jupyter-widgets/base",
            "_model_module_version": "1.2.0",
            "_model_name": "LayoutModel",
            "_view_count": null,
            "_view_module": "@jupyter-widgets/base",
            "_view_module_version": "1.2.0",
            "_view_name": "LayoutView",
            "align_content": null,
            "align_items": null,
            "align_self": null,
            "border": null,
            "bottom": null,
            "display": null,
            "flex": null,
            "flex_flow": null,
            "grid_area": null,
            "grid_auto_columns": null,
            "grid_auto_flow": null,
            "grid_auto_rows": null,
            "grid_column": null,
            "grid_gap": null,
            "grid_row": null,
            "grid_template_areas": null,
            "grid_template_columns": null,
            "grid_template_rows": null,
            "height": null,
            "justify_content": null,
            "justify_items": null,
            "left": null,
            "margin": null,
            "max_height": null,
            "max_width": null,
            "min_height": null,
            "min_width": null,
            "object_fit": null,
            "object_position": null,
            "order": null,
            "overflow": null,
            "overflow_x": null,
            "overflow_y": null,
            "padding": null,
            "right": null,
            "top": null,
            "visibility": null,
            "width": null
          }
        },
        "4748a3b9a85b4b1b98a5af09b71b0ec1": {
          "model_module": "@jupyter-widgets/base",
          "model_module_version": "1.2.0",
          "model_name": "LayoutModel",
          "state": {
            "_model_module": "@jupyter-widgets/base",
            "_model_module_version": "1.2.0",
            "_model_name": "LayoutModel",
            "_view_count": null,
            "_view_module": "@jupyter-widgets/base",
            "_view_module_version": "1.2.0",
            "_view_name": "LayoutView",
            "align_content": null,
            "align_items": null,
            "align_self": null,
            "border": null,
            "bottom": null,
            "display": null,
            "flex": null,
            "flex_flow": null,
            "grid_area": null,
            "grid_auto_columns": null,
            "grid_auto_flow": null,
            "grid_auto_rows": null,
            "grid_column": null,
            "grid_gap": null,
            "grid_row": null,
            "grid_template_areas": null,
            "grid_template_columns": null,
            "grid_template_rows": null,
            "height": null,
            "justify_content": null,
            "justify_items": null,
            "left": null,
            "margin": null,
            "max_height": null,
            "max_width": null,
            "min_height": null,
            "min_width": null,
            "object_fit": null,
            "object_position": null,
            "order": null,
            "overflow": null,
            "overflow_x": null,
            "overflow_y": null,
            "padding": null,
            "right": null,
            "top": null,
            "visibility": null,
            "width": null
          }
        },
        "481a4d4da8ef4f9db49706393fb79af0": {
          "model_module": "@jupyter-widgets/base",
          "model_module_version": "1.2.0",
          "model_name": "LayoutModel",
          "state": {
            "_model_module": "@jupyter-widgets/base",
            "_model_module_version": "1.2.0",
            "_model_name": "LayoutModel",
            "_view_count": null,
            "_view_module": "@jupyter-widgets/base",
            "_view_module_version": "1.2.0",
            "_view_name": "LayoutView",
            "align_content": null,
            "align_items": null,
            "align_self": null,
            "border": null,
            "bottom": null,
            "display": null,
            "flex": null,
            "flex_flow": null,
            "grid_area": null,
            "grid_auto_columns": null,
            "grid_auto_flow": null,
            "grid_auto_rows": null,
            "grid_column": null,
            "grid_gap": null,
            "grid_row": null,
            "grid_template_areas": null,
            "grid_template_columns": null,
            "grid_template_rows": null,
            "height": null,
            "justify_content": null,
            "justify_items": null,
            "left": null,
            "margin": null,
            "max_height": null,
            "max_width": null,
            "min_height": null,
            "min_width": null,
            "object_fit": null,
            "object_position": null,
            "order": null,
            "overflow": null,
            "overflow_x": null,
            "overflow_y": null,
            "padding": null,
            "right": null,
            "top": null,
            "visibility": null,
            "width": null
          }
        },
        "487eff1f474e4f5498489b05b72da1cd": {
          "model_module": "@jupyter-widgets/controls",
          "model_module_version": "1.5.0",
          "model_name": "DescriptionStyleModel",
          "state": {
            "_model_module": "@jupyter-widgets/controls",
            "_model_module_version": "1.5.0",
            "_model_name": "DescriptionStyleModel",
            "_view_count": null,
            "_view_module": "@jupyter-widgets/base",
            "_view_module_version": "1.2.0",
            "_view_name": "StyleView",
            "description_width": ""
          }
        },
        "487f5935ab4e4e79be46a66f2a23dda5": {
          "model_module": "@jupyter-widgets/controls",
          "model_module_version": "1.5.0",
          "model_name": "DescriptionStyleModel",
          "state": {
            "_model_module": "@jupyter-widgets/controls",
            "_model_module_version": "1.5.0",
            "_model_name": "DescriptionStyleModel",
            "_view_count": null,
            "_view_module": "@jupyter-widgets/base",
            "_view_module_version": "1.2.0",
            "_view_name": "StyleView",
            "description_width": ""
          }
        },
        "48fb280bf26144cdb313680c4490c070": {
          "model_module": "@jupyter-widgets/controls",
          "model_module_version": "1.5.0",
          "model_name": "DescriptionStyleModel",
          "state": {
            "_model_module": "@jupyter-widgets/controls",
            "_model_module_version": "1.5.0",
            "_model_name": "DescriptionStyleModel",
            "_view_count": null,
            "_view_module": "@jupyter-widgets/base",
            "_view_module_version": "1.2.0",
            "_view_name": "StyleView",
            "description_width": ""
          }
        },
        "4ad022bb0d134554ab42ad7e90adbdb9": {
          "model_module": "@jupyter-widgets/controls",
          "model_module_version": "1.5.0",
          "model_name": "ProgressStyleModel",
          "state": {
            "_model_module": "@jupyter-widgets/controls",
            "_model_module_version": "1.5.0",
            "_model_name": "ProgressStyleModel",
            "_view_count": null,
            "_view_module": "@jupyter-widgets/base",
            "_view_module_version": "1.2.0",
            "_view_name": "StyleView",
            "bar_color": null,
            "description_width": ""
          }
        },
        "4afd9a1fe1044b478d5e43605dd296f0": {
          "model_module": "@jupyter-widgets/controls",
          "model_module_version": "1.5.0",
          "model_name": "ProgressStyleModel",
          "state": {
            "_model_module": "@jupyter-widgets/controls",
            "_model_module_version": "1.5.0",
            "_model_name": "ProgressStyleModel",
            "_view_count": null,
            "_view_module": "@jupyter-widgets/base",
            "_view_module_version": "1.2.0",
            "_view_name": "StyleView",
            "bar_color": null,
            "description_width": ""
          }
        },
        "4dc7fd046b19456289ab9047be5ecbfb": {
          "model_module": "@jupyter-widgets/controls",
          "model_module_version": "1.5.0",
          "model_name": "HTMLModel",
          "state": {
            "_dom_classes": [],
            "_model_module": "@jupyter-widgets/controls",
            "_model_module_version": "1.5.0",
            "_model_name": "HTMLModel",
            "_view_count": null,
            "_view_module": "@jupyter-widgets/controls",
            "_view_module_version": "1.5.0",
            "_view_name": "HTMLView",
            "description": "",
            "description_tooltip": null,
            "layout": "IPY_MODEL_0ac1d40ed460404ab668a11a1b8f7cb5",
            "placeholder": "​",
            "style": "IPY_MODEL_259be0da4deb4bd09b484c717dfd886c",
            "value": "tokenizer_config.json: 100%"
          }
        },
        "4ef7e44ea77d4da796d43d867a2a8fad": {
          "model_module": "@jupyter-widgets/controls",
          "model_module_version": "1.5.0",
          "model_name": "DescriptionStyleModel",
          "state": {
            "_model_module": "@jupyter-widgets/controls",
            "_model_module_version": "1.5.0",
            "_model_name": "DescriptionStyleModel",
            "_view_count": null,
            "_view_module": "@jupyter-widgets/base",
            "_view_module_version": "1.2.0",
            "_view_name": "StyleView",
            "description_width": ""
          }
        },
        "4ef82d6b92bf45a4a6f13a236c0045db": {
          "model_module": "@jupyter-widgets/base",
          "model_module_version": "1.2.0",
          "model_name": "LayoutModel",
          "state": {
            "_model_module": "@jupyter-widgets/base",
            "_model_module_version": "1.2.0",
            "_model_name": "LayoutModel",
            "_view_count": null,
            "_view_module": "@jupyter-widgets/base",
            "_view_module_version": "1.2.0",
            "_view_name": "LayoutView",
            "align_content": null,
            "align_items": null,
            "align_self": null,
            "border": null,
            "bottom": null,
            "display": null,
            "flex": null,
            "flex_flow": null,
            "grid_area": null,
            "grid_auto_columns": null,
            "grid_auto_flow": null,
            "grid_auto_rows": null,
            "grid_column": null,
            "grid_gap": null,
            "grid_row": null,
            "grid_template_areas": null,
            "grid_template_columns": null,
            "grid_template_rows": null,
            "height": null,
            "justify_content": null,
            "justify_items": null,
            "left": null,
            "margin": null,
            "max_height": null,
            "max_width": null,
            "min_height": null,
            "min_width": null,
            "object_fit": null,
            "object_position": null,
            "order": null,
            "overflow": null,
            "overflow_x": null,
            "overflow_y": null,
            "padding": null,
            "right": null,
            "top": null,
            "visibility": null,
            "width": null
          }
        },
        "4f3b74555a294240b219875b715fc907": {
          "model_module": "@jupyter-widgets/controls",
          "model_module_version": "1.5.0",
          "model_name": "HTMLModel",
          "state": {
            "_dom_classes": [],
            "_model_module": "@jupyter-widgets/controls",
            "_model_module_version": "1.5.0",
            "_model_name": "HTMLModel",
            "_view_count": null,
            "_view_module": "@jupyter-widgets/controls",
            "_view_module_version": "1.5.0",
            "_view_name": "HTMLView",
            "description": "",
            "description_tooltip": null,
            "layout": "IPY_MODEL_f0741e11f7b7494f97a94eaff6cc253b",
            "placeholder": "​",
            "style": "IPY_MODEL_be45248c500b4a73a6fbc45279ddd75b",
            "value": " 752/752 [00:00&lt;00:00, 72.6kB/s]"
          }
        },
        "50dec2ccceee42708805bfd331d2ec11": {
          "model_module": "@jupyter-widgets/controls",
          "model_module_version": "1.5.0",
          "model_name": "DescriptionStyleModel",
          "state": {
            "_model_module": "@jupyter-widgets/controls",
            "_model_module_version": "1.5.0",
            "_model_name": "DescriptionStyleModel",
            "_view_count": null,
            "_view_module": "@jupyter-widgets/base",
            "_view_module_version": "1.2.0",
            "_view_name": "StyleView",
            "description_width": ""
          }
        },
        "52c8812660cc497f824cd775168a9531": {
          "model_module": "@jupyter-widgets/base",
          "model_module_version": "1.2.0",
          "model_name": "LayoutModel",
          "state": {
            "_model_module": "@jupyter-widgets/base",
            "_model_module_version": "1.2.0",
            "_model_name": "LayoutModel",
            "_view_count": null,
            "_view_module": "@jupyter-widgets/base",
            "_view_module_version": "1.2.0",
            "_view_name": "LayoutView",
            "align_content": null,
            "align_items": null,
            "align_self": null,
            "border": null,
            "bottom": null,
            "display": null,
            "flex": null,
            "flex_flow": null,
            "grid_area": null,
            "grid_auto_columns": null,
            "grid_auto_flow": null,
            "grid_auto_rows": null,
            "grid_column": null,
            "grid_gap": null,
            "grid_row": null,
            "grid_template_areas": null,
            "grid_template_columns": null,
            "grid_template_rows": null,
            "height": null,
            "justify_content": null,
            "justify_items": null,
            "left": null,
            "margin": null,
            "max_height": null,
            "max_width": null,
            "min_height": null,
            "min_width": null,
            "object_fit": null,
            "object_position": null,
            "order": null,
            "overflow": null,
            "overflow_x": null,
            "overflow_y": null,
            "padding": null,
            "right": null,
            "top": null,
            "visibility": null,
            "width": null
          }
        },
        "538c46eab2774225a00caafc72a6a3f1": {
          "model_module": "@jupyter-widgets/controls",
          "model_module_version": "1.5.0",
          "model_name": "ProgressStyleModel",
          "state": {
            "_model_module": "@jupyter-widgets/controls",
            "_model_module_version": "1.5.0",
            "_model_name": "ProgressStyleModel",
            "_view_count": null,
            "_view_module": "@jupyter-widgets/base",
            "_view_module_version": "1.2.0",
            "_view_name": "StyleView",
            "bar_color": null,
            "description_width": ""
          }
        },
        "554934e41976430b9dff262c0e7ec242": {
          "model_module": "@jupyter-widgets/controls",
          "model_module_version": "1.5.0",
          "model_name": "DescriptionStyleModel",
          "state": {
            "_model_module": "@jupyter-widgets/controls",
            "_model_module_version": "1.5.0",
            "_model_name": "DescriptionStyleModel",
            "_view_count": null,
            "_view_module": "@jupyter-widgets/base",
            "_view_module_version": "1.2.0",
            "_view_name": "StyleView",
            "description_width": ""
          }
        },
        "55adab384e494a30a3ebbfcc76b2d4ad": {
          "model_module": "@jupyter-widgets/controls",
          "model_module_version": "1.5.0",
          "model_name": "HBoxModel",
          "state": {
            "_dom_classes": [],
            "_model_module": "@jupyter-widgets/controls",
            "_model_module_version": "1.5.0",
            "_model_name": "HBoxModel",
            "_view_count": null,
            "_view_module": "@jupyter-widgets/controls",
            "_view_module_version": "1.5.0",
            "_view_name": "HBoxView",
            "box_style": "",
            "children": [
              "IPY_MODEL_b81fdaac67a1426db16015a4a35a2ca6",
              "IPY_MODEL_e6c921cab5e4491dbdb3932106cc6df7",
              "IPY_MODEL_7fcc71ebf2094af7ad91ee932f0349fe"
            ],
            "layout": "IPY_MODEL_091983d0f20b45dfaad85c30d8cb73f5"
          }
        },
        "576bc12bccac4943890f72789ab2a65c": {
          "model_module": "@jupyter-widgets/controls",
          "model_module_version": "1.5.0",
          "model_name": "FloatProgressModel",
          "state": {
            "_dom_classes": [],
            "_model_module": "@jupyter-widgets/controls",
            "_model_module_version": "1.5.0",
            "_model_name": "FloatProgressModel",
            "_view_count": null,
            "_view_module": "@jupyter-widgets/controls",
            "_view_module_version": "1.5.0",
            "_view_name": "ProgressView",
            "bar_style": "success",
            "description": "",
            "description_tooltip": null,
            "layout": "IPY_MODEL_4748a3b9a85b4b1b98a5af09b71b0ec1",
            "max": 752,
            "min": 0,
            "orientation": "horizontal",
            "style": "IPY_MODEL_e6b344a3f15346e5b39451eba9c51f9c",
            "value": 752
          }
        },
        "5a0611d472574c00b2c797ba85ec47d0": {
          "model_module": "@jupyter-widgets/controls",
          "model_module_version": "1.5.0",
          "model_name": "DescriptionStyleModel",
          "state": {
            "_model_module": "@jupyter-widgets/controls",
            "_model_module_version": "1.5.0",
            "_model_name": "DescriptionStyleModel",
            "_view_count": null,
            "_view_module": "@jupyter-widgets/base",
            "_view_module_version": "1.2.0",
            "_view_name": "StyleView",
            "description_width": ""
          }
        },
        "5a832a6cc1544b9bbac155ea7ff95fd1": {
          "model_module": "@jupyter-widgets/base",
          "model_module_version": "1.2.0",
          "model_name": "LayoutModel",
          "state": {
            "_model_module": "@jupyter-widgets/base",
            "_model_module_version": "1.2.0",
            "_model_name": "LayoutModel",
            "_view_count": null,
            "_view_module": "@jupyter-widgets/base",
            "_view_module_version": "1.2.0",
            "_view_name": "LayoutView",
            "align_content": null,
            "align_items": null,
            "align_self": null,
            "border": null,
            "bottom": null,
            "display": null,
            "flex": null,
            "flex_flow": null,
            "grid_area": null,
            "grid_auto_columns": null,
            "grid_auto_flow": null,
            "grid_auto_rows": null,
            "grid_column": null,
            "grid_gap": null,
            "grid_row": null,
            "grid_template_areas": null,
            "grid_template_columns": null,
            "grid_template_rows": null,
            "height": null,
            "justify_content": null,
            "justify_items": null,
            "left": null,
            "margin": null,
            "max_height": null,
            "max_width": null,
            "min_height": null,
            "min_width": null,
            "object_fit": null,
            "object_position": null,
            "order": null,
            "overflow": null,
            "overflow_x": null,
            "overflow_y": null,
            "padding": null,
            "right": null,
            "top": null,
            "visibility": null,
            "width": null
          }
        },
        "5ca14bb598614fb6bebb15b851a5fa07": {
          "model_module": "@jupyter-widgets/controls",
          "model_module_version": "1.5.0",
          "model_name": "HTMLModel",
          "state": {
            "_dom_classes": [],
            "_model_module": "@jupyter-widgets/controls",
            "_model_module_version": "1.5.0",
            "_model_name": "HTMLModel",
            "_view_count": null,
            "_view_module": "@jupyter-widgets/controls",
            "_view_module_version": "1.5.0",
            "_view_name": "HTMLView",
            "description": "",
            "description_tooltip": null,
            "layout": "IPY_MODEL_006a758f2804418d935ea64e3a9461e7",
            "placeholder": "​",
            "style": "IPY_MODEL_9ead7737afbf46bcb6596a7cda5436ca",
            "value": "100%"
          }
        },
        "5ee7822dd25d445e89ad0e4d62e05569": {
          "model_module": "@jupyter-widgets/controls",
          "model_module_version": "1.5.0",
          "model_name": "HTMLModel",
          "state": {
            "_dom_classes": [],
            "_model_module": "@jupyter-widgets/controls",
            "_model_module_version": "1.5.0",
            "_model_name": "HTMLModel",
            "_view_count": null,
            "_view_module": "@jupyter-widgets/controls",
            "_view_module_version": "1.5.0",
            "_view_name": "HTMLView",
            "description": "",
            "description_tooltip": null,
            "layout": "IPY_MODEL_d0693ecd7b3547d7aa3d9a82d3d9f3ce",
            "placeholder": "​",
            "style": "IPY_MODEL_1a5345d72f36445db9948c31ff9d9b89",
            "value": " 2000/2000 [01:10&lt;00:00, 31.12it/s]"
          }
        },
        "5f886556eda5490a97a714cb9245c3a8": {
          "model_module": "@jupyter-widgets/controls",
          "model_module_version": "1.5.0",
          "model_name": "DescriptionStyleModel",
          "state": {
            "_model_module": "@jupyter-widgets/controls",
            "_model_module_version": "1.5.0",
            "_model_name": "DescriptionStyleModel",
            "_view_count": null,
            "_view_module": "@jupyter-widgets/base",
            "_view_module_version": "1.2.0",
            "_view_name": "StyleView",
            "description_width": ""
          }
        },
        "628e099110864461bbccc5591c873811": {
          "model_module": "@jupyter-widgets/controls",
          "model_module_version": "1.5.0",
          "model_name": "HTMLModel",
          "state": {
            "_dom_classes": [],
            "_model_module": "@jupyter-widgets/controls",
            "_model_module_version": "1.5.0",
            "_model_name": "HTMLModel",
            "_view_count": null,
            "_view_module": "@jupyter-widgets/controls",
            "_view_module_version": "1.5.0",
            "_view_name": "HTMLView",
            "description": "",
            "description_tooltip": null,
            "layout": "IPY_MODEL_dc97bb833d664aaa8cf99faeb0cc0118",
            "placeholder": "​",
            "style": "IPY_MODEL_5f886556eda5490a97a714cb9245c3a8",
            "value": "model.safetensors: 100%"
          }
        },
        "62f6d46841774d60b4a39db765a2234a": {
          "model_module": "@jupyter-widgets/controls",
          "model_module_version": "1.5.0",
          "model_name": "ProgressStyleModel",
          "state": {
            "_model_module": "@jupyter-widgets/controls",
            "_model_module_version": "1.5.0",
            "_model_name": "ProgressStyleModel",
            "_view_count": null,
            "_view_module": "@jupyter-widgets/base",
            "_view_module_version": "1.2.0",
            "_view_name": "StyleView",
            "bar_color": null,
            "description_width": ""
          }
        },
        "6318a2b029f84375a71648033696739e": {
          "model_module": "@jupyter-widgets/base",
          "model_module_version": "1.2.0",
          "model_name": "LayoutModel",
          "state": {
            "_model_module": "@jupyter-widgets/base",
            "_model_module_version": "1.2.0",
            "_model_name": "LayoutModel",
            "_view_count": null,
            "_view_module": "@jupyter-widgets/base",
            "_view_module_version": "1.2.0",
            "_view_name": "LayoutView",
            "align_content": null,
            "align_items": null,
            "align_self": null,
            "border": null,
            "bottom": null,
            "display": null,
            "flex": null,
            "flex_flow": null,
            "grid_area": null,
            "grid_auto_columns": null,
            "grid_auto_flow": null,
            "grid_auto_rows": null,
            "grid_column": null,
            "grid_gap": null,
            "grid_row": null,
            "grid_template_areas": null,
            "grid_template_columns": null,
            "grid_template_rows": null,
            "height": null,
            "justify_content": null,
            "justify_items": null,
            "left": null,
            "margin": null,
            "max_height": null,
            "max_width": null,
            "min_height": null,
            "min_width": null,
            "object_fit": null,
            "object_position": null,
            "order": null,
            "overflow": null,
            "overflow_x": null,
            "overflow_y": null,
            "padding": null,
            "right": null,
            "top": null,
            "visibility": null,
            "width": null
          }
        },
        "661e5d3b272d4ad7b41da821c1936575": {
          "model_module": "@jupyter-widgets/base",
          "model_module_version": "1.2.0",
          "model_name": "LayoutModel",
          "state": {
            "_model_module": "@jupyter-widgets/base",
            "_model_module_version": "1.2.0",
            "_model_name": "LayoutModel",
            "_view_count": null,
            "_view_module": "@jupyter-widgets/base",
            "_view_module_version": "1.2.0",
            "_view_name": "LayoutView",
            "align_content": null,
            "align_items": null,
            "align_self": null,
            "border": null,
            "bottom": null,
            "display": null,
            "flex": null,
            "flex_flow": null,
            "grid_area": null,
            "grid_auto_columns": null,
            "grid_auto_flow": null,
            "grid_auto_rows": null,
            "grid_column": null,
            "grid_gap": null,
            "grid_row": null,
            "grid_template_areas": null,
            "grid_template_columns": null,
            "grid_template_rows": null,
            "height": null,
            "justify_content": null,
            "justify_items": null,
            "left": null,
            "margin": null,
            "max_height": null,
            "max_width": null,
            "min_height": null,
            "min_width": null,
            "object_fit": null,
            "object_position": null,
            "order": null,
            "overflow": null,
            "overflow_x": null,
            "overflow_y": null,
            "padding": null,
            "right": null,
            "top": null,
            "visibility": null,
            "width": null
          }
        },
        "68a171744451436e8fe0a7bf3464489e": {
          "model_module": "@jupyter-widgets/controls",
          "model_module_version": "1.5.0",
          "model_name": "HBoxModel",
          "state": {
            "_dom_classes": [],
            "_model_module": "@jupyter-widgets/controls",
            "_model_module_version": "1.5.0",
            "_model_name": "HBoxModel",
            "_view_count": null,
            "_view_module": "@jupyter-widgets/controls",
            "_view_module_version": "1.5.0",
            "_view_name": "HBoxView",
            "box_style": "",
            "children": [
              "IPY_MODEL_cfe8ad7b635b49cd8ee7cee51343b11f",
              "IPY_MODEL_fe940a50c8f44b7dac49b0c0d3683b58",
              "IPY_MODEL_8c30445d72b049189e0e4f51c8dbdfe3"
            ],
            "layout": "IPY_MODEL_b4121ffe39934dadbaa9a39108b6cd18"
          }
        },
        "69b4b0abbf7a4556aa84c288c90241d9": {
          "model_module": "@jupyter-widgets/controls",
          "model_module_version": "1.5.0",
          "model_name": "HTMLModel",
          "state": {
            "_dom_classes": [],
            "_model_module": "@jupyter-widgets/controls",
            "_model_module_version": "1.5.0",
            "_model_name": "HTMLModel",
            "_view_count": null,
            "_view_module": "@jupyter-widgets/controls",
            "_view_module_version": "1.5.0",
            "_view_name": "HTMLView",
            "description": "",
            "description_tooltip": null,
            "layout": "IPY_MODEL_5a832a6cc1544b9bbac155ea7ff95fd1",
            "placeholder": "​",
            "style": "IPY_MODEL_554934e41976430b9dff262c0e7ec242",
            "value": " 2.20G/2.20G [00:32&lt;00:00, 95.5MB/s]"
          }
        },
        "6cdfaa555d0e461184a617faecd4b493": {
          "model_module": "@jupyter-widgets/base",
          "model_module_version": "1.2.0",
          "model_name": "LayoutModel",
          "state": {
            "_model_module": "@jupyter-widgets/base",
            "_model_module_version": "1.2.0",
            "_model_name": "LayoutModel",
            "_view_count": null,
            "_view_module": "@jupyter-widgets/base",
            "_view_module_version": "1.2.0",
            "_view_name": "LayoutView",
            "align_content": null,
            "align_items": null,
            "align_self": null,
            "border": null,
            "bottom": null,
            "display": null,
            "flex": null,
            "flex_flow": null,
            "grid_area": null,
            "grid_auto_columns": null,
            "grid_auto_flow": null,
            "grid_auto_rows": null,
            "grid_column": null,
            "grid_gap": null,
            "grid_row": null,
            "grid_template_areas": null,
            "grid_template_columns": null,
            "grid_template_rows": null,
            "height": null,
            "justify_content": null,
            "justify_items": null,
            "left": null,
            "margin": null,
            "max_height": null,
            "max_width": null,
            "min_height": null,
            "min_width": null,
            "object_fit": null,
            "object_position": null,
            "order": null,
            "overflow": null,
            "overflow_x": null,
            "overflow_y": null,
            "padding": null,
            "right": null,
            "top": null,
            "visibility": null,
            "width": null
          }
        },
        "6d804f5f31a54c7b8559b2391a3bdb9f": {
          "model_module": "@jupyter-widgets/controls",
          "model_module_version": "1.5.0",
          "model_name": "ProgressStyleModel",
          "state": {
            "_model_module": "@jupyter-widgets/controls",
            "_model_module_version": "1.5.0",
            "_model_name": "ProgressStyleModel",
            "_view_count": null,
            "_view_module": "@jupyter-widgets/base",
            "_view_module_version": "1.2.0",
            "_view_name": "StyleView",
            "bar_color": null,
            "description_width": ""
          }
        },
        "6e15609e964e47a798a138b6d9df0091": {
          "model_module": "@jupyter-widgets/controls",
          "model_module_version": "1.5.0",
          "model_name": "HTMLModel",
          "state": {
            "_dom_classes": [],
            "_model_module": "@jupyter-widgets/controls",
            "_model_module_version": "1.5.0",
            "_model_name": "HTMLModel",
            "_view_count": null,
            "_view_module": "@jupyter-widgets/controls",
            "_view_module_version": "1.5.0",
            "_view_name": "HTMLView",
            "description": "",
            "description_tooltip": null,
            "layout": "IPY_MODEL_46667a7c7fd24d46b5c44ec41bf0ce18",
            "placeholder": "​",
            "style": "IPY_MODEL_d6710ed1fa6d41bc8796428875ad09a6",
            "value": "tokenizer_config.json: 100%"
          }
        },
        "6f17287919154f10aa0c92e1fecc5f98": {
          "model_module": "@jupyter-widgets/base",
          "model_module_version": "1.2.0",
          "model_name": "LayoutModel",
          "state": {
            "_model_module": "@jupyter-widgets/base",
            "_model_module_version": "1.2.0",
            "_model_name": "LayoutModel",
            "_view_count": null,
            "_view_module": "@jupyter-widgets/base",
            "_view_module_version": "1.2.0",
            "_view_name": "LayoutView",
            "align_content": null,
            "align_items": null,
            "align_self": null,
            "border": null,
            "bottom": null,
            "display": null,
            "flex": null,
            "flex_flow": null,
            "grid_area": null,
            "grid_auto_columns": null,
            "grid_auto_flow": null,
            "grid_auto_rows": null,
            "grid_column": null,
            "grid_gap": null,
            "grid_row": null,
            "grid_template_areas": null,
            "grid_template_columns": null,
            "grid_template_rows": null,
            "height": null,
            "justify_content": null,
            "justify_items": null,
            "left": null,
            "margin": null,
            "max_height": null,
            "max_width": null,
            "min_height": null,
            "min_width": null,
            "object_fit": null,
            "object_position": null,
            "order": null,
            "overflow": null,
            "overflow_x": null,
            "overflow_y": null,
            "padding": null,
            "right": null,
            "top": null,
            "visibility": null,
            "width": null
          }
        },
        "7a8e5166c3934a07ac3813dc893e1901": {
          "model_module": "@jupyter-widgets/base",
          "model_module_version": "1.2.0",
          "model_name": "LayoutModel",
          "state": {
            "_model_module": "@jupyter-widgets/base",
            "_model_module_version": "1.2.0",
            "_model_name": "LayoutModel",
            "_view_count": null,
            "_view_module": "@jupyter-widgets/base",
            "_view_module_version": "1.2.0",
            "_view_name": "LayoutView",
            "align_content": null,
            "align_items": null,
            "align_self": null,
            "border": null,
            "bottom": null,
            "display": null,
            "flex": null,
            "flex_flow": null,
            "grid_area": null,
            "grid_auto_columns": null,
            "grid_auto_flow": null,
            "grid_auto_rows": null,
            "grid_column": null,
            "grid_gap": null,
            "grid_row": null,
            "grid_template_areas": null,
            "grid_template_columns": null,
            "grid_template_rows": null,
            "height": null,
            "justify_content": null,
            "justify_items": null,
            "left": null,
            "margin": null,
            "max_height": null,
            "max_width": null,
            "min_height": null,
            "min_width": null,
            "object_fit": null,
            "object_position": null,
            "order": null,
            "overflow": null,
            "overflow_x": null,
            "overflow_y": null,
            "padding": null,
            "right": null,
            "top": null,
            "visibility": null,
            "width": null
          }
        },
        "7d5f73b96e4b4a81afefe915c34c2a1d": {
          "model_module": "@jupyter-widgets/controls",
          "model_module_version": "1.5.0",
          "model_name": "FloatProgressModel",
          "state": {
            "_dom_classes": [],
            "_model_module": "@jupyter-widgets/controls",
            "_model_module_version": "1.5.0",
            "_model_name": "FloatProgressModel",
            "_view_count": null,
            "_view_module": "@jupyter-widgets/controls",
            "_view_module_version": "1.5.0",
            "_view_name": "ProgressView",
            "bar_style": "success",
            "description": "",
            "description_tooltip": null,
            "layout": "IPY_MODEL_fff6ff7af31343048332ca9686ee6ce7",
            "max": 499723,
            "min": 0,
            "orientation": "horizontal",
            "style": "IPY_MODEL_2cdd1046341144139b1a17bb09278022",
            "value": 499723
          }
        },
        "7d768eb49bb245e4b300d90a6d356540": {
          "model_module": "@jupyter-widgets/base",
          "model_module_version": "1.2.0",
          "model_name": "LayoutModel",
          "state": {
            "_model_module": "@jupyter-widgets/base",
            "_model_module_version": "1.2.0",
            "_model_name": "LayoutModel",
            "_view_count": null,
            "_view_module": "@jupyter-widgets/base",
            "_view_module_version": "1.2.0",
            "_view_name": "LayoutView",
            "align_content": null,
            "align_items": null,
            "align_self": null,
            "border": null,
            "bottom": null,
            "display": null,
            "flex": null,
            "flex_flow": null,
            "grid_area": null,
            "grid_auto_columns": null,
            "grid_auto_flow": null,
            "grid_auto_rows": null,
            "grid_column": null,
            "grid_gap": null,
            "grid_row": null,
            "grid_template_areas": null,
            "grid_template_columns": null,
            "grid_template_rows": null,
            "height": null,
            "justify_content": null,
            "justify_items": null,
            "left": null,
            "margin": null,
            "max_height": null,
            "max_width": null,
            "min_height": null,
            "min_width": null,
            "object_fit": null,
            "object_position": null,
            "order": null,
            "overflow": null,
            "overflow_x": null,
            "overflow_y": null,
            "padding": null,
            "right": null,
            "top": null,
            "visibility": null,
            "width": null
          }
        },
        "7fcc71ebf2094af7ad91ee932f0349fe": {
          "model_module": "@jupyter-widgets/controls",
          "model_module_version": "1.5.0",
          "model_name": "HTMLModel",
          "state": {
            "_dom_classes": [],
            "_model_module": "@jupyter-widgets/controls",
            "_model_module_version": "1.5.0",
            "_model_name": "HTMLModel",
            "_view_count": null,
            "_view_module": "@jupyter-widgets/controls",
            "_view_module_version": "1.5.0",
            "_view_name": "HTMLView",
            "description": "",
            "description_tooltip": null,
            "layout": "IPY_MODEL_96755b859a1e493ea7d7d7000919384f",
            "placeholder": "​",
            "style": "IPY_MODEL_4ef7e44ea77d4da796d43d867a2a8fad",
            "value": " 72.0/72.0 [00:00&lt;00:00, 7.85kB/s]"
          }
        },
        "82cc9d7a12024049af6c02253040bbe2": {
          "model_module": "@jupyter-widgets/controls",
          "model_module_version": "1.5.0",
          "model_name": "ProgressStyleModel",
          "state": {
            "_model_module": "@jupyter-widgets/controls",
            "_model_module_version": "1.5.0",
            "_model_name": "ProgressStyleModel",
            "_view_count": null,
            "_view_module": "@jupyter-widgets/base",
            "_view_module_version": "1.2.0",
            "_view_name": "StyleView",
            "bar_color": null,
            "description_width": ""
          }
        },
        "882dbe23ca64439b8174022c68b2d4f3": {
          "model_module": "@jupyter-widgets/controls",
          "model_module_version": "1.5.0",
          "model_name": "HBoxModel",
          "state": {
            "_dom_classes": [],
            "_model_module": "@jupyter-widgets/controls",
            "_model_module_version": "1.5.0",
            "_model_name": "HBoxModel",
            "_view_count": null,
            "_view_module": "@jupyter-widgets/controls",
            "_view_module_version": "1.5.0",
            "_view_name": "HBoxView",
            "box_style": "",
            "children": [
              "IPY_MODEL_daed74ea089d4fe7b27136e378f03a60",
              "IPY_MODEL_97a28a8623c54ec09e2fb7c4dcdd6aca",
              "IPY_MODEL_34dfeed727414965b1704a54bb433a06"
            ],
            "layout": "IPY_MODEL_c5c12d250b64499a8bce59d522d16be5"
          }
        },
        "88a3bd9c899d4033a8ab081d2ce2c57e": {
          "model_module": "@jupyter-widgets/controls",
          "model_module_version": "1.5.0",
          "model_name": "HTMLModel",
          "state": {
            "_dom_classes": [],
            "_model_module": "@jupyter-widgets/controls",
            "_model_module_version": "1.5.0",
            "_model_name": "HTMLModel",
            "_view_count": null,
            "_view_module": "@jupyter-widgets/controls",
            "_view_module_version": "1.5.0",
            "_view_name": "HTMLView",
            "description": "",
            "description_tooltip": null,
            "layout": "IPY_MODEL_6318a2b029f84375a71648033696739e",
            "placeholder": "​",
            "style": "IPY_MODEL_487f5935ab4e4e79be46a66f2a23dda5",
            "value": " 437/437 [00:00&lt;00:00, 49.6kB/s]"
          }
        },
        "8bda08c3ef0b4983a9b78497767a5487": {
          "model_module": "@jupyter-widgets/base",
          "model_module_version": "1.2.0",
          "model_name": "LayoutModel",
          "state": {
            "_model_module": "@jupyter-widgets/base",
            "_model_module_version": "1.2.0",
            "_model_name": "LayoutModel",
            "_view_count": null,
            "_view_module": "@jupyter-widgets/base",
            "_view_module_version": "1.2.0",
            "_view_name": "LayoutView",
            "align_content": null,
            "align_items": null,
            "align_self": null,
            "border": null,
            "bottom": null,
            "display": null,
            "flex": null,
            "flex_flow": null,
            "grid_area": null,
            "grid_auto_columns": null,
            "grid_auto_flow": null,
            "grid_auto_rows": null,
            "grid_column": null,
            "grid_gap": null,
            "grid_row": null,
            "grid_template_areas": null,
            "grid_template_columns": null,
            "grid_template_rows": null,
            "height": null,
            "justify_content": null,
            "justify_items": null,
            "left": null,
            "margin": null,
            "max_height": null,
            "max_width": null,
            "min_height": null,
            "min_width": null,
            "object_fit": null,
            "object_position": null,
            "order": null,
            "overflow": null,
            "overflow_x": null,
            "overflow_y": null,
            "padding": null,
            "right": null,
            "top": null,
            "visibility": null,
            "width": null
          }
        },
        "8c30445d72b049189e0e4f51c8dbdfe3": {
          "model_module": "@jupyter-widgets/controls",
          "model_module_version": "1.5.0",
          "model_name": "HTMLModel",
          "state": {
            "_dom_classes": [],
            "_model_module": "@jupyter-widgets/controls",
            "_model_module_version": "1.5.0",
            "_model_name": "HTMLModel",
            "_view_count": null,
            "_view_module": "@jupyter-widgets/controls",
            "_view_module_version": "1.5.0",
            "_view_name": "HTMLView",
            "description": "",
            "description_tooltip": null,
            "layout": "IPY_MODEL_3558c48afe624b43a983cba2e400bd50",
            "placeholder": "​",
            "style": "IPY_MODEL_e5b4ada993434cabbf688ab433d4c9a2",
            "value": " 124/124 [00:00&lt;00:00, 14.8kB/s]"
          }
        },
        "8e48a081b7a84f9f8dc52e277a763528": {
          "model_module": "@jupyter-widgets/controls",
          "model_module_version": "1.5.0",
          "model_name": "HBoxModel",
          "state": {
            "_dom_classes": [],
            "_model_module": "@jupyter-widgets/controls",
            "_model_module_version": "1.5.0",
            "_model_name": "HBoxModel",
            "_view_count": null,
            "_view_module": "@jupyter-widgets/controls",
            "_view_module_version": "1.5.0",
            "_view_name": "HBoxView",
            "box_style": "",
            "children": [
              "IPY_MODEL_4dc7fd046b19456289ab9047be5ecbfb",
              "IPY_MODEL_1bc77087b6ad4b21a260fdb7df54f542",
              "IPY_MODEL_b6579a2c034241128592363db320e4d1"
            ],
            "layout": "IPY_MODEL_a69b9e50668242ffbda9e75ade1ae931"
          }
        },
        "940ebdc11c974e1386e605bf6f41a5a0": {
          "model_module": "@jupyter-widgets/base",
          "model_module_version": "1.2.0",
          "model_name": "LayoutModel",
          "state": {
            "_model_module": "@jupyter-widgets/base",
            "_model_module_version": "1.2.0",
            "_model_name": "LayoutModel",
            "_view_count": null,
            "_view_module": "@jupyter-widgets/base",
            "_view_module_version": "1.2.0",
            "_view_name": "LayoutView",
            "align_content": null,
            "align_items": null,
            "align_self": null,
            "border": null,
            "bottom": null,
            "display": null,
            "flex": null,
            "flex_flow": null,
            "grid_area": null,
            "grid_auto_columns": null,
            "grid_auto_flow": null,
            "grid_auto_rows": null,
            "grid_column": null,
            "grid_gap": null,
            "grid_row": null,
            "grid_template_areas": null,
            "grid_template_columns": null,
            "grid_template_rows": null,
            "height": null,
            "justify_content": null,
            "justify_items": null,
            "left": null,
            "margin": null,
            "max_height": null,
            "max_width": null,
            "min_height": null,
            "min_width": null,
            "object_fit": null,
            "object_position": null,
            "order": null,
            "overflow": null,
            "overflow_x": null,
            "overflow_y": null,
            "padding": null,
            "right": null,
            "top": null,
            "visibility": null,
            "width": null
          }
        },
        "940f3fcb956e44428fa83265f6d0de93": {
          "model_module": "@jupyter-widgets/base",
          "model_module_version": "1.2.0",
          "model_name": "LayoutModel",
          "state": {
            "_model_module": "@jupyter-widgets/base",
            "_model_module_version": "1.2.0",
            "_model_name": "LayoutModel",
            "_view_count": null,
            "_view_module": "@jupyter-widgets/base",
            "_view_module_version": "1.2.0",
            "_view_name": "LayoutView",
            "align_content": null,
            "align_items": null,
            "align_self": null,
            "border": null,
            "bottom": null,
            "display": null,
            "flex": null,
            "flex_flow": null,
            "grid_area": null,
            "grid_auto_columns": null,
            "grid_auto_flow": null,
            "grid_auto_rows": null,
            "grid_column": null,
            "grid_gap": null,
            "grid_row": null,
            "grid_template_areas": null,
            "grid_template_columns": null,
            "grid_template_rows": null,
            "height": null,
            "justify_content": null,
            "justify_items": null,
            "left": null,
            "margin": null,
            "max_height": null,
            "max_width": null,
            "min_height": null,
            "min_width": null,
            "object_fit": null,
            "object_position": null,
            "order": null,
            "overflow": null,
            "overflow_x": null,
            "overflow_y": null,
            "padding": null,
            "right": null,
            "top": null,
            "visibility": null,
            "width": null
          }
        },
        "96755b859a1e493ea7d7d7000919384f": {
          "model_module": "@jupyter-widgets/base",
          "model_module_version": "1.2.0",
          "model_name": "LayoutModel",
          "state": {
            "_model_module": "@jupyter-widgets/base",
            "_model_module_version": "1.2.0",
            "_model_name": "LayoutModel",
            "_view_count": null,
            "_view_module": "@jupyter-widgets/base",
            "_view_module_version": "1.2.0",
            "_view_name": "LayoutView",
            "align_content": null,
            "align_items": null,
            "align_self": null,
            "border": null,
            "bottom": null,
            "display": null,
            "flex": null,
            "flex_flow": null,
            "grid_area": null,
            "grid_auto_columns": null,
            "grid_auto_flow": null,
            "grid_auto_rows": null,
            "grid_column": null,
            "grid_gap": null,
            "grid_row": null,
            "grid_template_areas": null,
            "grid_template_columns": null,
            "grid_template_rows": null,
            "height": null,
            "justify_content": null,
            "justify_items": null,
            "left": null,
            "margin": null,
            "max_height": null,
            "max_width": null,
            "min_height": null,
            "min_width": null,
            "object_fit": null,
            "object_position": null,
            "order": null,
            "overflow": null,
            "overflow_x": null,
            "overflow_y": null,
            "padding": null,
            "right": null,
            "top": null,
            "visibility": null,
            "width": null
          }
        },
        "9679c88f457b437c95443aebcb6cf445": {
          "model_module": "@jupyter-widgets/base",
          "model_module_version": "1.2.0",
          "model_name": "LayoutModel",
          "state": {
            "_model_module": "@jupyter-widgets/base",
            "_model_module_version": "1.2.0",
            "_model_name": "LayoutModel",
            "_view_count": null,
            "_view_module": "@jupyter-widgets/base",
            "_view_module_version": "1.2.0",
            "_view_name": "LayoutView",
            "align_content": null,
            "align_items": null,
            "align_self": null,
            "border": null,
            "bottom": null,
            "display": null,
            "flex": null,
            "flex_flow": null,
            "grid_area": null,
            "grid_auto_columns": null,
            "grid_auto_flow": null,
            "grid_auto_rows": null,
            "grid_column": null,
            "grid_gap": null,
            "grid_row": null,
            "grid_template_areas": null,
            "grid_template_columns": null,
            "grid_template_rows": null,
            "height": null,
            "justify_content": null,
            "justify_items": null,
            "left": null,
            "margin": null,
            "max_height": null,
            "max_width": null,
            "min_height": null,
            "min_width": null,
            "object_fit": null,
            "object_position": null,
            "order": null,
            "overflow": null,
            "overflow_x": null,
            "overflow_y": null,
            "padding": null,
            "right": null,
            "top": null,
            "visibility": null,
            "width": null
          }
        },
        "968a8ef460b7467481c20f1e1563c430": {
          "model_module": "@jupyter-widgets/base",
          "model_module_version": "1.2.0",
          "model_name": "LayoutModel",
          "state": {
            "_model_module": "@jupyter-widgets/base",
            "_model_module_version": "1.2.0",
            "_model_name": "LayoutModel",
            "_view_count": null,
            "_view_module": "@jupyter-widgets/base",
            "_view_module_version": "1.2.0",
            "_view_name": "LayoutView",
            "align_content": null,
            "align_items": null,
            "align_self": null,
            "border": null,
            "bottom": null,
            "display": null,
            "flex": null,
            "flex_flow": null,
            "grid_area": null,
            "grid_auto_columns": null,
            "grid_auto_flow": null,
            "grid_auto_rows": null,
            "grid_column": null,
            "grid_gap": null,
            "grid_row": null,
            "grid_template_areas": null,
            "grid_template_columns": null,
            "grid_template_rows": null,
            "height": null,
            "justify_content": null,
            "justify_items": null,
            "left": null,
            "margin": null,
            "max_height": null,
            "max_width": null,
            "min_height": null,
            "min_width": null,
            "object_fit": null,
            "object_position": null,
            "order": null,
            "overflow": null,
            "overflow_x": null,
            "overflow_y": null,
            "padding": null,
            "right": null,
            "top": null,
            "visibility": null,
            "width": null
          }
        },
        "9756dbc401c04656b4a6456e4c15dfe5": {
          "model_module": "@jupyter-widgets/controls",
          "model_module_version": "1.5.0",
          "model_name": "HBoxModel",
          "state": {
            "_dom_classes": [],
            "_model_module": "@jupyter-widgets/controls",
            "_model_module_version": "1.5.0",
            "_model_name": "HBoxModel",
            "_view_count": null,
            "_view_module": "@jupyter-widgets/controls",
            "_view_module_version": "1.5.0",
            "_view_name": "HBoxView",
            "box_style": "",
            "children": [
              "IPY_MODEL_628e099110864461bbccc5591c873811",
              "IPY_MODEL_4515147dc98a4fe29e57206dfe82f956",
              "IPY_MODEL_69b4b0abbf7a4556aa84c288c90241d9"
            ],
            "layout": "IPY_MODEL_2e75fd43b3c34fb7a8053bdceb4328ad"
          }
        },
        "9761cd946b0a44cb948a52da09bcdda2": {
          "model_module": "@jupyter-widgets/controls",
          "model_module_version": "1.5.0",
          "model_name": "HBoxModel",
          "state": {
            "_dom_classes": [],
            "_model_module": "@jupyter-widgets/controls",
            "_model_module_version": "1.5.0",
            "_model_name": "HBoxModel",
            "_view_count": null,
            "_view_module": "@jupyter-widgets/controls",
            "_view_module_version": "1.5.0",
            "_view_name": "HBoxView",
            "box_style": "",
            "children": [
              "IPY_MODEL_4428bc406dd048cd8c6f015256e00f68",
              "IPY_MODEL_f554932a1edc43f69645c7c663ee13b1",
              "IPY_MODEL_a151c48d1d724411b28e57f0491c744b"
            ],
            "layout": "IPY_MODEL_52c8812660cc497f824cd775168a9531"
          }
        },
        "97a28a8623c54ec09e2fb7c4dcdd6aca": {
          "model_module": "@jupyter-widgets/controls",
          "model_module_version": "1.5.0",
          "model_name": "FloatProgressModel",
          "state": {
            "_dom_classes": [],
            "_model_module": "@jupyter-widgets/controls",
            "_model_module_version": "1.5.0",
            "_model_name": "FloatProgressModel",
            "_view_count": null,
            "_view_module": "@jupyter-widgets/controls",
            "_view_module_version": "1.5.0",
            "_view_name": "ProgressView",
            "bar_style": "success",
            "description": "",
            "description_tooltip": null,
            "layout": "IPY_MODEL_18dd94b88d9b44e292183761cbcc9413",
            "max": 10,
            "min": 0,
            "orientation": "horizontal",
            "style": "IPY_MODEL_4ad022bb0d134554ab42ad7e90adbdb9",
            "value": 10
          }
        },
        "99e4e48f664b40d783e190088b2edd5e": {
          "model_module": "@jupyter-widgets/controls",
          "model_module_version": "1.5.0",
          "model_name": "HTMLModel",
          "state": {
            "_dom_classes": [],
            "_model_module": "@jupyter-widgets/controls",
            "_model_module_version": "1.5.0",
            "_model_name": "HTMLModel",
            "_view_count": null,
            "_view_module": "@jupyter-widgets/controls",
            "_view_module_version": "1.5.0",
            "_view_name": "HTMLView",
            "description": "",
            "description_tooltip": null,
            "layout": "IPY_MODEL_d5f2cd4a629f4546adef625571baefe2",
            "placeholder": "​",
            "style": "IPY_MODEL_487eff1f474e4f5498489b05b72da1cd",
            "value": "tokenizer.model: 100%"
          }
        },
        "9e1b0a0710d6449eb652c13c36a1b8fb": {
          "model_module": "@jupyter-widgets/base",
          "model_module_version": "1.2.0",
          "model_name": "LayoutModel",
          "state": {
            "_model_module": "@jupyter-widgets/base",
            "_model_module_version": "1.2.0",
            "_model_name": "LayoutModel",
            "_view_count": null,
            "_view_module": "@jupyter-widgets/base",
            "_view_module_version": "1.2.0",
            "_view_name": "LayoutView",
            "align_content": null,
            "align_items": null,
            "align_self": null,
            "border": null,
            "bottom": null,
            "display": null,
            "flex": null,
            "flex_flow": null,
            "grid_area": null,
            "grid_auto_columns": null,
            "grid_auto_flow": null,
            "grid_auto_rows": null,
            "grid_column": null,
            "grid_gap": null,
            "grid_row": null,
            "grid_template_areas": null,
            "grid_template_columns": null,
            "grid_template_rows": null,
            "height": null,
            "justify_content": null,
            "justify_items": null,
            "left": null,
            "margin": null,
            "max_height": null,
            "max_width": null,
            "min_height": null,
            "min_width": null,
            "object_fit": null,
            "object_position": null,
            "order": null,
            "overflow": null,
            "overflow_x": null,
            "overflow_y": null,
            "padding": null,
            "right": null,
            "top": null,
            "visibility": null,
            "width": null
          }
        },
        "9ead7737afbf46bcb6596a7cda5436ca": {
          "model_module": "@jupyter-widgets/controls",
          "model_module_version": "1.5.0",
          "model_name": "DescriptionStyleModel",
          "state": {
            "_model_module": "@jupyter-widgets/controls",
            "_model_module_version": "1.5.0",
            "_model_name": "DescriptionStyleModel",
            "_view_count": null,
            "_view_module": "@jupyter-widgets/base",
            "_view_module_version": "1.2.0",
            "_view_name": "StyleView",
            "description_width": ""
          }
        },
        "a108e5278e8b4ddf90ee813263e06230": {
          "model_module": "@jupyter-widgets/controls",
          "model_module_version": "1.5.0",
          "model_name": "DescriptionStyleModel",
          "state": {
            "_model_module": "@jupyter-widgets/controls",
            "_model_module_version": "1.5.0",
            "_model_name": "DescriptionStyleModel",
            "_view_count": null,
            "_view_module": "@jupyter-widgets/base",
            "_view_module_version": "1.2.0",
            "_view_name": "StyleView",
            "description_width": ""
          }
        },
        "a151c48d1d724411b28e57f0491c744b": {
          "model_module": "@jupyter-widgets/controls",
          "model_module_version": "1.5.0",
          "model_name": "HTMLModel",
          "state": {
            "_dom_classes": [],
            "_model_module": "@jupyter-widgets/controls",
            "_model_module_version": "1.5.0",
            "_model_name": "HTMLModel",
            "_view_count": null,
            "_view_module": "@jupyter-widgets/controls",
            "_view_module_version": "1.5.0",
            "_view_name": "HTMLView",
            "description": "",
            "description_tooltip": null,
            "layout": "IPY_MODEL_c13268fe59fd420d9359a570b571a0f3",
            "placeholder": "​",
            "style": "IPY_MODEL_fd273516065b40eb8dc7b1aae942c7df",
            "value": " 2.34M/2.34M [00:00&lt;00:00, 7.99MB/s]"
          }
        },
        "a697991da0cb4f9381504ee8bd102e84": {
          "model_module": "@jupyter-widgets/controls",
          "model_module_version": "1.5.0",
          "model_name": "HTMLModel",
          "state": {
            "_dom_classes": [],
            "_model_module": "@jupyter-widgets/controls",
            "_model_module_version": "1.5.0",
            "_model_name": "HTMLModel",
            "_view_count": null,
            "_view_module": "@jupyter-widgets/controls",
            "_view_module_version": "1.5.0",
            "_view_name": "HTMLView",
            "description": "",
            "description_tooltip": null,
            "layout": "IPY_MODEL_481a4d4da8ef4f9db49706393fb79af0",
            "placeholder": "​",
            "style": "IPY_MODEL_5a0611d472574c00b2c797ba85ec47d0",
            "value": "tokenizer.json: 100%"
          }
        },
        "a69b9e50668242ffbda9e75ade1ae931": {
          "model_module": "@jupyter-widgets/base",
          "model_module_version": "1.2.0",
          "model_name": "LayoutModel",
          "state": {
            "_model_module": "@jupyter-widgets/base",
            "_model_module_version": "1.2.0",
            "_model_name": "LayoutModel",
            "_view_count": null,
            "_view_module": "@jupyter-widgets/base",
            "_view_module_version": "1.2.0",
            "_view_name": "LayoutView",
            "align_content": null,
            "align_items": null,
            "align_self": null,
            "border": null,
            "bottom": null,
            "display": null,
            "flex": null,
            "flex_flow": null,
            "grid_area": null,
            "grid_auto_columns": null,
            "grid_auto_flow": null,
            "grid_auto_rows": null,
            "grid_column": null,
            "grid_gap": null,
            "grid_row": null,
            "grid_template_areas": null,
            "grid_template_columns": null,
            "grid_template_rows": null,
            "height": null,
            "justify_content": null,
            "justify_items": null,
            "left": null,
            "margin": null,
            "max_height": null,
            "max_width": null,
            "min_height": null,
            "min_width": null,
            "object_fit": null,
            "object_position": null,
            "order": null,
            "overflow": null,
            "overflow_x": null,
            "overflow_y": null,
            "padding": null,
            "right": null,
            "top": null,
            "visibility": null,
            "width": null
          }
        },
        "a8fab83622a34397b4f1a21d3a330b2a": {
          "model_module": "@jupyter-widgets/base",
          "model_module_version": "1.2.0",
          "model_name": "LayoutModel",
          "state": {
            "_model_module": "@jupyter-widgets/base",
            "_model_module_version": "1.2.0",
            "_model_name": "LayoutModel",
            "_view_count": null,
            "_view_module": "@jupyter-widgets/base",
            "_view_module_version": "1.2.0",
            "_view_name": "LayoutView",
            "align_content": null,
            "align_items": null,
            "align_self": null,
            "border": null,
            "bottom": null,
            "display": null,
            "flex": null,
            "flex_flow": null,
            "grid_area": null,
            "grid_auto_columns": null,
            "grid_auto_flow": null,
            "grid_auto_rows": null,
            "grid_column": null,
            "grid_gap": null,
            "grid_row": null,
            "grid_template_areas": null,
            "grid_template_columns": null,
            "grid_template_rows": null,
            "height": null,
            "justify_content": null,
            "justify_items": null,
            "left": null,
            "margin": null,
            "max_height": null,
            "max_width": null,
            "min_height": null,
            "min_width": null,
            "object_fit": null,
            "object_position": null,
            "order": null,
            "overflow": null,
            "overflow_x": null,
            "overflow_y": null,
            "padding": null,
            "right": null,
            "top": null,
            "visibility": null,
            "width": null
          }
        },
        "a96e2e22a3204cf7977d409fa4b42ec4": {
          "model_module": "@jupyter-widgets/controls",
          "model_module_version": "1.5.0",
          "model_name": "DescriptionStyleModel",
          "state": {
            "_model_module": "@jupyter-widgets/controls",
            "_model_module_version": "1.5.0",
            "_model_name": "DescriptionStyleModel",
            "_view_count": null,
            "_view_module": "@jupyter-widgets/base",
            "_view_module_version": "1.2.0",
            "_view_name": "StyleView",
            "description_width": ""
          }
        },
        "ab14506789774dcfa503cb9c530a8791": {
          "model_module": "@jupyter-widgets/base",
          "model_module_version": "1.2.0",
          "model_name": "LayoutModel",
          "state": {
            "_model_module": "@jupyter-widgets/base",
            "_model_module_version": "1.2.0",
            "_model_name": "LayoutModel",
            "_view_count": null,
            "_view_module": "@jupyter-widgets/base",
            "_view_module_version": "1.2.0",
            "_view_name": "LayoutView",
            "align_content": null,
            "align_items": null,
            "align_self": null,
            "border": null,
            "bottom": null,
            "display": null,
            "flex": null,
            "flex_flow": null,
            "grid_area": null,
            "grid_auto_columns": null,
            "grid_auto_flow": null,
            "grid_auto_rows": null,
            "grid_column": null,
            "grid_gap": null,
            "grid_row": null,
            "grid_template_areas": null,
            "grid_template_columns": null,
            "grid_template_rows": null,
            "height": null,
            "justify_content": null,
            "justify_items": null,
            "left": null,
            "margin": null,
            "max_height": null,
            "max_width": null,
            "min_height": null,
            "min_width": null,
            "object_fit": null,
            "object_position": null,
            "order": null,
            "overflow": null,
            "overflow_x": null,
            "overflow_y": null,
            "padding": null,
            "right": null,
            "top": null,
            "visibility": null,
            "width": null
          }
        },
        "ac4873c1c3694c88979b737f1a5ad92b": {
          "model_module": "@jupyter-widgets/controls",
          "model_module_version": "1.5.0",
          "model_name": "FloatProgressModel",
          "state": {
            "_dom_classes": [],
            "_model_module": "@jupyter-widgets/controls",
            "_model_module_version": "1.5.0",
            "_model_name": "FloatProgressModel",
            "_view_count": null,
            "_view_module": "@jupyter-widgets/controls",
            "_view_module_version": "1.5.0",
            "_view_name": "ProgressView",
            "bar_style": "success",
            "description": "",
            "description_tooltip": null,
            "layout": "IPY_MODEL_4288fb360adc4bb89655280856b100fe",
            "max": 437,
            "min": 0,
            "orientation": "horizontal",
            "style": "IPY_MODEL_6d804f5f31a54c7b8559b2391a3bdb9f",
            "value": 437
          }
        },
        "b4121ffe39934dadbaa9a39108b6cd18": {
          "model_module": "@jupyter-widgets/base",
          "model_module_version": "1.2.0",
          "model_name": "LayoutModel",
          "state": {
            "_model_module": "@jupyter-widgets/base",
            "_model_module_version": "1.2.0",
            "_model_name": "LayoutModel",
            "_view_count": null,
            "_view_module": "@jupyter-widgets/base",
            "_view_module_version": "1.2.0",
            "_view_name": "LayoutView",
            "align_content": null,
            "align_items": null,
            "align_self": null,
            "border": null,
            "bottom": null,
            "display": null,
            "flex": null,
            "flex_flow": null,
            "grid_area": null,
            "grid_auto_columns": null,
            "grid_auto_flow": null,
            "grid_auto_rows": null,
            "grid_column": null,
            "grid_gap": null,
            "grid_row": null,
            "grid_template_areas": null,
            "grid_template_columns": null,
            "grid_template_rows": null,
            "height": null,
            "justify_content": null,
            "justify_items": null,
            "left": null,
            "margin": null,
            "max_height": null,
            "max_width": null,
            "min_height": null,
            "min_width": null,
            "object_fit": null,
            "object_position": null,
            "order": null,
            "overflow": null,
            "overflow_x": null,
            "overflow_y": null,
            "padding": null,
            "right": null,
            "top": null,
            "visibility": null,
            "width": null
          }
        },
        "b412bc5f0fe94a378ac76b922d902f07": {
          "model_module": "@jupyter-widgets/controls",
          "model_module_version": "1.5.0",
          "model_name": "ProgressStyleModel",
          "state": {
            "_model_module": "@jupyter-widgets/controls",
            "_model_module_version": "1.5.0",
            "_model_name": "ProgressStyleModel",
            "_view_count": null,
            "_view_module": "@jupyter-widgets/base",
            "_view_module_version": "1.2.0",
            "_view_name": "StyleView",
            "bar_color": null,
            "description_width": ""
          }
        },
        "b6579a2c034241128592363db320e4d1": {
          "model_module": "@jupyter-widgets/controls",
          "model_module_version": "1.5.0",
          "model_name": "HTMLModel",
          "state": {
            "_dom_classes": [],
            "_model_module": "@jupyter-widgets/controls",
            "_model_module_version": "1.5.0",
            "_model_name": "HTMLModel",
            "_view_count": null,
            "_view_module": "@jupyter-widgets/controls",
            "_view_module_version": "1.5.0",
            "_view_name": "HTMLView",
            "description": "",
            "description_tooltip": null,
            "layout": "IPY_MODEL_c654bfd4dada477a8e403041a0e8ec0c",
            "placeholder": "​",
            "style": "IPY_MODEL_cd2a64bc0408495bb9ee28604ed95b62",
            "value": " 935/935 [00:00&lt;00:00, 82.5kB/s]"
          }
        },
        "b81fdaac67a1426db16015a4a35a2ca6": {
          "model_module": "@jupyter-widgets/controls",
          "model_module_version": "1.5.0",
          "model_name": "HTMLModel",
          "state": {
            "_dom_classes": [],
            "_model_module": "@jupyter-widgets/controls",
            "_model_module_version": "1.5.0",
            "_model_name": "HTMLModel",
            "_view_count": null,
            "_view_module": "@jupyter-widgets/controls",
            "_view_module_version": "1.5.0",
            "_view_name": "HTMLView",
            "description": "",
            "description_tooltip": null,
            "layout": "IPY_MODEL_7a8e5166c3934a07ac3813dc893e1901",
            "placeholder": "​",
            "style": "IPY_MODEL_48fb280bf26144cdb313680c4490c070",
            "value": "special_tokens_map.json: 100%"
          }
        },
        "ba97bb8c1989496fa05e2a16a81f2eb2": {
          "model_module": "@jupyter-widgets/controls",
          "model_module_version": "1.5.0",
          "model_name": "DescriptionStyleModel",
          "state": {
            "_model_module": "@jupyter-widgets/controls",
            "_model_module_version": "1.5.0",
            "_model_name": "DescriptionStyleModel",
            "_view_count": null,
            "_view_module": "@jupyter-widgets/base",
            "_view_module_version": "1.2.0",
            "_view_name": "StyleView",
            "description_width": ""
          }
        },
        "bb034ccdce7f4c3fa4cbd9f2e48e0938": {
          "model_module": "@jupyter-widgets/base",
          "model_module_version": "1.2.0",
          "model_name": "LayoutModel",
          "state": {
            "_model_module": "@jupyter-widgets/base",
            "_model_module_version": "1.2.0",
            "_model_name": "LayoutModel",
            "_view_count": null,
            "_view_module": "@jupyter-widgets/base",
            "_view_module_version": "1.2.0",
            "_view_name": "LayoutView",
            "align_content": null,
            "align_items": null,
            "align_self": null,
            "border": null,
            "bottom": null,
            "display": null,
            "flex": null,
            "flex_flow": null,
            "grid_area": null,
            "grid_auto_columns": null,
            "grid_auto_flow": null,
            "grid_auto_rows": null,
            "grid_column": null,
            "grid_gap": null,
            "grid_row": null,
            "grid_template_areas": null,
            "grid_template_columns": null,
            "grid_template_rows": null,
            "height": null,
            "justify_content": null,
            "justify_items": null,
            "left": null,
            "margin": null,
            "max_height": null,
            "max_width": null,
            "min_height": null,
            "min_width": null,
            "object_fit": null,
            "object_position": null,
            "order": null,
            "overflow": null,
            "overflow_x": null,
            "overflow_y": null,
            "padding": null,
            "right": null,
            "top": null,
            "visibility": null,
            "width": null
          }
        },
        "be45248c500b4a73a6fbc45279ddd75b": {
          "model_module": "@jupyter-widgets/controls",
          "model_module_version": "1.5.0",
          "model_name": "DescriptionStyleModel",
          "state": {
            "_model_module": "@jupyter-widgets/controls",
            "_model_module_version": "1.5.0",
            "_model_name": "DescriptionStyleModel",
            "_view_count": null,
            "_view_module": "@jupyter-widgets/base",
            "_view_module_version": "1.2.0",
            "_view_name": "StyleView",
            "description_width": ""
          }
        },
        "bee072042a794c3e9bb876b1b4ae8f85": {
          "model_module": "@jupyter-widgets/controls",
          "model_module_version": "1.5.0",
          "model_name": "HBoxModel",
          "state": {
            "_dom_classes": [],
            "_model_module": "@jupyter-widgets/controls",
            "_model_module_version": "1.5.0",
            "_model_name": "HBoxModel",
            "_view_count": null,
            "_view_module": "@jupyter-widgets/controls",
            "_view_module_version": "1.5.0",
            "_view_name": "HBoxView",
            "box_style": "",
            "children": [
              "IPY_MODEL_5ca14bb598614fb6bebb15b851a5fa07",
              "IPY_MODEL_3fcdb1d9f61449ce90b17005a03fc426",
              "IPY_MODEL_5ee7822dd25d445e89ad0e4d62e05569"
            ],
            "layout": "IPY_MODEL_14b98c43836040a8b6c957d2d8978526"
          }
        },
        "c0493b5c9700482db230efd58197c4ca": {
          "model_module": "@jupyter-widgets/controls",
          "model_module_version": "1.5.0",
          "model_name": "HTMLModel",
          "state": {
            "_dom_classes": [],
            "_model_module": "@jupyter-widgets/controls",
            "_model_module_version": "1.5.0",
            "_model_name": "HTMLModel",
            "_view_count": null,
            "_view_module": "@jupyter-widgets/controls",
            "_view_module_version": "1.5.0",
            "_view_name": "HTMLView",
            "description": "",
            "description_tooltip": null,
            "layout": "IPY_MODEL_6cdfaa555d0e461184a617faecd4b493",
            "placeholder": "​",
            "style": "IPY_MODEL_a96e2e22a3204cf7977d409fa4b42ec4",
            "value": "config.json: 100%"
          }
        },
        "c13268fe59fd420d9359a570b571a0f3": {
          "model_module": "@jupyter-widgets/base",
          "model_module_version": "1.2.0",
          "model_name": "LayoutModel",
          "state": {
            "_model_module": "@jupyter-widgets/base",
            "_model_module_version": "1.2.0",
            "_model_name": "LayoutModel",
            "_view_count": null,
            "_view_module": "@jupyter-widgets/base",
            "_view_module_version": "1.2.0",
            "_view_name": "LayoutView",
            "align_content": null,
            "align_items": null,
            "align_self": null,
            "border": null,
            "bottom": null,
            "display": null,
            "flex": null,
            "flex_flow": null,
            "grid_area": null,
            "grid_auto_columns": null,
            "grid_auto_flow": null,
            "grid_auto_rows": null,
            "grid_column": null,
            "grid_gap": null,
            "grid_row": null,
            "grid_template_areas": null,
            "grid_template_columns": null,
            "grid_template_rows": null,
            "height": null,
            "justify_content": null,
            "justify_items": null,
            "left": null,
            "margin": null,
            "max_height": null,
            "max_width": null,
            "min_height": null,
            "min_width": null,
            "object_fit": null,
            "object_position": null,
            "order": null,
            "overflow": null,
            "overflow_x": null,
            "overflow_y": null,
            "padding": null,
            "right": null,
            "top": null,
            "visibility": null,
            "width": null
          }
        },
        "c5c12d250b64499a8bce59d522d16be5": {
          "model_module": "@jupyter-widgets/base",
          "model_module_version": "1.2.0",
          "model_name": "LayoutModel",
          "state": {
            "_model_module": "@jupyter-widgets/base",
            "_model_module_version": "1.2.0",
            "_model_name": "LayoutModel",
            "_view_count": null,
            "_view_module": "@jupyter-widgets/base",
            "_view_module_version": "1.2.0",
            "_view_name": "LayoutView",
            "align_content": null,
            "align_items": null,
            "align_self": null,
            "border": null,
            "bottom": null,
            "display": null,
            "flex": null,
            "flex_flow": null,
            "grid_area": null,
            "grid_auto_columns": null,
            "grid_auto_flow": null,
            "grid_auto_rows": null,
            "grid_column": null,
            "grid_gap": null,
            "grid_row": null,
            "grid_template_areas": null,
            "grid_template_columns": null,
            "grid_template_rows": null,
            "height": null,
            "justify_content": null,
            "justify_items": null,
            "left": null,
            "margin": null,
            "max_height": null,
            "max_width": null,
            "min_height": null,
            "min_width": null,
            "object_fit": null,
            "object_position": null,
            "order": null,
            "overflow": null,
            "overflow_x": null,
            "overflow_y": null,
            "padding": null,
            "right": null,
            "top": null,
            "visibility": null,
            "width": null
          }
        },
        "c5dc7a8472874a76b2feda9368475ea0": {
          "model_module": "@jupyter-widgets/controls",
          "model_module_version": "1.5.0",
          "model_name": "HBoxModel",
          "state": {
            "_dom_classes": [],
            "_model_module": "@jupyter-widgets/controls",
            "_model_module_version": "1.5.0",
            "_model_name": "HBoxModel",
            "_view_count": null,
            "_view_module": "@jupyter-widgets/controls",
            "_view_module_version": "1.5.0",
            "_view_name": "HBoxView",
            "box_style": "",
            "children": [
              "IPY_MODEL_a697991da0cb4f9381504ee8bd102e84",
              "IPY_MODEL_e8ea264b9ffe4d9bbc8013d28d06bd5a",
              "IPY_MODEL_dd60c17c4edc4ded8f8f3e42e83de8f1"
            ],
            "layout": "IPY_MODEL_a8fab83622a34397b4f1a21d3a330b2a"
          }
        },
        "c654bfd4dada477a8e403041a0e8ec0c": {
          "model_module": "@jupyter-widgets/base",
          "model_module_version": "1.2.0",
          "model_name": "LayoutModel",
          "state": {
            "_model_module": "@jupyter-widgets/base",
            "_model_module_version": "1.2.0",
            "_model_name": "LayoutModel",
            "_view_count": null,
            "_view_module": "@jupyter-widgets/base",
            "_view_module_version": "1.2.0",
            "_view_name": "LayoutView",
            "align_content": null,
            "align_items": null,
            "align_self": null,
            "border": null,
            "bottom": null,
            "display": null,
            "flex": null,
            "flex_flow": null,
            "grid_area": null,
            "grid_auto_columns": null,
            "grid_auto_flow": null,
            "grid_auto_rows": null,
            "grid_column": null,
            "grid_gap": null,
            "grid_row": null,
            "grid_template_areas": null,
            "grid_template_columns": null,
            "grid_template_rows": null,
            "height": null,
            "justify_content": null,
            "justify_items": null,
            "left": null,
            "margin": null,
            "max_height": null,
            "max_width": null,
            "min_height": null,
            "min_width": null,
            "object_fit": null,
            "object_position": null,
            "order": null,
            "overflow": null,
            "overflow_x": null,
            "overflow_y": null,
            "padding": null,
            "right": null,
            "top": null,
            "visibility": null,
            "width": null
          }
        },
        "c8c241cc3c244da78e1b8122558deaf1": {
          "model_module": "@jupyter-widgets/controls",
          "model_module_version": "1.5.0",
          "model_name": "DescriptionStyleModel",
          "state": {
            "_model_module": "@jupyter-widgets/controls",
            "_model_module_version": "1.5.0",
            "_model_name": "DescriptionStyleModel",
            "_view_count": null,
            "_view_module": "@jupyter-widgets/base",
            "_view_module_version": "1.2.0",
            "_view_name": "StyleView",
            "description_width": ""
          }
        },
        "c92e3457683e4e09806dea29c73e54c1": {
          "model_module": "@jupyter-widgets/controls",
          "model_module_version": "1.5.0",
          "model_name": "DescriptionStyleModel",
          "state": {
            "_model_module": "@jupyter-widgets/controls",
            "_model_module_version": "1.5.0",
            "_model_name": "DescriptionStyleModel",
            "_view_count": null,
            "_view_module": "@jupyter-widgets/base",
            "_view_module_version": "1.2.0",
            "_view_name": "StyleView",
            "description_width": ""
          }
        },
        "c9e03be91b814301bbacae220d4f5e15": {
          "model_module": "@jupyter-widgets/base",
          "model_module_version": "1.2.0",
          "model_name": "LayoutModel",
          "state": {
            "_model_module": "@jupyter-widgets/base",
            "_model_module_version": "1.2.0",
            "_model_name": "LayoutModel",
            "_view_count": null,
            "_view_module": "@jupyter-widgets/base",
            "_view_module_version": "1.2.0",
            "_view_name": "LayoutView",
            "align_content": null,
            "align_items": null,
            "align_self": null,
            "border": null,
            "bottom": null,
            "display": null,
            "flex": null,
            "flex_flow": null,
            "grid_area": null,
            "grid_auto_columns": null,
            "grid_auto_flow": null,
            "grid_auto_rows": null,
            "grid_column": null,
            "grid_gap": null,
            "grid_row": null,
            "grid_template_areas": null,
            "grid_template_columns": null,
            "grid_template_rows": null,
            "height": null,
            "justify_content": null,
            "justify_items": null,
            "left": null,
            "margin": null,
            "max_height": null,
            "max_width": null,
            "min_height": null,
            "min_width": null,
            "object_fit": null,
            "object_position": null,
            "order": null,
            "overflow": null,
            "overflow_x": null,
            "overflow_y": null,
            "padding": null,
            "right": null,
            "top": null,
            "visibility": null,
            "width": null
          }
        },
        "cd2a64bc0408495bb9ee28604ed95b62": {
          "model_module": "@jupyter-widgets/controls",
          "model_module_version": "1.5.0",
          "model_name": "DescriptionStyleModel",
          "state": {
            "_model_module": "@jupyter-widgets/controls",
            "_model_module_version": "1.5.0",
            "_model_name": "DescriptionStyleModel",
            "_view_count": null,
            "_view_module": "@jupyter-widgets/base",
            "_view_module_version": "1.2.0",
            "_view_name": "StyleView",
            "description_width": ""
          }
        },
        "cdb36b587e5f40689ebe8b77b94c93e7": {
          "model_module": "@jupyter-widgets/controls",
          "model_module_version": "1.5.0",
          "model_name": "HBoxModel",
          "state": {
            "_dom_classes": [],
            "_model_module": "@jupyter-widgets/controls",
            "_model_module_version": "1.5.0",
            "_model_name": "HBoxModel",
            "_view_count": null,
            "_view_module": "@jupyter-widgets/controls",
            "_view_module_version": "1.5.0",
            "_view_name": "HBoxView",
            "box_style": "",
            "children": [
              "IPY_MODEL_c0493b5c9700482db230efd58197c4ca",
              "IPY_MODEL_576bc12bccac4943890f72789ab2a65c",
              "IPY_MODEL_4f3b74555a294240b219875b715fc907"
            ],
            "layout": "IPY_MODEL_7d768eb49bb245e4b300d90a6d356540"
          }
        },
        "cdf06ac50ccc4287a2580e6e48ded2e5": {
          "model_module": "@jupyter-widgets/controls",
          "model_module_version": "1.5.0",
          "model_name": "DescriptionStyleModel",
          "state": {
            "_model_module": "@jupyter-widgets/controls",
            "_model_module_version": "1.5.0",
            "_model_name": "DescriptionStyleModel",
            "_view_count": null,
            "_view_module": "@jupyter-widgets/base",
            "_view_module_version": "1.2.0",
            "_view_name": "StyleView",
            "description_width": ""
          }
        },
        "cfe8ad7b635b49cd8ee7cee51343b11f": {
          "model_module": "@jupyter-widgets/controls",
          "model_module_version": "1.5.0",
          "model_name": "HTMLModel",
          "state": {
            "_dom_classes": [],
            "_model_module": "@jupyter-widgets/controls",
            "_model_module_version": "1.5.0",
            "_model_name": "HTMLModel",
            "_view_count": null,
            "_view_module": "@jupyter-widgets/controls",
            "_view_module_version": "1.5.0",
            "_view_name": "HTMLView",
            "description": "",
            "description_tooltip": null,
            "layout": "IPY_MODEL_4ef82d6b92bf45a4a6f13a236c0045db",
            "placeholder": "​",
            "style": "IPY_MODEL_05aabe13a0f641caa0568f23a6f2b90b",
            "value": "generation_config.json: 100%"
          }
        },
        "d0693ecd7b3547d7aa3d9a82d3d9f3ce": {
          "model_module": "@jupyter-widgets/base",
          "model_module_version": "1.2.0",
          "model_name": "LayoutModel",
          "state": {
            "_model_module": "@jupyter-widgets/base",
            "_model_module_version": "1.2.0",
            "_model_name": "LayoutModel",
            "_view_count": null,
            "_view_module": "@jupyter-widgets/base",
            "_view_module_version": "1.2.0",
            "_view_name": "LayoutView",
            "align_content": null,
            "align_items": null,
            "align_self": null,
            "border": null,
            "bottom": null,
            "display": null,
            "flex": null,
            "flex_flow": null,
            "grid_area": null,
            "grid_auto_columns": null,
            "grid_auto_flow": null,
            "grid_auto_rows": null,
            "grid_column": null,
            "grid_gap": null,
            "grid_row": null,
            "grid_template_areas": null,
            "grid_template_columns": null,
            "grid_template_rows": null,
            "height": null,
            "justify_content": null,
            "justify_items": null,
            "left": null,
            "margin": null,
            "max_height": null,
            "max_width": null,
            "min_height": null,
            "min_width": null,
            "object_fit": null,
            "object_position": null,
            "order": null,
            "overflow": null,
            "overflow_x": null,
            "overflow_y": null,
            "padding": null,
            "right": null,
            "top": null,
            "visibility": null,
            "width": null
          }
        },
        "d5f2cd4a629f4546adef625571baefe2": {
          "model_module": "@jupyter-widgets/base",
          "model_module_version": "1.2.0",
          "model_name": "LayoutModel",
          "state": {
            "_model_module": "@jupyter-widgets/base",
            "_model_module_version": "1.2.0",
            "_model_name": "LayoutModel",
            "_view_count": null,
            "_view_module": "@jupyter-widgets/base",
            "_view_module_version": "1.2.0",
            "_view_name": "LayoutView",
            "align_content": null,
            "align_items": null,
            "align_self": null,
            "border": null,
            "bottom": null,
            "display": null,
            "flex": null,
            "flex_flow": null,
            "grid_area": null,
            "grid_auto_columns": null,
            "grid_auto_flow": null,
            "grid_auto_rows": null,
            "grid_column": null,
            "grid_gap": null,
            "grid_row": null,
            "grid_template_areas": null,
            "grid_template_columns": null,
            "grid_template_rows": null,
            "height": null,
            "justify_content": null,
            "justify_items": null,
            "left": null,
            "margin": null,
            "max_height": null,
            "max_width": null,
            "min_height": null,
            "min_width": null,
            "object_fit": null,
            "object_position": null,
            "order": null,
            "overflow": null,
            "overflow_x": null,
            "overflow_y": null,
            "padding": null,
            "right": null,
            "top": null,
            "visibility": null,
            "width": null
          }
        },
        "d6710ed1fa6d41bc8796428875ad09a6": {
          "model_module": "@jupyter-widgets/controls",
          "model_module_version": "1.5.0",
          "model_name": "DescriptionStyleModel",
          "state": {
            "_model_module": "@jupyter-widgets/controls",
            "_model_module_version": "1.5.0",
            "_model_name": "DescriptionStyleModel",
            "_view_count": null,
            "_view_module": "@jupyter-widgets/base",
            "_view_module_version": "1.2.0",
            "_view_name": "StyleView",
            "description_width": ""
          }
        },
        "d836ec573784410aa0a04a2211d68d96": {
          "model_module": "@jupyter-widgets/controls",
          "model_module_version": "1.5.0",
          "model_name": "HBoxModel",
          "state": {
            "_dom_classes": [],
            "_model_module": "@jupyter-widgets/controls",
            "_model_module_version": "1.5.0",
            "_model_name": "HBoxModel",
            "_view_count": null,
            "_view_module": "@jupyter-widgets/controls",
            "_view_module_version": "1.5.0",
            "_view_name": "HBoxView",
            "box_style": "",
            "children": [
              "IPY_MODEL_6e15609e964e47a798a138b6d9df0091",
              "IPY_MODEL_19383e72232045eda978405538f371ee",
              "IPY_MODEL_eb03f39a8b5544b0bc2364b8350c9354"
            ],
            "layout": "IPY_MODEL_940f3fcb956e44428fa83265f6d0de93"
          }
        },
        "daed74ea089d4fe7b27136e378f03a60": {
          "model_module": "@jupyter-widgets/controls",
          "model_module_version": "1.5.0",
          "model_name": "HTMLModel",
          "state": {
            "_dom_classes": [],
            "_model_module": "@jupyter-widgets/controls",
            "_model_module_version": "1.5.0",
            "_model_name": "HTMLModel",
            "_view_count": null,
            "_view_module": "@jupyter-widgets/controls",
            "_view_module_version": "1.5.0",
            "_view_name": "HTMLView",
            "description": "",
            "description_tooltip": null,
            "layout": "IPY_MODEL_e28a07bf68a648fd97af21cce10842ce",
            "placeholder": "​",
            "style": "IPY_MODEL_c8c241cc3c244da78e1b8122558deaf1",
            "value": "100%"
          }
        },
        "dc97bb833d664aaa8cf99faeb0cc0118": {
          "model_module": "@jupyter-widgets/base",
          "model_module_version": "1.2.0",
          "model_name": "LayoutModel",
          "state": {
            "_model_module": "@jupyter-widgets/base",
            "_model_module_version": "1.2.0",
            "_model_name": "LayoutModel",
            "_view_count": null,
            "_view_module": "@jupyter-widgets/base",
            "_view_module_version": "1.2.0",
            "_view_name": "LayoutView",
            "align_content": null,
            "align_items": null,
            "align_self": null,
            "border": null,
            "bottom": null,
            "display": null,
            "flex": null,
            "flex_flow": null,
            "grid_area": null,
            "grid_auto_columns": null,
            "grid_auto_flow": null,
            "grid_auto_rows": null,
            "grid_column": null,
            "grid_gap": null,
            "grid_row": null,
            "grid_template_areas": null,
            "grid_template_columns": null,
            "grid_template_rows": null,
            "height": null,
            "justify_content": null,
            "justify_items": null,
            "left": null,
            "margin": null,
            "max_height": null,
            "max_width": null,
            "min_height": null,
            "min_width": null,
            "object_fit": null,
            "object_position": null,
            "order": null,
            "overflow": null,
            "overflow_x": null,
            "overflow_y": null,
            "padding": null,
            "right": null,
            "top": null,
            "visibility": null,
            "width": null
          }
        },
        "dd60c17c4edc4ded8f8f3e42e83de8f1": {
          "model_module": "@jupyter-widgets/controls",
          "model_module_version": "1.5.0",
          "model_name": "HTMLModel",
          "state": {
            "_dom_classes": [],
            "_model_module": "@jupyter-widgets/controls",
            "_model_module_version": "1.5.0",
            "_model_name": "HTMLModel",
            "_view_count": null,
            "_view_module": "@jupyter-widgets/controls",
            "_view_module_version": "1.5.0",
            "_view_name": "HTMLView",
            "description": "",
            "description_tooltip": null,
            "layout": "IPY_MODEL_940ebdc11c974e1386e605bf6f41a5a0",
            "placeholder": "​",
            "style": "IPY_MODEL_c92e3457683e4e09806dea29c73e54c1",
            "value": " 1.84M/1.84M [00:00&lt;00:00, 6.58MB/s]"
          }
        },
        "e28a07bf68a648fd97af21cce10842ce": {
          "model_module": "@jupyter-widgets/base",
          "model_module_version": "1.2.0",
          "model_name": "LayoutModel",
          "state": {
            "_model_module": "@jupyter-widgets/base",
            "_model_module_version": "1.2.0",
            "_model_name": "LayoutModel",
            "_view_count": null,
            "_view_module": "@jupyter-widgets/base",
            "_view_module_version": "1.2.0",
            "_view_name": "LayoutView",
            "align_content": null,
            "align_items": null,
            "align_self": null,
            "border": null,
            "bottom": null,
            "display": null,
            "flex": null,
            "flex_flow": null,
            "grid_area": null,
            "grid_auto_columns": null,
            "grid_auto_flow": null,
            "grid_auto_rows": null,
            "grid_column": null,
            "grid_gap": null,
            "grid_row": null,
            "grid_template_areas": null,
            "grid_template_columns": null,
            "grid_template_rows": null,
            "height": null,
            "justify_content": null,
            "justify_items": null,
            "left": null,
            "margin": null,
            "max_height": null,
            "max_width": null,
            "min_height": null,
            "min_width": null,
            "object_fit": null,
            "object_position": null,
            "order": null,
            "overflow": null,
            "overflow_x": null,
            "overflow_y": null,
            "padding": null,
            "right": null,
            "top": null,
            "visibility": null,
            "width": null
          }
        },
        "e4759a6432d441b2bea9592a5f4964e7": {
          "model_module": "@jupyter-widgets/controls",
          "model_module_version": "1.5.0",
          "model_name": "ProgressStyleModel",
          "state": {
            "_model_module": "@jupyter-widgets/controls",
            "_model_module_version": "1.5.0",
            "_model_name": "ProgressStyleModel",
            "_view_count": null,
            "_view_module": "@jupyter-widgets/base",
            "_view_module_version": "1.2.0",
            "_view_name": "StyleView",
            "bar_color": null,
            "description_width": ""
          }
        },
        "e5b4ada993434cabbf688ab433d4c9a2": {
          "model_module": "@jupyter-widgets/controls",
          "model_module_version": "1.5.0",
          "model_name": "DescriptionStyleModel",
          "state": {
            "_model_module": "@jupyter-widgets/controls",
            "_model_module_version": "1.5.0",
            "_model_name": "DescriptionStyleModel",
            "_view_count": null,
            "_view_module": "@jupyter-widgets/base",
            "_view_module_version": "1.2.0",
            "_view_name": "StyleView",
            "description_width": ""
          }
        },
        "e685bdffaa7943dc848339bf6838f96a": {
          "model_module": "@jupyter-widgets/base",
          "model_module_version": "1.2.0",
          "model_name": "LayoutModel",
          "state": {
            "_model_module": "@jupyter-widgets/base",
            "_model_module_version": "1.2.0",
            "_model_name": "LayoutModel",
            "_view_count": null,
            "_view_module": "@jupyter-widgets/base",
            "_view_module_version": "1.2.0",
            "_view_name": "LayoutView",
            "align_content": null,
            "align_items": null,
            "align_self": null,
            "border": null,
            "bottom": null,
            "display": null,
            "flex": null,
            "flex_flow": null,
            "grid_area": null,
            "grid_auto_columns": null,
            "grid_auto_flow": null,
            "grid_auto_rows": null,
            "grid_column": null,
            "grid_gap": null,
            "grid_row": null,
            "grid_template_areas": null,
            "grid_template_columns": null,
            "grid_template_rows": null,
            "height": null,
            "justify_content": null,
            "justify_items": null,
            "left": null,
            "margin": null,
            "max_height": null,
            "max_width": null,
            "min_height": null,
            "min_width": null,
            "object_fit": null,
            "object_position": null,
            "order": null,
            "overflow": null,
            "overflow_x": null,
            "overflow_y": null,
            "padding": null,
            "right": null,
            "top": null,
            "visibility": null,
            "width": null
          }
        },
        "e6b344a3f15346e5b39451eba9c51f9c": {
          "model_module": "@jupyter-widgets/controls",
          "model_module_version": "1.5.0",
          "model_name": "ProgressStyleModel",
          "state": {
            "_model_module": "@jupyter-widgets/controls",
            "_model_module_version": "1.5.0",
            "_model_name": "ProgressStyleModel",
            "_view_count": null,
            "_view_module": "@jupyter-widgets/base",
            "_view_module_version": "1.2.0",
            "_view_name": "StyleView",
            "bar_color": null,
            "description_width": ""
          }
        },
        "e6bf1c0988024f6fac334e1ba8e6f67b": {
          "model_module": "@jupyter-widgets/controls",
          "model_module_version": "1.5.0",
          "model_name": "ProgressStyleModel",
          "state": {
            "_model_module": "@jupyter-widgets/controls",
            "_model_module_version": "1.5.0",
            "_model_name": "ProgressStyleModel",
            "_view_count": null,
            "_view_module": "@jupyter-widgets/base",
            "_view_module_version": "1.2.0",
            "_view_name": "StyleView",
            "bar_color": null,
            "description_width": ""
          }
        },
        "e6c921cab5e4491dbdb3932106cc6df7": {
          "model_module": "@jupyter-widgets/controls",
          "model_module_version": "1.5.0",
          "model_name": "FloatProgressModel",
          "state": {
            "_dom_classes": [],
            "_model_module": "@jupyter-widgets/controls",
            "_model_module_version": "1.5.0",
            "_model_name": "FloatProgressModel",
            "_view_count": null,
            "_view_module": "@jupyter-widgets/controls",
            "_view_module_version": "1.5.0",
            "_view_name": "ProgressView",
            "bar_style": "success",
            "description": "",
            "description_tooltip": null,
            "layout": "IPY_MODEL_6f17287919154f10aa0c92e1fecc5f98",
            "max": 72,
            "min": 0,
            "orientation": "horizontal",
            "style": "IPY_MODEL_538c46eab2774225a00caafc72a6a3f1",
            "value": 72
          }
        },
        "e8ea264b9ffe4d9bbc8013d28d06bd5a": {
          "model_module": "@jupyter-widgets/controls",
          "model_module_version": "1.5.0",
          "model_name": "FloatProgressModel",
          "state": {
            "_dom_classes": [],
            "_model_module": "@jupyter-widgets/controls",
            "_model_module_version": "1.5.0",
            "_model_name": "FloatProgressModel",
            "_view_count": null,
            "_view_module": "@jupyter-widgets/controls",
            "_view_module_version": "1.5.0",
            "_view_name": "ProgressView",
            "bar_style": "success",
            "description": "",
            "description_tooltip": null,
            "layout": "IPY_MODEL_8bda08c3ef0b4983a9b78497767a5487",
            "max": 1842767,
            "min": 0,
            "orientation": "horizontal",
            "style": "IPY_MODEL_29668e74ae4e4adbae5f09a4fe4cc95e",
            "value": 1842767
          }
        },
        "eb03f39a8b5544b0bc2364b8350c9354": {
          "model_module": "@jupyter-widgets/controls",
          "model_module_version": "1.5.0",
          "model_name": "HTMLModel",
          "state": {
            "_dom_classes": [],
            "_model_module": "@jupyter-widgets/controls",
            "_model_module_version": "1.5.0",
            "_model_name": "HTMLModel",
            "_view_count": null,
            "_view_module": "@jupyter-widgets/controls",
            "_view_module_version": "1.5.0",
            "_view_name": "HTMLView",
            "description": "",
            "description_tooltip": null,
            "layout": "IPY_MODEL_1c1cee1566c54619a4703966f9a2e06e",
            "placeholder": "​",
            "style": "IPY_MODEL_ba97bb8c1989496fa05e2a16a81f2eb2",
            "value": " 319/319 [00:00&lt;00:00, 31.1kB/s]"
          }
        },
        "f0741e11f7b7494f97a94eaff6cc253b": {
          "model_module": "@jupyter-widgets/base",
          "model_module_version": "1.2.0",
          "model_name": "LayoutModel",
          "state": {
            "_model_module": "@jupyter-widgets/base",
            "_model_module_version": "1.2.0",
            "_model_name": "LayoutModel",
            "_view_count": null,
            "_view_module": "@jupyter-widgets/base",
            "_view_module_version": "1.2.0",
            "_view_name": "LayoutView",
            "align_content": null,
            "align_items": null,
            "align_self": null,
            "border": null,
            "bottom": null,
            "display": null,
            "flex": null,
            "flex_flow": null,
            "grid_area": null,
            "grid_auto_columns": null,
            "grid_auto_flow": null,
            "grid_auto_rows": null,
            "grid_column": null,
            "grid_gap": null,
            "grid_row": null,
            "grid_template_areas": null,
            "grid_template_columns": null,
            "grid_template_rows": null,
            "height": null,
            "justify_content": null,
            "justify_items": null,
            "left": null,
            "margin": null,
            "max_height": null,
            "max_width": null,
            "min_height": null,
            "min_width": null,
            "object_fit": null,
            "object_position": null,
            "order": null,
            "overflow": null,
            "overflow_x": null,
            "overflow_y": null,
            "padding": null,
            "right": null,
            "top": null,
            "visibility": null,
            "width": null
          }
        },
        "f554932a1edc43f69645c7c663ee13b1": {
          "model_module": "@jupyter-widgets/controls",
          "model_module_version": "1.5.0",
          "model_name": "FloatProgressModel",
          "state": {
            "_dom_classes": [],
            "_model_module": "@jupyter-widgets/controls",
            "_model_module_version": "1.5.0",
            "_model_name": "FloatProgressModel",
            "_view_count": null,
            "_view_module": "@jupyter-widgets/controls",
            "_view_module_version": "1.5.0",
            "_view_name": "ProgressView",
            "bar_style": "success",
            "description": "",
            "description_tooltip": null,
            "layout": "IPY_MODEL_661e5d3b272d4ad7b41da821c1936575",
            "max": 2335022,
            "min": 0,
            "orientation": "horizontal",
            "style": "IPY_MODEL_e4759a6432d441b2bea9592a5f4964e7",
            "value": 2335022
          }
        },
        "f830c973875f4fd38720acd5daff80d7": {
          "model_module": "@jupyter-widgets/controls",
          "model_module_version": "1.5.0",
          "model_name": "HBoxModel",
          "state": {
            "_dom_classes": [],
            "_model_module": "@jupyter-widgets/controls",
            "_model_module_version": "1.5.0",
            "_model_name": "HBoxModel",
            "_view_count": null,
            "_view_module": "@jupyter-widgets/controls",
            "_view_module_version": "1.5.0",
            "_view_name": "HBoxView",
            "box_style": "",
            "children": [
              "IPY_MODEL_1873efa5b3ca4c2681651cc142ccf498",
              "IPY_MODEL_ac4873c1c3694c88979b737f1a5ad92b",
              "IPY_MODEL_88a3bd9c899d4033a8ab081d2ce2c57e"
            ],
            "layout": "IPY_MODEL_968a8ef460b7467481c20f1e1563c430"
          }
        },
        "fd273516065b40eb8dc7b1aae942c7df": {
          "model_module": "@jupyter-widgets/controls",
          "model_module_version": "1.5.0",
          "model_name": "DescriptionStyleModel",
          "state": {
            "_model_module": "@jupyter-widgets/controls",
            "_model_module_version": "1.5.0",
            "_model_name": "DescriptionStyleModel",
            "_view_count": null,
            "_view_module": "@jupyter-widgets/base",
            "_view_module_version": "1.2.0",
            "_view_name": "StyleView",
            "description_width": ""
          }
        },
        "fe940a50c8f44b7dac49b0c0d3683b58": {
          "model_module": "@jupyter-widgets/controls",
          "model_module_version": "1.5.0",
          "model_name": "FloatProgressModel",
          "state": {
            "_dom_classes": [],
            "_model_module": "@jupyter-widgets/controls",
            "_model_module_version": "1.5.0",
            "_model_name": "FloatProgressModel",
            "_view_count": null,
            "_view_module": "@jupyter-widgets/controls",
            "_view_module_version": "1.5.0",
            "_view_name": "ProgressView",
            "bar_style": "success",
            "description": "",
            "description_tooltip": null,
            "layout": "IPY_MODEL_e685bdffaa7943dc848339bf6838f96a",
            "max": 124,
            "min": 0,
            "orientation": "horizontal",
            "style": "IPY_MODEL_82cc9d7a12024049af6c02253040bbe2",
            "value": 124
          }
        },
        "fff6ff7af31343048332ca9686ee6ce7": {
          "model_module": "@jupyter-widgets/base",
          "model_module_version": "1.2.0",
          "model_name": "LayoutModel",
          "state": {
            "_model_module": "@jupyter-widgets/base",
            "_model_module_version": "1.2.0",
            "_model_name": "LayoutModel",
            "_view_count": null,
            "_view_module": "@jupyter-widgets/base",
            "_view_module_version": "1.2.0",
            "_view_name": "LayoutView",
            "align_content": null,
            "align_items": null,
            "align_self": null,
            "border": null,
            "bottom": null,
            "display": null,
            "flex": null,
            "flex_flow": null,
            "grid_area": null,
            "grid_auto_columns": null,
            "grid_auto_flow": null,
            "grid_auto_rows": null,
            "grid_column": null,
            "grid_gap": null,
            "grid_row": null,
            "grid_template_areas": null,
            "grid_template_columns": null,
            "grid_template_rows": null,
            "height": null,
            "justify_content": null,
            "justify_items": null,
            "left": null,
            "margin": null,
            "max_height": null,
            "max_width": null,
            "min_height": null,
            "min_width": null,
            "object_fit": null,
            "object_position": null,
            "order": null,
            "overflow": null,
            "overflow_x": null,
            "overflow_y": null,
            "padding": null,
            "right": null,
            "top": null,
            "visibility": null,
            "width": null
          }
        }
      }
    }
  },
  "nbformat": 4,
  "nbformat_minor": 0
}
